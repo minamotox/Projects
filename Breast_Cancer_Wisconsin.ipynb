{
 "cells": [
  {
   "cell_type": "markdown",
   "id": "14948a36-4550-457c-924f-2f9e30e980da",
   "metadata": {
    "id": "W3TnUrnbueAY"
   },
   "source": [
    "# Project Breast Cancer detection in Wisconsin #\n"
   ]
  },
  {
   "cell_type": "code",
   "execution_count": null,
   "id": "42d280d4-cf40-4fc7-8987-905349d7a95b",
   "metadata": {
    "colab": {
     "base_uri": "https://localhost:8080/"
    },
    "executionInfo": {
     "elapsed": 17,
     "status": "ok",
     "timestamp": 1692108434426,
     "user": {
      "displayName": "Amine Hamouda",
      "userId": "06406683403374065678"
     },
     "user_tz": -60
    },
    "id": "khou0tidueAZ",
    "outputId": "041b24e9-8d86-4422-f8f2-dc1437503559"
   },
   "outputs": [],
   "source": [
    "import numpy as np\n",
    "import pandas as pd\n",
    "import sklearn\n",
    "import seaborn as sns\n",
    "import matplotlib.pyplot as plt\n",
    "sns.set_style('whitegrid')\n",
    "%matplotlib inline\n",
    "import sys\n",
    "import matplotlib\n",
    "\n",
    "print('python:',sys.version)\n",
    "print('Numpy:',np.__version__)\n",
    "print('Pandas:',pd.__version__)\n",
    "print('Scikitlearn:',sklearn.__version__)\n",
    "print('Seaborn: ',sns.__version__)\n",
    "print('matplotlib:',matplotlib.__version__)\n"
   ]
  },
  {
   "cell_type": "code",
   "execution_count": null,
   "id": "fb35118e-c166-45c1-a3e0-38e941b3457a",
   "metadata": {
    "executionInfo": {
     "elapsed": 289,
     "status": "ok",
     "timestamp": 1692109712185,
     "user": {
      "displayName": "Amine Hamouda",
      "userId": "06406683403374065678"
     },
     "user_tz": -60
    },
    "id": "n6U8dNVpueAa"
   },
   "outputs": [],
   "source": [
    "Cancer = pd.read_csv(r'breast-cancer-wisconsin.csv')"
   ]
  },
  {
   "cell_type": "code",
   "execution_count": null,
   "id": "3565cf61-3a12-47ac-ab27-ad66c4ac0599",
   "metadata": {
    "id": "R0mjQmX3ueAb"
   },
   "outputs": [],
   "source": [
    "Cancer.info()\n",
    "Cancer.describe()\n",
    "#Cancer['diagnosis'].value_counts()\n"
   ]
  },
  {
   "cell_type": "code",
   "execution_count": null,
   "id": "d1e4a2de-d86a-4255-b46b-32e0c3f9519f",
   "metadata": {
    "colab": {
     "base_uri": "https://localhost:8080/"
    },
    "executionInfo": {
     "elapsed": 299,
     "status": "ok",
     "timestamp": 1692109742035,
     "user": {
      "displayName": "Amine Hamouda",
      "userId": "06406683403374065678"
     },
     "user_tz": -60
    },
    "id": "wMp4lDyCueAb",
    "outputId": "61916314-f1d5-403d-eb6e-18807dbdaccd"
   },
   "outputs": [],
   "source": [
    "col_=Cancer.columns\n",
    "col=list(col_)\n",
    "col\n"
   ]
  },
  {
   "cell_type": "code",
   "execution_count": null,
   "id": "34c92fca-806b-4988-b642-990a319b2463",
   "metadata": {
    "colab": {
     "base_uri": "https://localhost:8080/",
     "height": 707
    },
    "executionInfo": {
     "elapsed": 5273,
     "status": "ok",
     "timestamp": 1692109750424,
     "user": {
      "displayName": "Amine Hamouda",
      "userId": "06406683403374065678"
     },
     "user_tz": -60
    },
    "id": "nYbMP1R_ueAc",
    "outputId": "e0919033-a884-470a-d351-5c4a6a1c65c3"
   },
   "outputs": [],
   "source": [
    "plt.figure(figsize=(20, 10))\n",
    "sns.heatmap(Cancer[col].corr(), annot=True, fmt='.3f')\n"
   ]
  },
  {
   "cell_type": "markdown",
   "id": "0ad9ee19-04a5-4a00-b940-4d26e37646ff",
   "metadata": {
    "id": "fvOGae0MueAd"
   },
   "source": [
    "## 1) Preprocessing ##"
   ]
  },
  {
   "cell_type": "code",
   "execution_count": null,
   "id": "5734128c-b4a2-4f97-ad11-be989b3eaa75",
   "metadata": {
    "colab": {
     "base_uri": "https://localhost:8080/"
    },
    "executionInfo": {
     "elapsed": 361,
     "status": "ok",
     "timestamp": 1692109764572,
     "user": {
      "displayName": "Amine Hamouda",
      "userId": "06406683403374065678"
     },
     "user_tz": -60
    },
    "id": "5W1_J5elueAd",
    "outputId": "7b7a3793-b0f0-44c5-dca2-05693e7ba0ce"
   },
   "outputs": [],
   "source": [
    "\n",
    "col_categorical=list(set(col).difference(Cancer.describe()))\n",
    "col_categorical\n"
   ]
  },
  {
   "cell_type": "code",
   "execution_count": null,
   "id": "d139527c-7d79-4ab4-a1f8-dc38c74d8cd0",
   "metadata": {
    "executionInfo": {
     "elapsed": 17,
     "status": "ok",
     "timestamp": 1692109764574,
     "user": {
      "displayName": "Amine Hamouda",
      "userId": "06406683403374065678"
     },
     "user_tz": -60
    },
    "id": "HhwBVbvkueAe"
   },
   "outputs": [],
   "source": [
    "#Cancer.drop(['Unnamed:32','id'],axis=1)\n",
    "key={'B':0, 'M':1}\n",
    "Cancer['Diag']=Cancer['diagnosis'].map(key)\n"
   ]
  },
  {
   "cell_type": "code",
   "execution_count": null,
   "id": "5dc72572-b5cb-4361-8b51-c98ee303502c",
   "metadata": {
    "colab": {
     "base_uri": "https://localhost:8080/",
     "height": 505
    },
    "executionInfo": {
     "elapsed": 359,
     "status": "ok",
     "timestamp": 1692109764917,
     "user": {
      "displayName": "Amine Hamouda",
      "userId": "06406683403374065678"
     },
     "user_tz": -60
    },
    "id": "EwtRiTjIueAf",
    "outputId": "e77a789d-12ed-4f06-c93d-c39ce6b79fa7"
   },
   "outputs": [],
   "source": [
    "Cancer2=Cancer.drop(['Unnamed: 32', 'id', 'diagnosis'], axis=1)\n",
    "Cancer2\n"
   ]
  },
  {
   "cell_type": "code",
   "execution_count": null,
   "id": "2a94a435-ef41-4a7e-9f03-937c0a23f1b9",
   "metadata": {
    "colab": {
     "base_uri": "https://localhost:8080/",
     "height": 411
    },
    "executionInfo": {
     "elapsed": 311,
     "status": "ok",
     "timestamp": 1692110690828,
     "user": {
      "displayName": "Amine Hamouda",
      "userId": "06406683403374065678"
     },
     "user_tz": -60
    },
    "id": "UHzC_ncEueAf",
    "outputId": "77eea537-504d-4d7c-fa47-afd2a82e3028"
   },
   "outputs": [],
   "source": [
    "X=Cancer2.iloc[:,:30]\n",
    "Y=Cancer2['Diag']\n",
    "X.describe()\n"
   ]
  },
  {
   "cell_type": "code",
   "execution_count": null,
   "id": "9546d940-d11b-4061-b58a-2f2740fef1d7",
   "metadata": {
    "colab": {
     "base_uri": "https://localhost:8080/",
     "height": 411
    },
    "executionInfo": {
     "elapsed": 292,
     "status": "ok",
     "timestamp": 1692110713710,
     "user": {
      "displayName": "Amine Hamouda",
      "userId": "06406683403374065678"
     },
     "user_tz": -60
    },
    "id": "VT48lVafueAg",
    "outputId": "a92153ad-6c9a-4ab9-90d8-49f53fbf8c18"
   },
   "outputs": [],
   "source": [
    "from sklearn.preprocessing import StandardScaler\n",
    "\n",
    "scale = pd.DataFrame(StandardScaler().fit_transform(X),columns=X.columns)\n",
    "scale.describe()\n"
   ]
  },
  {
   "cell_type": "code",
   "execution_count": null,
   "id": "e5a944e3-21eb-4568-be19-8c9dbbee508d",
   "metadata": {
    "executionInfo": {
     "elapsed": 284,
     "status": "ok",
     "timestamp": 1692110982478,
     "user": {
      "displayName": "Amine Hamouda",
      "userId": "06406683403374065678"
     },
     "user_tz": -60
    },
    "id": "iSVCdiJZueAg"
   },
   "outputs": [],
   "source": [
    "from sklearn.model_selection import train_test_split\n",
    "\n",
    "X_train,X_test,Y_train, Y_test=train_test_split(scale,Y,random_state=69,test_size=0.4)\n"
   ]
  },
  {
   "cell_type": "code",
   "execution_count": null,
   "id": "55bd51f6-3228-44ce-9a44-28af68fb6f42",
   "metadata": {
    "id": "5NZp0Eaf3xWz"
   },
   "outputs": [],
   "source": [
    "np.info(Y_test)\n",
    "#X_train\n",
    "Y_test\n"
   ]
  },
  {
   "cell_type": "code",
   "execution_count": null,
   "id": "40e8eb2b-a094-4f6a-aab1-cd756c9e37eb",
   "metadata": {
    "executionInfo": {
     "elapsed": 249,
     "status": "ok",
     "timestamp": 1692112549856,
     "user": {
      "displayName": "Amine Hamouda",
      "userId": "06406683403374065678"
     },
     "user_tz": -60
    },
    "id": "7ErvgSbvueAi"
   },
   "outputs": [],
   "source": [
    "from sklearn import preprocessing\n",
    "from sklearn.model_selection import cross_val_score, cross_val_predict\n",
    "from sklearn.metrics import accuracy_score, classification_report\n",
    "from sklearn.metrics import confusion_matrix, roc_auc_score\n",
    "\n",
    "def print_score(clf, X_train, X_test, Y_train, Y_test, train=True):\n",
    "    \"Print the accuracy score, Classification report and confusion matrix\"\n",
    "    LB=preprocessing.LabelBinarizer()\n",
    "    LB.fit(Y_train)\n",
    "    if train:\n",
    "        \"Train performance\"\n",
    "        res=clf.predict(X_train)\n",
    "        print(f'Train Results:\\n')\n",
    "        print(f'Accuracy Score: %.4f \\n' % (accuracy_score(Y_train,res)))\n",
    "        print(f'ROC AUC Score:%.4f'%(roc_auc_score(LB.transform(Y_train),LB.transform(res))))\n",
    "        print(f'Classification report:\\n {classification_report(Y_train,res)}')\n",
    "        print(f'Confusion Matrix Score: {confusion_matrix(Y_train,res)}')\n",
    "\n",
    "        res=cross_val_score(clf,X_train, Y_train, cv=10, scoring='accuracy')\n",
    "        print('Cross Val. average accuracy \\t: %.4f'%(np.mean(res)))\n",
    "        print('Cross Val. accuracy SD \\t: %.4f '% (np.std(res)))\n",
    "\n",
    "\n",
    "    elif train==False:\n",
    "        \"Test performance\"\n",
    "        res_test=clf.predict(X_test)\n",
    "        print(f'Test Results:\\n')\n",
    "        print('Accuracy Score: %.4f \\n'%(accuracy_score(Y_test,res_test)))\n",
    "        print('ROC AUC Score: %.4f\\n'%(roc_auc_score(Y_test,res_test)))\n",
    "        print(f'Classification report:\\n {classification_report(Y_test,res_test)}')\n",
    "        print(f'Confusion Matrix Score: {confusion_matrix(Y_test,res_test)}')\n",
    "        print('Cross Val. average accuracy \\t: %.4f'%(np.mean(res_test)))\n",
    "        print('Cross Val. average accuracy SD \\t: %.4f '% (np.std(res_test)))\n",
    "\n",
    "\n"
   ]
  },
  {
   "cell_type": "markdown",
   "id": "eeb277c8-38f7-4029-97f9-41cdd2d57489",
   "metadata": {
    "id": "Colq3gRMueAi"
   },
   "source": [
    "## 2) Model Fitting ##"
   ]
  },
  {
   "cell_type": "markdown",
   "id": "051f0a29-9637-4a8b-9280-df61ee55c6bb",
   "metadata": {
    "id": "1DnFM-Gox8Mp"
   },
   "source": [
    "### a \\ Decision Tree: ###"
   ]
  },
  {
   "cell_type": "code",
   "execution_count": null,
   "id": "bb696413-af7c-4312-a39c-701555d69fc1",
   "metadata": {
    "colab": {
     "base_uri": "https://localhost:8080/",
     "height": 74
    },
    "executionInfo": {
     "elapsed": 301,
     "status": "ok",
     "timestamp": 1692112567567,
     "user": {
      "displayName": "Amine Hamouda",
      "userId": "06406683403374065678"
     },
     "user_tz": -60
    },
    "id": "TjQqGparueAj",
    "outputId": "638a5120-e4be-4f9c-8a32-f4e55bf68adb"
   },
   "outputs": [],
   "source": [
    "from sklearn.tree import DecisionTreeClassifier\n",
    "\n",
    "DT_clf=DecisionTreeClassifier(random_state=24)\n",
    "DT_clf.fit(X_train, Y_train.ravel())\n"
   ]
  },
  {
   "cell_type": "code",
   "execution_count": null,
   "id": "9d61a193-5e2b-49e6-a334-c0c7413302f4",
   "metadata": {
    "colab": {
     "base_uri": "https://localhost:8080/"
    },
    "executionInfo": {
     "elapsed": 960,
     "status": "ok",
     "timestamp": 1692112859185,
     "user": {
      "displayName": "Amine Hamouda",
      "userId": "06406683403374065678"
     },
     "user_tz": -60
    },
    "id": "9BewfZg3ueAk",
    "outputId": "cd871fbc-ac93-48f6-8f34-2cf130eb1d83"
   },
   "outputs": [],
   "source": [
    "print(f' {print_score(DT_clf, X_train, X_test, Y_train.ravel(), Y_test.ravel(), train=True)}')\n",
    "print(f'\\n ----------------------------------------------->\\n')\n",
    "print(f'{print_score(DT_clf, X_train, X_test, Y_train.ravel(), Y_test.ravel(), train=False)}')\n"
   ]
  },
  {
   "cell_type": "markdown",
   "id": "05212145-d279-4c1c-bf78-52db8c76d923",
   "metadata": {
    "id": "66avp3j4wW9B"
   },
   "source": [
    "### b \\ Random Forest: ###"
   ]
  },
  {
   "cell_type": "code",
   "execution_count": null,
   "id": "adb63cf4-83a0-4fac-83de-15c3cb99a41a",
   "metadata": {
    "colab": {
     "base_uri": "https://localhost:8080/",
     "height": 74
    },
    "executionInfo": {
     "elapsed": 318,
     "status": "ok",
     "timestamp": 1692112580699,
     "user": {
      "displayName": "Amine Hamouda",
      "userId": "06406683403374065678"
     },
     "user_tz": -60
    },
    "id": "js02-A2iwg30",
    "outputId": "ed40cde3-4e92-4999-93a8-fee1999ba4fb"
   },
   "outputs": [],
   "source": [
    "from sklearn.ensemble import AdaBoostClassifier\n",
    "from sklearn.ensemble import RandomForestClassifier\n",
    "\n",
    "RF_clf=RandomForestClassifier(n_estimators=100)\n",
    "RF_clf.fit(X_train, Y_train.ravel())\n"
   ]
  },
  {
   "cell_type": "code",
   "execution_count": null,
   "id": "05629940-0e80-43dc-8877-b391a05b5785",
   "metadata": {
    "colab": {
     "base_uri": "https://localhost:8080/"
    },
    "executionInfo": {
     "elapsed": 5285,
     "status": "ok",
     "timestamp": 1692113477108,
     "user": {
      "displayName": "Amine Hamouda",
      "userId": "06406683403374065678"
     },
     "user_tz": -60
    },
    "id": "qOOpNQ-Yw3Bt",
    "outputId": "b6e929ef-559a-4fc6-d794-ce5143de476a"
   },
   "outputs": [],
   "source": [
    "print(f' {print_score(RF_clf, X_train, X_test, Y_train.ravel(), Y_test.ravel(), train=True)}')\n",
    "print(f'\\n ---------------------------------------\\n')\n",
    "print(f'{print_score(RF_clf, X_train, X_test, Y_train.ravel(), Y_test.ravel(), train=False)}')\n"
   ]
  },
  {
   "cell_type": "markdown",
   "id": "e46b3e4f-adc2-4623-b03d-832aef7aebf7",
   "metadata": {
    "id": "kfTgvgpt0pvB"
   },
   "source": [
    "### C\\ Bagging + Decision Tree ###"
   ]
  },
  {
   "cell_type": "code",
   "execution_count": null,
   "id": "09c3a8d9-d6c6-42a7-9507-a7180a74bdcd",
   "metadata": {
    "colab": {
     "base_uri": "https://localhost:8080/",
     "height": 117
    },
    "executionInfo": {
     "elapsed": 9867,
     "status": "ok",
     "timestamp": 1692113649341,
     "user": {
      "displayName": "Amine Hamouda",
      "userId": "06406683403374065678"
     },
     "user_tz": -60
    },
    "id": "gORMNjEe04dr",
    "outputId": "89495fc8-e191-45dc-c934-56b71c50a222"
   },
   "outputs": [],
   "source": [
    "from sklearn.ensemble import BaggingClassifier\n",
    "\n",
    "bag_clf=BaggingClassifier(estimator=DT_clf, n_estimators=100, bootstrap=True,\n",
    "                          oob_score=False, n_jobs=-1, random_state=42)\n",
    "bag_clf.fit(X_train, Y_train.ravel())\n"
   ]
  },
  {
   "cell_type": "code",
   "execution_count": null,
   "id": "daff00ea-460a-44ba-bc22-b154f2ebe46c",
   "metadata": {
    "colab": {
     "base_uri": "https://localhost:8080/"
    },
    "executionInfo": {
     "elapsed": 60213,
     "status": "ok",
     "timestamp": 1692113725916,
     "user": {
      "displayName": "Amine Hamouda",
      "userId": "06406683403374065678"
     },
     "user_tz": -60
    },
    "id": "FIvP2N4p1RU9",
    "outputId": "d2de457f-db90-4bf1-cf21-202b012f8723"
   },
   "outputs": [],
   "source": [
    "print(f' {print_score(bag_clf, X_train, X_test, Y_train.ravel(), Y_test.ravel(), train=True)}')\n",
    "print(f'\\n ---------------------------------------\\n')\n",
    "print(f'{print_score(bag_clf, X_train, X_test, Y_train.ravel(), Y_test.ravel(), train=False)}')\n"
   ]
  },
  {
   "cell_type": "markdown",
   "id": "ed82c0f0-a04b-4117-bf05-fa7c226a920d",
   "metadata": {
    "id": "nLgU6i0Zxo7o"
   },
   "source": [
    "### D \\ AdaBoost + Random Forest: ###"
   ]
  },
  {
   "cell_type": "code",
   "execution_count": null,
   "id": "da389361-fdc9-4a75-8fa2-06d754f7542d",
   "metadata": {
    "id": "DwPYHv1Hw4uc"
   },
   "outputs": [],
   "source": [
    "Ada_RF=AdaBoostClassifier(RandomForestClassifier(n_estimators=200), n_estimators=100)\n",
    "Ada_RF.fit(X_train, Y_train.ravel())\n"
   ]
  },
  {
   "cell_type": "code",
   "execution_count": null,
   "id": "159a7530-4995-4290-af51-a3e9a98688bc",
   "metadata": {
    "id": "j9CsluQ7xuPz"
   },
   "outputs": [],
   "source": [
    "print(f' {print_score(Ada_RF, X_train, X_test, Y_train.ravel(), Y_test.ravel(), train=True)}')\n",
    "print(f'\\n ---------------------------------------\\n')\n",
    "print(f'{print_score(Ada_RF, X_train, X_test, Y_train.ravel(), Y_test.ravel(), train=False)}')\n"
   ]
  },
  {
   "cell_type": "markdown",
   "id": "f4e4e573-dde9-4f25-b25c-1f64852e32e4",
   "metadata": {
    "id": "Rr02AJXY3ki6"
   },
   "source": [
    "### E\\ KNN + Grid Search : ###"
   ]
  },
  {
   "cell_type": "code",
   "execution_count": null,
   "id": "c9fbb665-e0f1-4523-b3ac-065b4785fe7c",
   "metadata": {
    "colab": {
     "base_uri": "https://localhost:8080/",
     "height": 74
    },
    "executionInfo": {
     "elapsed": 292,
     "status": "ok",
     "timestamp": 1692114489732,
     "user": {
      "displayName": "Amine Hamouda",
      "userId": "06406683403374065678"
     },
     "user_tz": -60
    },
    "id": "hJ6j_Vuy3i_T",
    "outputId": "22676bdf-1b36-4c1b-c29f-e4ab1d1faed0"
   },
   "outputs": [],
   "source": [
    "from sklearn.neighbors import KNeighborsClassifier\n",
    "\n",
    "knn = KNeighborsClassifier(n_neighbors=5,p=2, metric='minkowski')\n",
    "knn.fit(X_train, Y_train)\n"
   ]
  },
  {
   "cell_type": "code",
   "execution_count": null,
   "id": "ab95374e-ed23-4eca-a70e-89c789585d50",
   "metadata": {
    "colab": {
     "base_uri": "https://localhost:8080/"
    },
    "executionInfo": {
     "elapsed": 689,
     "status": "ok",
     "timestamp": 1692114517951,
     "user": {
      "displayName": "Amine Hamouda",
      "userId": "06406683403374065678"
     },
     "user_tz": -60
    },
    "id": "xpZyI9w14eUL",
    "outputId": "b3533083-1af9-494e-f8ca-5853bb6f9696"
   },
   "outputs": [],
   "source": [
    "print(f' {print_score(knn, X_train, X_test, Y_train.ravel(), Y_test.ravel(), train=True)}')\n",
    "print(f'\\n ---------------------------------------\\n')\n",
    "print(f'{print_score(knn, X_train, X_test, Y_train.ravel(), Y_test.ravel(), train=False)}')\n"
   ]
  },
  {
   "cell_type": "markdown",
   "id": "b32a2faf-05f9-47a4-8454-abd230bcb452",
   "metadata": {
    "id": "RJztbP_s4np5"
   },
   "source": [
    "### Grid Search : ###"
   ]
  },
  {
   "cell_type": "code",
   "execution_count": null,
   "id": "bb35df6b-2165-49fe-a232-a0faaa29dcd8",
   "metadata": {},
   "outputs": [],
   "source": [
    "from sklearn.model_selection import GridSearchCV\n",
    "\n",
    "knn.get_params()\n"
   ]
  },
  {
   "cell_type": "code",
   "execution_count": null,
   "id": "06d9ae31-371b-4d39-9cd1-4e0a95b82056",
   "metadata": {},
   "outputs": [],
   "source": [
    "params = {'n_neighbors': [1, 2, 3, 4, 5,6,7,8,9,10]}\n",
    "grid_search_cv = GridSearchCV(KNeighborsClassifier(),\n",
    "                              params, \n",
    "                              n_jobs=-1,\n",
    "                              verbose=1)\n",
    "grid_search_cv.fit(X_train, Y_train)\n",
    "grid_search_cv.best_estimator_\n"
   ]
  },
  {
   "cell_type": "code",
   "execution_count": null,
   "id": "11b018c8-e96b-48b5-8284-a39b6674bab3",
   "metadata": {},
   "outputs": [],
   "source": [
    "print(f' {print_score(grid_search_cv, X_train, X_test, Y_train.ravel(), Y_test.ravel(), train=True)}')\n",
    "print(f'\\n ---------------------------------------\\n')\n",
    "print(f'{print_score(grid_search_cv, X_train, X_test, Y_train.ravel(), Y_test.ravel(), train=False)}')\n"
   ]
  },
  {
   "cell_type": "markdown",
   "id": "0cdcdd9f-c607-4a8b-b44a-4720f8a988a7",
   "metadata": {},
   "source": [
    "### In conclusion: ###\n",
    "best score is wth a model built with Decision Tree algorithm, best True positive prediction:<br>\n",
    "f1= 91%"
   ]
  }
 ],
 "metadata": {
  "kernelspec": {
   "display_name": "Python 3 (ipykernel)",
   "language": "python",
   "name": "python3"
  },
  "language_info": {
   "codemirror_mode": {
    "name": "ipython",
    "version": 3
   },
   "file_extension": ".py",
   "mimetype": "text/x-python",
   "name": "python",
   "nbconvert_exporter": "python",
   "pygments_lexer": "ipython3",
   "version": "3.9.17"
  }
 },
 "nbformat": 4,
 "nbformat_minor": 5
}
