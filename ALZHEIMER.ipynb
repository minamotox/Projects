{
 "cells": [
  {
   "cell_type": "markdown",
   "id": "1ef189d3-7c6a-4463-b871-07aed91a2023",
   "metadata": {},
   "source": [
    "# Project ALZHEIMER #"
   ]
  },
  {
   "cell_type": "markdown",
   "id": "324e2136-c891-47fa-84f2-cc53cd47efce",
   "metadata": {},
   "source": [
    "<br> <br>The DARWIN dataset includes handwriting data from 174 participants. The classification task consists in distinguishing Alzheimer’s disease patients from healthy people.\n",
    "\n",
    "Creator: Francesco Fontanella\n",
    "\n",
    "Source: https://archive.ics.uci.edu/dataset/732/darwin\n",
    "\n",
    "The DARWIN dataset was created to allow researchers to improve the existing machine-learning methodologies for the prediction of Alzheimer's disease via handwriting analysis.\n",
    "\n",
    "Citation Requests/Acknowledgements\n",
    "\n",
    "N. D. Cilia, C. De Stefano, F. Fontanella, A. S. Di Freca, An experimental protocol to support cognitive impairment diagnosis by using handwriting analysis, Procedia Computer Science 141 (2018) 466–471. https://doi.org/10.1016/j.procs.2018.10.141\n",
    "\n",
    "N. D. Cilia, G. De Gregorio, C. De Stefano, F. Fontanella, A. Marcelli, A. Parziale, Diagnosing Alzheimer’s disease from online handwriting: A novel dataset and performance benchmarking, Engineering Applications of Artificial Intelligence, Vol. 111 (20229) 104822. https://doi.org/10.1016/j.engappai.2022.104822\n"
   ]
  },
  {
   "cell_type": "code",
   "execution_count": null,
   "id": "8c2a500d-83ce-4571-b958-76c24a4beb7d",
   "metadata": {
    "tags": []
   },
   "outputs": [],
   "source": [
    "import numpy as np\n",
    "import pandas as pd\n",
    "import sklearn\n",
    "import seaborn as sns\n",
    "import matplotlib.pyplot as plt\n",
    "sns.set_style('whitegrid')\n",
    "%matplotlib inline\n",
    "import sys\n",
    "import matplotlib\n",
    "\n",
    "print('python:',sys.version)\n",
    "print('Numpy:',np.__version__)\n",
    "print('Pandas:',pd.__version__)\n",
    "print('Scikitlearn:',sklearn.__version__)\n",
    "print('Seaborn: ',sns.__version__)\n",
    "print('matplotlib:',matplotlib.__version__)\n"
   ]
  },
  {
   "cell_type": "code",
   "execution_count": null,
   "id": "dbb34c43-09c9-4775-9996-cfcc1987dd1d",
   "metadata": {
    "tags": []
   },
   "outputs": [],
   "source": [
    "Data=pd.read_csv(r'Data\\data.csv')\n",
    "Data\n"
   ]
  },
  {
   "cell_type": "markdown",
   "id": "18a75b44-90e5-4179-9f8c-e7e38ab8284c",
   "metadata": {},
   "source": [
    "# I. EDA #"
   ]
  },
  {
   "cell_type": "code",
   "execution_count": null,
   "id": "04a97998-8c30-4ed9-b558-4c5cffbc684d",
   "metadata": {
    "tags": []
   },
   "outputs": [],
   "source": [
    "Data.info()\n",
    "Data.describe()\n"
   ]
  },
  {
   "cell_type": "markdown",
   "id": "524a024f-5d15-4181-b961-3f5407858289",
   "metadata": {},
   "source": [
    "<ul><li>columns : 'ID' and 'Class' are Categorical variables. </li>\n",
    "<li>Huge difference in features's number scales .</li>\n",
    "<li>Many features have big std: noisy data.</li>\n",
    "</ul>\n"
   ]
  },
  {
   "cell_type": "code",
   "execution_count": null,
   "id": "b89a7e0d-897e-4a92-a318-c8f8a888a45b",
   "metadata": {
    "tags": []
   },
   "outputs": [],
   "source": [
    "Data['class'].value_counts()\n"
   ]
  },
  {
   "cell_type": "markdown",
   "id": "e646f058-bba7-49b8-a8c4-a9124518e54d",
   "metadata": {},
   "source": [
    "P: positive to diagnosis <br>\n",
    "H: Healthy\n"
   ]
  },
  {
   "cell_type": "code",
   "execution_count": null,
   "id": "4b1548c6-7533-4d52-9bc8-3cdf6917250e",
   "metadata": {
    "tags": []
   },
   "outputs": [],
   "source": [
    "\n",
    "sns.pairplot(Data, hue=None,  palette='bright', kind='scatter', diag_kind='auto',\n",
    "             markers='^', height=2, aspect=1, dropna=False, size=None)\n"
   ]
  },
  {
   "cell_type": "code",
   "execution_count": null,
   "id": "1269b6b4-598f-479b-b803-e0a4f6bff5b0",
   "metadata": {
    "tags": []
   },
   "outputs": [],
   "source": [
    "plt.figure(figsize=(40,40))\n",
    "#cmap=sns.light_palette((210,90,60), input='husl')\n",
    "sns.heatmap(Data.corr(), annot=True, fmt='.2f') #, cmap=cmap\n",
    "plt.show()\n",
    "plt.savefig(r\"Heatmap.png\")\n"
   ]
  },
  {
   "cell_type": "markdown",
   "id": "3ee99a60-0b6f-45bf-bfd8-a48a96caf123",
   "metadata": {},
   "source": [
    "# II. Pre Processing #"
   ]
  },
  {
   "cell_type": "code",
   "execution_count": null,
   "id": "2af084a5-1003-4a02-9339-54ae36fb4607",
   "metadata": {},
   "outputs": [],
   "source": [
    "from sklearn import preprocessing\n",
    "\n",
    "LB=preprocessing.LabelBinarizer()\n",
    "Target=LB.fit_transform(Data['class'])\n",
    "Target\n"
   ]
  },
  {
   "cell_type": "code",
   "execution_count": null,
   "id": "c84fd15c-4354-46e6-9f91-f2c51a3c9bd6",
   "metadata": {
    "tags": []
   },
   "outputs": [],
   "source": [
    "#not active\n",
    "from sklearn.preprocessing import MinMaxScaler\n",
    "\n",
    "Xm = MinMaxScaler().fit_transform(Data2)\n",
    "X=pd.DataFrame(Xm,columns=col_)\n",
    "X.describe()\n"
   ]
  },
  {
   "cell_type": "code",
   "execution_count": null,
   "id": "f29ec963-ec26-4e10-b33e-c6e66ef05502",
   "metadata": {},
   "outputs": [],
   "source": [
    "from sklearn.preprocessing import StandardScaler\n",
    "\n",
    "Data2= Data.drop(['ID', 'class'],axis=1)\n",
    "Xb = StandardScaler().fit_transform(Data2)\n",
    "Xb\n"
   ]
  },
  {
   "cell_type": "code",
   "execution_count": null,
   "id": "3ebfc488-a33b-4d74-8ee9-108155fe9fd7",
   "metadata": {},
   "outputs": [],
   "source": [
    "col_= list(Data2.columns)\n",
    "X=pd.DataFrame(Xb,columns=col_)\n",
    "X.describe()\n"
   ]
  },
  {
   "cell_type": "code",
   "execution_count": null,
   "id": "dc063756-1b85-42b0-85b8-90eef9743a0c",
   "metadata": {
    "tags": []
   },
   "outputs": [],
   "source": [
    "Y=Target\n",
    "Diag=pd.DataFrame(Y, columns=['Diagnostic'])\n",
    "X\n"
   ]
  },
  {
   "cell_type": "code",
   "execution_count": null,
   "id": "0d09c2a6-8f54-4a3f-9141-37f2a0b28df7",
   "metadata": {
    "tags": []
   },
   "outputs": [],
   "source": [
    "ke=col_+['Diagnostic']\n",
    "Data3=pd.concat([Data2,Diag],axis=1, join='outer',ignore_index=False,keys=ke)\n",
    "Data3\n"
   ]
  },
  {
   "cell_type": "code",
   "execution_count": null,
   "id": "9f207014-5b4a-4141-89f6-8e625987ae43",
   "metadata": {
    "tags": []
   },
   "outputs": [],
   "source": [
    "plt.figure(figsize=(40,40))\n",
    "#cmap=sns.light_palette((210,90,60), input='husl')\n",
    "sns.heatmap(Data3.corr(), annot=True, fmt='.2f') #, cmap=cmap\n",
    "plt.show()\n",
    "plt.savefig(r'Heatmap.png')\n"
   ]
  },
  {
   "cell_type": "markdown",
   "id": "49d26e13-48b2-4938-85e3-f54683b44e7c",
   "metadata": {},
   "source": [
    "### PCA ###"
   ]
  },
  {
   "cell_type": "code",
   "execution_count": null,
   "id": "425a8212-d442-4277-950d-503d3209f15e",
   "metadata": {
    "tags": []
   },
   "outputs": [],
   "source": [
    "from sklearn.decomposition import PCA\n",
    "\n",
    "pca=PCA(n_components=4)\n",
    "pca.fit(Data3)\n"
   ]
  },
  {
   "cell_type": "code",
   "execution_count": null,
   "id": "37dd3a33-d1ee-40e9-8296-01efd1be1026",
   "metadata": {
    "tags": []
   },
   "outputs": [],
   "source": [
    "pca.components_, pca.explained_variance_, pca.explained_variance_ratio_\n"
   ]
  },
  {
   "cell_type": "code",
   "execution_count": null,
   "id": "52c29019-89cf-4ce4-998b-4c679ec50341",
   "metadata": {
    "tags": []
   },
   "outputs": [],
   "source": [
    "PCA_data = pca.transform(Data3)\n",
    "PC1 = PCA_data[:,0]\n",
    "PC2 = PCA_data[:,1]\n",
    "T =Target\n",
    "label = Data3.columns\n",
    "\n",
    "labels=[]\n",
    " \n",
    "for point in T:\n",
    "    labels.append(label[point])\n",
    " \n",
    "zipped = list(zip(PC1,PC2, T,labels))\n",
    " \n",
    "pc_df = pd.DataFrame(zipped, columns=['PC1','PC2','Target','Label'])\n",
    "pc_df\n"
   ]
  },
  {
   "cell_type": "code",
   "execution_count": null,
   "id": "658ad9d2-31c3-474c-8eec-c5d4d80e1ff3",
   "metadata": {
    "tags": []
   },
   "outputs": [],
   "source": [
    "plt.figure(figsize=(12,7))\n",
    " \n",
    "sns.scatterplot(x=PC1,y=PC2, hue ='Label')\n",
    "plt.title(\"PCA Alzheimer\",fontsize=16)\n",
    "plt.xlabel('First Principal Component',fontsize=12)\n",
    "plt.ylabel('Second Principal Component',fontsize=12)\n",
    "#plt.xlim(-3,0)\n",
    "\n",
    "plt.show()\n"
   ]
  },
  {
   "cell_type": "markdown",
   "id": "949adbc7-78ac-480b-9243-98a0acf7d860",
   "metadata": {},
   "source": [
    "First component explains 91% of variance "
   ]
  },
  {
   "cell_type": "code",
   "execution_count": null,
   "id": "336d65d9-cbe9-4df9-80ed-c0faaae1818a",
   "metadata": {
    "tags": []
   },
   "outputs": [],
   "source": [
    "from sklearn.model_selection import train_test_split\n",
    "\n",
    "X_train, X_test, Y_train, Y_test=train_test_split(X,Y,test_size=0.4)\n"
   ]
  },
  {
   "cell_type": "code",
   "execution_count": null,
   "id": "e4ed2828-878e-4ba4-917e-d332cbdcf150",
   "metadata": {
    "tags": []
   },
   "outputs": [],
   "source": [
    "from sklearn import preprocessing\n",
    "from sklearn.model_selection import cross_val_score, cross_val_predict\n",
    "from sklearn.metrics import accuracy_score, classification_report\n",
    "from sklearn.metrics import confusion_matrix, roc_auc_score\n",
    "\n",
    "def print_score(clf, X_train, X_test, Y_train, Y_test, train=True):\n",
    "    \"Print the accuracy score, Classification report and confusion matrix\"\n",
    "    LB=preprocessing.LabelBinarizer()\n",
    "    LB.fit(Y_train)\n",
    "    if train:\n",
    "        \"Train performance\"\n",
    "        res=clf.predict(X_train)\n",
    "        \n",
    "        print(f'Train Results:\\n')\n",
    "        print(f'Accuracy Score: %.4f \\n' % (accuracy_score(Y_train,res)))\n",
    "        print(f'Classification report:\\n {classification_report(Y_train,res)} ')\n",
    "        print(f'Confusion Matrix Score: {confusion_matrix(Y_train,res)}')\n",
    "        print(f'ROC AUC Score:%.4f'%(roc_auc_score(LB.transform(Y_train),LB.transform(res))))\n",
    "        \n",
    "        res=cross_val_score(clf,X_train, Y_train, cv=12, scoring='accuracy')\n",
    "        print('cross_val_score Accuracy \\t: %.4f'%(np.mean(res)))\n",
    "        print('cross_val_score SD \\t: %.4f '% (np.std(res)))\n",
    "                      \n",
    "    elif train==False:\n",
    "        \"Test performance\"\n",
    "        res_test=clf.predict(X_test)\n",
    "        print(f'Test Results:\\n')\n",
    "        print('Accuracy Score: %.4f \\n'%(accuracy_score(Y_test,res_test)))\n",
    "        print(f'Classification report:\\n {classification_report(Y_test,res_test)}')\n",
    "        print(f'Confusion Matrix Score: {confusion_matrix(Y_test,res_test)}')\n",
    "        print('ROC AUC Score: %.4f\\n'%(roc_auc_score(LB.transform(Y_test),LB.transform(res_test))))\n",
    "        print('Average Accuracy \\t: %.4f'%(np.mean(res_test)))\n",
    "        print('Accuracy SD \\t: %.4f '% (np.std(res_test)))\n"
   ]
  },
  {
   "cell_type": "markdown",
   "id": "985f3f55-8fb9-44d4-a3bd-aaefb4f5eed6",
   "metadata": {},
   "source": [
    "# III. Fit Model #"
   ]
  },
  {
   "cell_type": "markdown",
   "id": "58eee2fc-6d26-4962-9622-3641c8bf25d3",
   "metadata": {},
   "source": [
    "## 1) Decision Tree ##"
   ]
  },
  {
   "cell_type": "code",
   "execution_count": null,
   "id": "73996d34-08ef-49c5-a93c-ff7facb8c499",
   "metadata": {
    "tags": []
   },
   "outputs": [],
   "source": [
    "from sklearn.tree import DecisionTreeClassifier\n",
    "\n",
    "DT_clf=DecisionTreeClassifier(random_state=25)\n",
    "DT_clf.fit(X_train, Y_train.ravel())\n"
   ]
  },
  {
   "cell_type": "code",
   "execution_count": null,
   "id": "d52280c4-4467-4e5d-a257-98b026093a95",
   "metadata": {},
   "outputs": [],
   "source": [
    "\n",
    "print(f' {print_score(DT_clf, X_train, X_test, Y_train.ravel(), Y_test.ravel(), train=True)}')\n",
    "print(f'\\n ---------------------------------------\\n')\n",
    "print(f'{print_score(DT_clf, X_train, X_test, Y_train.ravel(), Y_test.ravel(), train=False)}')\n"
   ]
  },
  {
   "cell_type": "markdown",
   "id": "e175cd0c-7d4b-4e33-928f-20fa7be6ca08",
   "metadata": {},
   "source": [
    "### Interpretation : ###\n",
    "<br>\n",
    "Random Forest model is slightly better"
   ]
  },
  {
   "cell_type": "markdown",
   "id": "445cb46b-be24-46fc-9571-bd126193b91d",
   "metadata": {},
   "source": [
    "## 2) Random Forest ##"
   ]
  },
  {
   "cell_type": "code",
   "execution_count": null,
   "id": "0cac0f27-de5e-49c8-960f-0b16751f945f",
   "metadata": {
    "tags": []
   },
   "outputs": [],
   "source": [
    "from sklearn.ensemble import RandomForestClassifier\n",
    "\n",
    "RF_clf=RandomForestClassifier(random_state=22, n_estimators=50)\n",
    "RF_clf.fit(X_train, Y_train.ravel())\n"
   ]
  },
  {
   "cell_type": "code",
   "execution_count": null,
   "id": "1116657b-ea76-492b-8690-2c84c023d2e5",
   "metadata": {
    "tags": []
   },
   "outputs": [],
   "source": [
    "\n",
    "print(f' {print_score(RF_clf, X_train, X_test, Y_train.ravel(), Y_test.ravel(), train=True)}')\n",
    "print(f'\\n ---------------------------------------\\n')\n",
    "print(f'{print_score(RF_clf, X_train, X_test, Y_train.ravel(), Y_test.ravel(), train=False)}')\n"
   ]
  },
  {
   "cell_type": "markdown",
   "id": "563ff052-3678-48fc-8944-38ead466e732",
   "metadata": {},
   "source": [
    "### Interpretation : ###\n",
    "<br>\n",
    "- <b>Accuracy Score: accuracy of model </b> pretty high <br>\n",
    "- <b>Precision: error in predictions </b>pretty high<br>\n",
    "- <b>Recall: true positive rate, fraction of True cases </b> 87% positive cases predicted successfully, prety good score <br>\n",
    "-  <b>f1 Score: model's accuracy, fraction of True predictions </b> 87% which is descent <br>\n",
    "-  <b>Confusion Matrix: a table of all actual values versus the predicted ones of a classifier</b> False positive cases are 4, which is critical for a decease prediction model <br>\n",
    "-  <b>ROC AUC Score: measure of separability, the performance in distingishing the + and - classes </b> 88% good but not enouig in this case<br>\n",
    "-  <b>Cross Validation Accuracy: k fold cross validation of the entire data set  </b>88% low for a decease prediction model <br>\n"
   ]
  },
  {
   "cell_type": "markdown",
   "id": "515387b4-4d20-439f-8263-12c204fa5a9b",
   "metadata": {},
   "source": [
    "## 3) SVM ##"
   ]
  },
  {
   "cell_type": "code",
   "execution_count": null,
   "id": "0fea3ee1-d7da-4bba-8bc6-bcdc680fd945",
   "metadata": {},
   "outputs": [],
   "source": [
    "from sklearn import svm\n",
    "\n",
    "C=1.0\n",
    "SVM_clf=svm.SVC(kernel='linear', C=C)\n",
    "SVM_clf.fit(X_train, Y_train)\n"
   ]
  },
  {
   "cell_type": "code",
   "execution_count": null,
   "id": "9b5bb195-dd63-4eaf-bec5-e4389bd64ac5",
   "metadata": {},
   "outputs": [],
   "source": [
    "\n",
    "print(f' {print_score(SVM_clf, X_train, X_test, Y_train.ravel(), Y_test.ravel(), train=True)}')\n",
    "print(f'\\n ---------------------------------------\\n')\n",
    "print(f'{print_score(SVM_clf, X_train, X_test, Y_train.ravel(), Y_test.ravel(), train=False)}')\n"
   ]
  },
  {
   "cell_type": "markdown",
   "id": "abfec85a-71ee-4ae9-a3a6-d7a0f63b941e",
   "metadata": {},
   "source": [
    "### Interpretation : ###\n",
    "<br>\n",
    "- <b>Accuracy Score: accuracy of model </b> same <br>\n",
    "- <b>Precision: error in predictions </b> worse <br>\n",
    "- <b>Recall: true positive rate, fraction of True cases </b> same <br>\n",
    "-  <b>f1 Score: model's accuracy, fraction of True predictions </b> worse  <br>\n",
    "-  <b>Confusion Matrix: a table of all actual values versus the predicted ones of a classifier</b>  same<br>\n",
    "-  <b>ROC AUC Score: measure of separability, the performance in distingishing the + and - classes </b> same<br>\n",
    "-  <b>Cross Validation Accuracy: k fold cross validation of the entire data set  </b>  same<br>\n"
   ]
  },
  {
   "cell_type": "markdown",
   "id": "3af7a7b8-4f4b-4cb8-a3ba-dd2e30ca260c",
   "metadata": {},
   "source": [
    "# IV. Ensemble ML with Random Forest #"
   ]
  },
  {
   "cell_type": "markdown",
   "id": "5445c617-bc84-437f-a173-efee889a89dc",
   "metadata": {},
   "source": [
    "## 1) Bagging (oob_score=False): ##"
   ]
  },
  {
   "cell_type": "code",
   "execution_count": null,
   "id": "97a4df07-afd6-448c-8272-a75f1a0a7e03",
   "metadata": {
    "tags": []
   },
   "outputs": [],
   "source": [
    "from sklearn.ensemble import BaggingClassifier\n",
    "\n",
    "bag_clf=BaggingClassifier(estimator=rf_clf, n_estimators=100, bootstrap=True, \n",
    "                          oob_score=False, n_jobs=-1, random_state=25)\n",
    "bag_clf.fit(X_train, Y_train.ravel())\n"
   ]
  },
  {
   "cell_type": "code",
   "execution_count": null,
   "id": "e6dd6fb9-a53f-40d0-80d6-13bb2e01b3a8",
   "metadata": {
    "tags": []
   },
   "outputs": [],
   "source": [
    "\n",
    "print(f' {print_score(bag_clf, X_train, X_test, Y_train.ravel(), Y_test.ravel(), train=True)}')\n",
    "print(f'\\n ---------------------------------------\\n')\n",
    "print(f'{print_score(bag_clf, X_train, X_test, Y_train.ravel(), Y_test.ravel(), train=False)}')\n"
   ]
  },
  {
   "cell_type": "markdown",
   "id": "708850d9-62da-4e9a-9390-1ef6a26bb258",
   "metadata": {},
   "source": [
    "### Interpretation : ###\n",
    "<br>\n",
    "- <b>Accuracy Score: accuracy of model </b> better <br>\n",
    "- <b>Precision: error in predictions </b> 80% for positive <br>\n",
    "- <b>Recall: true positive rate, fraction of True cases </b> 97% very high <br>\n",
    "-  <b>f1 Score: model's accuracy, fraction of True predictions </b> 88%  <br>\n",
    "-  <b>Confusion Matrix: a table of all actual values versus the predicted ones of a classifier</b>  1 FP which is much better<br>\n",
    "-  <b>ROC AUC Score: measure of separability, the performance in distingishing the + and - classes </b> 87%<br>\n",
    "-  <b>Cross Validation Accuracy: k fold cross validation of the entire data set  </b>  87%<br>\n"
   ]
  },
  {
   "cell_type": "markdown",
   "id": "672fd2db-7168-4c56-8afd-7306a323879c",
   "metadata": {},
   "source": [
    "## 2) AdaBoost : ##"
   ]
  },
  {
   "cell_type": "code",
   "execution_count": null,
   "id": "bb6a6fcc-9cb8-461c-abea-6451f46a5aa2",
   "metadata": {},
   "outputs": [],
   "source": [
    "from sklearn.ensemble import AdaBoostClassifier\n",
    "\n",
    "Ada_RF=AdaBoostClassifier(RandomForestClassifier(n_estimators=100), n_estimators=100)\n",
    "Ada_RF.fit(X_train, Y_train.ravel())\n"
   ]
  },
  {
   "cell_type": "code",
   "execution_count": null,
   "id": "c197612e-ed14-423b-84e4-ce1c8b3ceb90",
   "metadata": {
    "tags": []
   },
   "outputs": [],
   "source": [
    "\n",
    "print(f' {print_score(Ada_RF, X_train, X_test, Y_train.ravel(), Y_test.ravel(), train=True)}')\n",
    "print(f'\\n ---------------------------------------\\n')\n",
    "print(f'{print_score(Ada_RF, X_train, X_test, Y_train.ravel(), Y_test.ravel(), train=False)}')\n"
   ]
  },
  {
   "cell_type": "markdown",
   "id": "57afebfa-8388-4fbc-bee4-2fe7a5cad998",
   "metadata": {},
   "source": [
    "### Interpretation : ###\n",
    "<br>\n",
    "- <b>Accuracy Score: accuracy of model </b> 85% <br>\n",
    "- <b>Precision: error in predictions </b> 77% for positive <br>\n",
    "- <b>Recall: true positive rate, fraction of True cases </b> 100% very high <br>\n",
    "-  <b>f1 Score: model's accuracy, fraction of True predictions </b> 87%  <br>\n",
    "-  <b>Confusion Matrix: a table of all actual values versus the predicted ones of a classifier</b>  0 FP which is perfect for this case <br>\n",
    "-  <b>ROC AUC Score: measure of separability, the performance in distingishing the + and - classes </b> 86%<br>\n",
    "-  <b>Cross Validation Accuracy: k fold cross validation of the entire data set  </b>  88%<br>\n",
    "\n",
    "### The best model so far ###"
   ]
  },
  {
   "cell_type": "markdown",
   "id": "371fbb2b-7789-4fec-b5f2-736c5fda2df6",
   "metadata": {},
   "source": [
    "## 3) GBM : ##"
   ]
  },
  {
   "cell_type": "code",
   "execution_count": null,
   "id": "79e2dc68-fc02-417b-bbb0-b7e8d0f57b13",
   "metadata": {
    "tags": []
   },
   "outputs": [],
   "source": [
    "from sklearn.ensemble import GradientBoostingClassifier\n",
    "\n",
    "gbm_clf=GradientBoostingClassifier(n_estimators=50)\n",
    "gbm_clf.fit(X_train, Y_train.ravel())\n"
   ]
  },
  {
   "cell_type": "code",
   "execution_count": null,
   "id": "7b36ee8e-1bff-4d37-b253-891dbfc6dc13",
   "metadata": {
    "tags": []
   },
   "outputs": [],
   "source": [
    "\n",
    "print(f' {print_score(gbm_clf, X_train, X_test, Y_train.ravel(), Y_test.ravel(), train=True)}')\n",
    "print(f'\\n ---------------------------------------\\n')\n",
    "print(f'{print_score(gbm_clf, X_train, X_test, Y_train.ravel(), Y_test.ravel(), train=False)}')\n"
   ]
  },
  {
   "cell_type": "markdown",
   "id": "67fc0f69-7faf-413d-930b-8fca0d3250c7",
   "metadata": {},
   "source": [
    "6 FP, completely useless"
   ]
  },
  {
   "cell_type": "markdown",
   "id": "3a507c01-f59d-4fc4-941f-a50ef6dd5b61",
   "metadata": {},
   "source": [
    "## 3) XGB: ##"
   ]
  },
  {
   "cell_type": "code",
   "execution_count": null,
   "id": "c4569a9c-6fb1-484c-933a-8342defaab06",
   "metadata": {
    "tags": []
   },
   "outputs": [],
   "source": [
    "import xgboost as xgb\n",
    "\n",
    "xgb_clf=xgb.XGBClassifier(max_depth=5, n_estimators=100, learning_rate=0.3, n_jobs=-1)\n",
    "xgb_clf.fit(X_train, Y_train.ravel())\n"
   ]
  },
  {
   "cell_type": "code",
   "execution_count": null,
   "id": "3d538b36-301c-4b4c-b792-27b84527acd5",
   "metadata": {
    "tags": []
   },
   "outputs": [],
   "source": [
    "\n",
    "print(f' {print_score(xgb_clf, X_train, X_test, Y_train.ravel(), Y_test.ravel(), train=True)}')\n",
    "print(f'\\n ---------------------------------------\\n')\n",
    "print(f'{print_score(xgb_clf, X_train, X_test, Y_train.ravel(), Y_test.ravel(), train=False)}')\n"
   ]
  },
  {
   "cell_type": "markdown",
   "id": "ae98ca61-3e8c-4c2d-9459-5e8e43e3923d",
   "metadata": {},
   "source": [
    "5 FP, same score for initial models\n"
   ]
  },
  {
   "cell_type": "code",
   "execution_count": null,
   "id": "3c5f98a7-1fb2-4d1d-9d0a-99d8be719e6f",
   "metadata": {},
   "outputs": [],
   "source": []
  }
 ],
 "metadata": {
  "kernelspec": {
   "display_name": "Python 3 (ipykernel)",
   "language": "python",
   "name": "python3"
  },
  "language_info": {
   "codemirror_mode": {
    "name": "ipython",
    "version": 3
   },
   "file_extension": ".py",
   "mimetype": "text/x-python",
   "name": "python",
   "nbconvert_exporter": "python",
   "pygments_lexer": "ipython3",
   "version": "3.9.17"
  }
 },
 "nbformat": 4,
 "nbformat_minor": 5
}
