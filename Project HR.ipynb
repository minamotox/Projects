{
 "cells": [
  {
   "cell_type": "markdown",
   "id": "3690b341-49eb-407f-9377-72ca45429efc",
   "metadata": {
    "id": "3690b341-49eb-407f-9377-72ca45429efc"
   },
   "source": [
    "# V. Project HR #\n"
   ]
  },
  {
   "cell_type": "code",
   "execution_count": null,
   "id": "e2acc60e-c9fd-4d70-80a8-af057a3a67b5",
   "metadata": {
    "colab": {
     "base_uri": "https://localhost:8080/"
    },
    "executionInfo": {
     "elapsed": 1916,
     "status": "ok",
     "timestamp": 1695139110791,
     "user": {
      "displayName": "Amine Hamouda",
      "userId": "06406683403374065678"
     },
     "user_tz": -60
    },
    "id": "e2acc60e-c9fd-4d70-80a8-af057a3a67b5",
    "outputId": "90f36fad-7e27-49f4-c04e-7a4e5cdf41fa",
    "tags": []
   },
   "outputs": [],
   "source": [
    "import numpy as np\n",
    "import pandas as pd\n",
    "import sklearn\n",
    "import seaborn as sns\n",
    "import matplotlib.pyplot as plt\n",
    "sns.set_style('whitegrid')\n",
    "%matplotlib inline\n",
    "import sys\n",
    "import matplotlib\n",
    "\n",
    "print('python:',sys.version)\n",
    "print('Numpy:',np.__version__)\n",
    "print('Pandas:',pd.__version__)\n",
    "print('Scikitlearn:',sklearn.__version__)\n",
    "print('Seaborn: ',sns.__version__)\n",
    "print('matplotlib:',matplotlib.__version__)\n"
   ]
  },
  {
   "cell_type": "markdown",
   "id": "8165ca70-2b63-4be9-9f3f-9fda2cf13905",
   "metadata": {
    "id": "8165ca70-2b63-4be9-9f3f-9fda2cf13905"
   },
   "source": [
    "# I. EDA #"
   ]
  },
  {
   "cell_type": "code",
   "execution_count": null,
   "id": "6652c437-40f1-40fc-a929-01f45b7f5d9c",
   "metadata": {
    "id": "6652c437-40f1-40fc-a929-01f45b7f5d9c"
   },
   "outputs": [],
   "source": [
    "HR=pd.read_csv(r'HR-Employee-Attrition.csv')\n",
    "HR\n"
   ]
  },
  {
   "cell_type": "code",
   "execution_count": null,
   "id": "454c90ce-e0b7-49bb-976c-8d6fc47d245f",
   "metadata": {
    "colab": {
     "base_uri": "https://localhost:8080/",
     "height": 600
    },
    "executionInfo": {
     "elapsed": 20596,
     "status": "ok",
     "timestamp": 1695139151895,
     "user": {
      "displayName": "Amine Hamouda",
      "userId": "06406683403374065678"
     },
     "user_tz": -60
    },
    "id": "454c90ce-e0b7-49bb-976c-8d6fc47d245f",
    "outputId": "0a5aa56e-ad92-4281-cedf-3eb9bbe29847",
    "tags": []
   },
   "outputs": [],
   "source": [
    "#For Google Collab ONLY :\n",
    "from google.colab import drive\n",
    "drive.mount('/content/drive')\n",
    "file_path = '/content/drive/My Drive/ML/HR-Employee-Attrition.csv'\n",
    "HR=pd.read_csv(file_path )\n",
    "HR\n"
   ]
  },
  {
   "cell_type": "code",
   "execution_count": null,
   "id": "f9128050-06c9-48d5-80a4-69dd155a081b",
   "metadata": {
    "colab": {
     "base_uri": "https://localhost:8080/"
    },
    "executionInfo": {
     "elapsed": 441,
     "status": "ok",
     "timestamp": 1695139212150,
     "user": {
      "displayName": "Amine Hamouda",
      "userId": "06406683403374065678"
     },
     "user_tz": -60
    },
    "id": "f9128050-06c9-48d5-80a4-69dd155a081b",
    "outputId": "d64cb7c5-b675-42ef-aa1e-50200482222e"
   },
   "outputs": [],
   "source": [
    "#HR.shape\n",
    "HR.info()\n"
   ]
  },
  {
   "cell_type": "code",
   "execution_count": null,
   "id": "fd5a7d79-8ec9-428a-8fca-fe6b0aaa1b33",
   "metadata": {
    "colab": {
     "base_uri": "https://localhost:8080/",
     "height": 642
    },
    "executionInfo": {
     "elapsed": 541,
     "status": "ok",
     "timestamp": 1695139213076,
     "user": {
      "displayName": "Amine Hamouda",
      "userId": "06406683403374065678"
     },
     "user_tz": -60
    },
    "id": "fd5a7d79-8ec9-428a-8fca-fe6b0aaa1b33",
    "outputId": "2d81466e-2e30-42a9-cc2d-8c7d2bdc6e3e"
   },
   "outputs": [],
   "source": [
    "display(HR.iloc[0])\n"
   ]
  },
  {
   "cell_type": "code",
   "execution_count": null,
   "id": "4dd4fa4d-db26-4045-819c-019607ac19a3",
   "metadata": {
    "colab": {
     "base_uri": "https://localhost:8080/"
    },
    "executionInfo": {
     "elapsed": 345,
     "status": "ok",
     "timestamp": 1695139217667,
     "user": {
      "displayName": "Amine Hamouda",
      "userId": "06406683403374065678"
     },
     "user_tz": -60
    },
    "id": "4dd4fa4d-db26-4045-819c-019607ac19a3",
    "outputId": "0da23924-e88c-4811-bb82-2d6e72d2f5df"
   },
   "outputs": [],
   "source": [
    "HR.isnull().any()\n"
   ]
  },
  {
   "cell_type": "code",
   "execution_count": null,
   "id": "33a6553b-dd3f-44be-b696-3f82ec17c65c",
   "metadata": {
    "colab": {
     "base_uri": "https://localhost:8080/",
     "height": 320
    },
    "executionInfo": {
     "elapsed": 465,
     "status": "ok",
     "timestamp": 1695139221289,
     "user": {
      "displayName": "Amine Hamouda",
      "userId": "06406683403374065678"
     },
     "user_tz": -60
    },
    "id": "33a6553b-dd3f-44be-b696-3f82ec17c65c",
    "outputId": "9e80606b-fc89-4202-ddac-222da8ddfeb2"
   },
   "outputs": [],
   "source": [
    "pd.options.display.float_format='{:,.2f}'.format\n",
    "pd.set_option('display.max_columns',500)\n",
    "pd.set_option('display.width',1000)\n",
    "HR.describe() #automatically ignore the categorical data\n"
   ]
  },
  {
   "cell_type": "markdown",
   "id": "ac5c778d-1c8c-4497-af80-9f5075436d91",
   "metadata": {
    "id": "ac5c778d-1c8c-4497-af80-9f5075436d91"
   },
   "source": [
    "observations deduced from describe():\n",
    "<ul>\n",
    "<li><b>EmplyeeCount:</b>All values are 1, little information, can drop column. </li>\n",
    "<li><b>EmplyeeNumber:</b>Sequential count.little information, can drop column.</li>\n",
    "<li><b>StandardHours:</b>All values are 80, little information, can drop column.</li>\n"
   ]
  },
  {
   "cell_type": "code",
   "execution_count": null,
   "id": "4d0438fb-4010-463b-8851-90692e63be4a",
   "metadata": {
    "colab": {
     "base_uri": "https://localhost:8080/"
    },
    "executionInfo": {
     "elapsed": 368,
     "status": "ok",
     "timestamp": 1695139224489,
     "user": {
      "displayName": "Amine Hamouda",
      "userId": "06406683403374065678"
     },
     "user_tz": -60
    },
    "id": "4d0438fb-4010-463b-8851-90692e63be4a",
    "outputId": "b06fc894-2edc-4a77-d105-4df8d469e809"
   },
   "outputs": [],
   "source": [
    "num_col=list(HR.describe().columns)\n",
    "categorical_col=list(set(HR.columns).difference(num_col))\n",
    "remove_list=['EmplyeeCount','EmplyeeNumber','StandardHours']\n",
    "col_numerical=[e for e in num_col if e not in remove_list]\n",
    "categorical_col, col_numerical\n"
   ]
  },
  {
   "cell_type": "markdown",
   "id": "3eda66f2-d6f5-456f-9fa1-c01928a04936",
   "metadata": {
    "id": "3eda66f2-d6f5-456f-9fa1-c01928a04936"
   },
   "source": [
    "### 2nd method ###"
   ]
  },
  {
   "cell_type": "code",
   "execution_count": null,
   "id": "01bb0ec5-89a8-492c-8cf7-db836886ff20",
   "metadata": {
    "id": "01bb0ec5-89a8-492c-8cf7-db836886ff20"
   },
   "outputs": [],
   "source": [
    "categorical_col=[]\n",
    "for k,v in HR.iteritems():\n",
    "    if v.dtype == 'object':\n",
    "        categorical_col.append(k)\n",
    "categorical_col\n"
   ]
  },
  {
   "cell_type": "code",
   "execution_count": null,
   "id": "c06a2836-1bb8-4bb2-98b9-543b822271c1",
   "metadata": {
    "id": "c06a2836-1bb8-4bb2-98b9-543b822271c1"
   },
   "outputs": [],
   "source": [
    "HR.info()\n",
    "print(len(num_col))\n",
    "print(len(col_numerical))\n",
    "print(len(categorical_col))\n"
   ]
  },
  {
   "cell_type": "markdown",
   "id": "ada8d829-f690-46ae-8823-62d18a476ec1",
   "metadata": {
    "id": "ada8d829-f690-46ae-8823-62d18a476ec1",
    "tags": []
   },
   "source": [
    "\n",
    "## Plotting ##"
   ]
  },
  {
   "cell_type": "code",
   "execution_count": null,
   "id": "45052bb6-0665-4cc9-8970-0b41f2572d2d",
   "metadata": {
    "id": "45052bb6-0665-4cc9-8970-0b41f2572d2d",
    "tags": []
   },
   "outputs": [],
   "source": [
    "plt.figure(figsize=(16, 8))\n",
    "h2=HR.loc[:, ['Age', 'Education', 'JobLevel','YearsAtCompany']]#,'YearsInCurrentRole']]\n",
    "for col in h2.columns:\n",
    "    sns.pairplot(h2, hue=col ,palette='bright', kind='scatter', markers=None,dropna=False, height=6)\n",
    "plt.show()\n"
   ]
  },
  {
   "cell_type": "code",
   "execution_count": null,
   "id": "7bb7f8de-2c1c-4be0-b361-c1f35fa24d4c",
   "metadata": {
    "id": "7bb7f8de-2c1c-4be0-b361-c1f35fa24d4c"
   },
   "outputs": [],
   "source": [
    "HR[col_numerical].corr()\n",
    "plt.figure(figsize=(16, 8))\n",
    "sns.heatmap(HR[col_numerical].corr(), annot=True, fmt='.2f')\n"
   ]
  },
  {
   "cell_type": "code",
   "execution_count": null,
   "id": "1471f25f-0a40-441c-b111-e053a3a0f3a0",
   "metadata": {
    "id": "1471f25f-0a40-441c-b111-e053a3a0f3a0"
   },
   "outputs": [],
   "source": [
    "plt.figure(figsize=(20,10))\n",
    "#mask for upper triangle\n",
    "mask=np.zeros_like(HR[col_numerical].corr(), dtype=bool)\n",
    "mask[np.triu_indices_from(mask)]=True\n",
    "#Generate custom diverging colormap\n",
    "cmap=sns.diverging_palette(220,10,as_cmap=True)\n",
    "#Heatmap with mask with correct aspect ratio\n",
    "sns.heatmap(HR[col_numerical].corr(), mask=mask, cmap=cmap, vmax=0.3,\n",
    "            center=0, square=True, linewidths=0.5, cbar_kws={'shrink':0.5})\n",
    "plt.show()\n"
   ]
  },
  {
   "cell_type": "code",
   "execution_count": null,
   "id": "a0de59f9-0f5a-4f66-a747-a7c716157c30",
   "metadata": {
    "id": "a0de59f9-0f5a-4f66-a747-a7c716157c30"
   },
   "outputs": [],
   "source": [
    "plt.figure(figsize=(20,10))\n",
    "#mask for upper triangle\n",
    "mask=np.zeros_like(HR[col_numerical].corr(), dtype=bool)\n",
    "mask[np.triu_indices_from(mask)]=True\n",
    "#Generate custom diverging colormap\n",
    "cmap=sns.light_palette((210,90,60), input='husl')\n",
    "#Heatmap with mask with correct aspect ratio\n",
    "sns.heatmap(HR[col_numerical].corr(), mask=mask, cmap=cmap, annot=True, fmt='.2f')\n",
    "plt.show()\n"
   ]
  },
  {
   "cell_type": "markdown",
   "id": "3ad59fe4-6488-4ab7-99ea-f6f88237329f",
   "metadata": {
    "id": "3ad59fe4-6488-4ab7-99ea-f6f88237329f"
   },
   "source": [
    "Correlation > 0.7 is closely correlated. We'll use 0.7 as guide into investigation:\n",
    "<ul>\n",
    "<li>Monthly income and Job level</li>\n",
    "<li>Total working years and Job level  </li>\n",
    "<li>Total working years and Monthly income   </li>\n",
    "<li>Performance rating and Percent salary hike </li>    \n",
    "<li>Years in current role and Years at company </li>   \n",
    "<li>Years with current manager and Years at company </li>\n",
    "<li>Years with current manager and Years in current role </li>\n",
    "</ul>\n"
   ]
  },
  {
   "cell_type": "code",
   "execution_count": null,
   "id": "368f00d3-3443-462e-93fb-79b425f69438",
   "metadata": {
    "colab": {
     "base_uri": "https://localhost:8080/"
    },
    "executionInfo": {
     "elapsed": 338,
     "status": "ok",
     "timestamp": 1695139231107,
     "user": {
      "displayName": "Amine Hamouda",
      "userId": "06406683403374065678"
     },
     "user_tz": -60
    },
    "id": "368f00d3-3443-462e-93fb-79b425f69438",
    "outputId": "98e3b430-569a-4303-fd19-975ec6e3c399"
   },
   "outputs": [],
   "source": [
    "HR['Attrition'].unique()\n",
    "Attrition_num={'Yes':1, 'No':0}\n",
    "categorical_col"
   ]
  },
  {
   "cell_type": "code",
   "execution_count": null,
   "id": "9ef9d615-5df2-4849-a8dd-773e13728f15",
   "metadata": {
    "id": "9ef9d615-5df2-4849-a8dd-773e13728f15"
   },
   "outputs": [],
   "source": [
    "HR['Attrition_num']=HR['Attrition'].map(Attrition_num)\n",
    "HR['Attrition_num']\n"
   ]
  },
  {
   "cell_type": "markdown",
   "id": "7e80e89c-97b2-422b-9ed7-6a52498b1c1b",
   "metadata": {
    "id": "7e80e89c-97b2-422b-9ed7-6a52498b1c1b"
   },
   "source": [
    "Use get_dummies or labelEncoder. <br>\n",
    "Point to note:\n",
    "<ul>\n",
    "<li>Perform one hot encoding before train-test-split. This is fine as you are just transforming the data.There is no leakage here.</li>\n",
    "<li>Perform data processing after train-test split because standardisation learn from the data by calculating mean, std etc...</li>\n",
    "</ul>\n"
   ]
  },
  {
   "cell_type": "code",
   "execution_count": null,
   "id": "7b325461-cc78-4ad2-9d05-bffdf370d58e",
   "metadata": {
    "colab": {
     "base_uri": "https://localhost:8080/",
     "height": 461
    },
    "executionInfo": {
     "elapsed": 507,
     "status": "ok",
     "timestamp": 1695139239088,
     "user": {
      "displayName": "Amine Hamouda",
      "userId": "06406683403374065678"
     },
     "user_tz": -60
    },
    "id": "7b325461-cc78-4ad2-9d05-bffdf370d58e",
    "outputId": "13f79395-f1d5-494b-ca89-5a07bf327126"
   },
   "outputs": [],
   "source": [
    "categorical_col.remove('Attrition')\n",
    "DF_categ=pd.get_dummies(HR[categorical_col])\n",
    "DF_categ\n"
   ]
  },
  {
   "cell_type": "code",
   "execution_count": null,
   "id": "dad2f6cf-a9a5-44b9-aaad-d129d7767f0b",
   "metadata": {
    "colab": {
     "base_uri": "https://localhost:8080/",
     "height": 461
    },
    "executionInfo": {
     "elapsed": 307,
     "status": "ok",
     "timestamp": 1695139258040,
     "user": {
      "displayName": "Amine Hamouda",
      "userId": "06406683403374065678"
     },
     "user_tz": -60
    },
    "id": "dad2f6cf-a9a5-44b9-aaad-d129d7767f0b",
    "outputId": "70a5f26c-c063-4f02-d757-86aae9ad2b55"
   },
   "outputs": [],
   "source": [
    "X=pd.concat([HR[col_numerical], DF_categ], axis=1)\n",
    "Y=HR['Attrition_num']\n",
    "X\n"
   ]
  },
  {
   "cell_type": "code",
   "execution_count": null,
   "id": "1b730dbd-cc12-4616-ab88-c534e3501937",
   "metadata": {
    "colab": {
     "base_uri": "https://localhost:8080/"
    },
    "executionInfo": {
     "elapsed": 8,
     "status": "ok",
     "timestamp": 1695139258383,
     "user": {
      "displayName": "Amine Hamouda",
      "userId": "06406683403374065678"
     },
     "user_tz": -60
    },
    "id": "1b730dbd-cc12-4616-ab88-c534e3501937",
    "outputId": "4c8fcfdf-eb2c-4cec-85b3-e263b86ed5c9"
   },
   "outputs": [],
   "source": [
    "Y.value_counts()\n",
    "X.info()\n"
   ]
  },
  {
   "cell_type": "code",
   "execution_count": null,
   "id": "4da00d5e-ae31-432f-9d6b-206005c59297",
   "metadata": {
    "executionInfo": {
     "elapsed": 7,
     "status": "ok",
     "timestamp": 1695139258384,
     "user": {
      "displayName": "Amine Hamouda",
      "userId": "06406683403374065678"
     },
     "user_tz": -60
    },
    "id": "4da00d5e-ae31-432f-9d6b-206005c59297",
    "tags": []
   },
   "outputs": [],
   "source": [
    "from sklearn import preprocessing\n",
    "from sklearn.model_selection import cross_val_score, cross_val_predict\n",
    "from sklearn.metrics import accuracy_score, classification_report\n",
    "from sklearn.metrics import confusion_matrix, roc_auc_score\n",
    "\n",
    "def print_score(clf, X_train, X_test, Y_train, Y_test, train=True):\n",
    "    \"Print the accuracy score, Classification report and confusion matrix\"\n",
    "    LB=preprocessing.LabelBinarizer()\n",
    "    LB.fit(Y_train)\n",
    "    if train:\n",
    "        \"Train performance\"\n",
    "        res=clf.predict(X_train)\n",
    "\n",
    "        print(f'Train Results:\\n')\n",
    "        print(f'Accuracy Score: %.4f \\n' % (accuracy_score(Y_train,res)))\n",
    "        print(f'Classification report:\\n {classification_report(Y_train,res)} ')\n",
    "        print(f'Confusion Matrix Score: {confusion_matrix(Y_train,res)}')\n",
    "        print(f'ROC AUC Score:%.4f'%(roc_auc_score(LB.transform(Y_train),LB.transform(res))))\n",
    "\n",
    "        res=cross_val_score(clf,X_train, Y_train, cv=100, scoring='accuracy')\n",
    "        print('Average Accuracy \\t: %.4f'%(np.mean(res)))\n",
    "        print('Accuracy SD \\t: %.4f '% (np.std(res)))\n",
    "\n",
    "    elif train==False:\n",
    "        \"Test performance\"\n",
    "        res_test=clf.predict(X_test)\n",
    "        print(f'Test Results:\\n')\n",
    "        print('Accuracy Score: %.4f \\n'%(accuracy_score(Y_test,res_test)))\n",
    "        print(f'Classification report:\\n {classification_report(Y_test,res_test)}')\n",
    "        print(f'Confusion Matrix Score: {confusion_matrix(Y_test,res_test)}')\n",
    "        print('ROC AUC Score: %.4f\\n'%(roc_auc_score(LB.transform(Y_test),LB.transform(res_test))))\n",
    "        print('Average Accuracy \\t: %.4f'%(np.mean(res_test)))\n",
    "        print('Accuracy SD \\t: %.4f '% (np.std(res_test)))\n"
   ]
  },
  {
   "cell_type": "code",
   "execution_count": null,
   "id": "157e3824-1421-48e6-bf2b-bcd8db2f5aba",
   "metadata": {
    "colab": {
     "base_uri": "https://localhost:8080/"
    },
    "executionInfo": {
     "elapsed": 322,
     "status": "ok",
     "timestamp": 1695139258700,
     "user": {
      "displayName": "Amine Hamouda",
      "userId": "06406683403374065678"
     },
     "user_tz": -60
    },
    "id": "157e3824-1421-48e6-bf2b-bcd8db2f5aba",
    "outputId": "068f5467-a33c-4288-9f16-a37bbfa6c6b6",
    "tags": []
   },
   "outputs": [],
   "source": [
    "from sklearn.model_selection import train_test_split\n",
    "\n",
    "X_train,X_test, Y_train,Y_test=train_test_split(X, Y, test_size=0.3 )\n",
    "X_train.shape, Y_train.shape\n"
   ]
  },
  {
   "cell_type": "markdown",
   "id": "749dae7f-6104-4bb8-815d-a52cc71ef7ff",
   "metadata": {
    "id": "749dae7f-6104-4bb8-815d-a52cc71ef7ff"
   },
   "source": [
    "# II. Classification: #"
   ]
  },
  {
   "cell_type": "markdown",
   "id": "b20f3a0e-743c-40b4-844d-b49b09053317",
   "metadata": {
    "id": "b20f3a0e-743c-40b4-844d-b49b09053317"
   },
   "source": [
    "## 1) Decision Tree Classifier ##"
   ]
  },
  {
   "cell_type": "code",
   "execution_count": null,
   "id": "ff2506ea-1e0f-41f1-b0ac-1e9ea52b46c3",
   "metadata": {
    "id": "ff2506ea-1e0f-41f1-b0ac-1e9ea52b46c3"
   },
   "outputs": [],
   "source": [
    "from sklearn import tree\n",
    "from sklearn.tree import DecisionTreeClassifier\n",
    "\n",
    "T=tree.DecisionTreeClassifier(random_state=42)\n",
    "clf_DT=T.fit(X_train, Y_train)\n",
    "clf_DT\n"
   ]
  },
  {
   "cell_type": "code",
   "execution_count": null,
   "id": "318cbef6-a145-42a9-a0ca-239a4a0a1224",
   "metadata": {
    "id": "318cbef6-a145-42a9-a0ca-239a4a0a1224"
   },
   "outputs": [],
   "source": [
    "from sklearn.metrics import accuracy_score, classification_report, confusion_matrix\n",
    "\n",
    "score1=accuracy_score(Y_train, clf_DT.predict(X_train))\n",
    "score2=classification_report(Y_train, clf_DT.predict(X_train))\n",
    "score3=confusion_matrix(Y_train, clf_DT.predict(X_train))\n",
    "print(f'Accuracy= {score1:.3f},\\n Classification :\\n{score2}, \\n Confusion Matrix:\\n{score3}\\n')\n",
    "#:.3f\n"
   ]
  },
  {
   "cell_type": "code",
   "execution_count": null,
   "id": "29239556-5676-4b30-9316-12295e678a59",
   "metadata": {
    "id": "29239556-5676-4b30-9316-12295e678a59",
    "tags": []
   },
   "outputs": [],
   "source": [
    "print_score(clf_DT, X_train, X_test, Y_train, Y_test, train=True)\n",
    "print('/n--------------------------------------------------->/n')\n",
    "print_score(clf_DT, X_train, X_test, Y_train, Y_test, train=False)\n"
   ]
  },
  {
   "cell_type": "markdown",
   "id": "1f331d53-74d8-4764-8b92-ac6fd93cf44e",
   "metadata": {
    "id": "1f331d53-74d8-4764-8b92-ac6fd93cf44e"
   },
   "source": [
    "### Interpretation : ###\n",
    "<br>\n",
    "- <b>Accuracy Score: accuracy of model </b> 77%, pretty weak model <br>\n",
    "- <b>Precision: error in predictions </b>  <br>\n",
    "- <b>Recall: true positive rate, fraction of True cases </b>  <br>\n",
    "-  <b>f1 Score: model's accuracy, fraction of True predictions </b>  <br>\n",
    "-  <b>Confusion Matrix: a table of all actual values versus the predicted ones of a classifier</b>   <br>\n",
    "-  <b>ROC AUC Score: measure of separability, the performance in distingishing the + and - classes </b> <br>\n",
    "-  <b>Cross Validation Accuracy: k fold cross validation of the entire data set  </b>  <br>\n"
   ]
  },
  {
   "cell_type": "markdown",
   "id": "fa40ffbe-fd42-4d54-aa65-a1d03afa1d68",
   "metadata": {
    "id": "fa40ffbe-fd42-4d54-aa65-a1d03afa1d68"
   },
   "source": [
    "## 2) Random Forest ##"
   ]
  },
  {
   "cell_type": "code",
   "execution_count": null,
   "id": "c0dfba83-4303-489d-85a9-bf0595b170ee",
   "metadata": {
    "colab": {
     "base_uri": "https://localhost:8080/",
     "height": 74
    },
    "executionInfo": {
     "elapsed": 842,
     "status": "ok",
     "timestamp": 1695139273332,
     "user": {
      "displayName": "Amine Hamouda",
      "userId": "06406683403374065678"
     },
     "user_tz": -60
    },
    "id": "c0dfba83-4303-489d-85a9-bf0595b170ee",
    "outputId": "753dc928-d976-482a-cffc-2260d514bc8c",
    "tags": []
   },
   "outputs": [],
   "source": [
    "from sklearn.ensemble import RandomForestClassifier\n",
    "\n",
    "RF_clf=RandomForestClassifier(random_state=544, n_estimators=100)\n",
    "RF_clf.fit(X_train, Y_train.ravel())\n"
   ]
  },
  {
   "cell_type": "code",
   "execution_count": null,
   "id": "766dd2fb-e1b0-41a6-a20f-1b866fcb983a",
   "metadata": {
    "colab": {
     "base_uri": "https://localhost:8080/"
    },
    "executionInfo": {
     "elapsed": 34108,
     "status": "ok",
     "timestamp": 1695139309267,
     "user": {
      "displayName": "Amine Hamouda",
      "userId": "06406683403374065678"
     },
     "user_tz": -60
    },
    "id": "766dd2fb-e1b0-41a6-a20f-1b866fcb983a",
    "outputId": "0c4a09b5-5331-4b4c-a511-7ac8210670c1",
    "tags": []
   },
   "outputs": [],
   "source": [
    "\n",
    "print(f' {print_score(RF_clf, X_train, X_test, Y_train.ravel(), Y_test.ravel(), train=True)}')\n",
    "print(f'\\n ---------------------------------------\\n')\n",
    "print(f'{print_score(RF_clf, X_train, X_test, Y_train.ravel(), Y_test.ravel(), train=False)}')\n"
   ]
  },
  {
   "cell_type": "markdown",
   "id": "f40af714-0315-4173-a08e-fb6181060430",
   "metadata": {
    "id": "f40af714-0315-4173-a08e-fb6181060430"
   },
   "source": [
    "### Interpretation : ###\n",
    "<br>\n",
    "- <b>Accuracy Score: accuracy of model </b> 85% for test set, good performance <br>\n",
    "- <b>Precision: error in predictions </b>  <br>\n",
    "- <b>Recall: true positive rate, fraction of True cases </b> 11% for positive True Cases, which is very weak <br>\n",
    "-  <b>f1 Score: model's accuracy, fraction of True predictions </b>  <br>\n",
    "-  <b>Confusion Matrix: a table of all actual values versus the predicted ones of a classifier</b>   <br>\n",
    "-  <b>ROC AUC Score: measure of separability, the performance in distingishing the + and - classes </b> <br>\n",
    "-  <b>Cross Validation Accuracy: k fold cross validation of the entire data set  </b>  <br>\n"
   ]
  },
  {
   "cell_type": "markdown",
   "id": "b0622f81-5270-4601-99ed-452103a2b8bd",
   "metadata": {
    "id": "b0622f81-5270-4601-99ed-452103a2b8bd"
   },
   "source": [
    "## 3) SVM ##"
   ]
  },
  {
   "cell_type": "code",
   "execution_count": null,
   "id": "8ad0884c-283d-4772-b057-53ea9105e741",
   "metadata": {
    "id": "8ad0884c-283d-4772-b057-53ea9105e741",
    "tags": []
   },
   "outputs": [],
   "source": [
    "from sklearn import svm\n",
    "\n",
    "C=10\n",
    "SVM_clf=svm.SVC(kernel='linear', C=C)\n",
    "SVM_clf.fit(X_train, Y_train)\n"
   ]
  },
  {
   "cell_type": "code",
   "execution_count": null,
   "id": "3ba8b376-578f-4dfe-9a98-9cdb3fe4a9f1",
   "metadata": {
    "id": "3ba8b376-578f-4dfe-9a98-9cdb3fe4a9f1",
    "tags": []
   },
   "outputs": [],
   "source": [
    "\n",
    "print(f' {print_score(SVM_clf, X_train, X_test, Y_train.ravel(), Y_test.ravel(), train=True)}')\n",
    "print(f'\\n ---------------------------------------\\n')\n",
    "print(f'{print_score(SVM_clf, X_train, X_test, Y_train.ravel(), Y_test.ravel(), train=False)}')\n"
   ]
  },
  {
   "cell_type": "markdown",
   "id": "1d0253ab-e030-4e59-be2d-35918c331806",
   "metadata": {
    "id": "1d0253ab-e030-4e59-be2d-35918c331806"
   },
   "source": [
    "### Interpretation : ###\n",
    "\n",
    "| Parameter\t| Role\t| Value|  Interpretation |\n",
    "|:- |:- |:- |:- |\n",
    "|<b>Accuracy Score: </b>  | \taccuracy of model   |    |    |  \n",
    "|<b>Precision: </b>| error in predictions  |   |  |  \n",
    "|<b>Recall:  </b>| True positive rate, fraction of True cases </b>  |  |   |  \n",
    "|<b>f1 Score:  </b>|model's accuracy, fraction of True predictions  |  \t |   |\n",
    "|<b>Confusion Matrix:  </b>| a table of all actual values versus the predicted ones of a classifier |   |  |\n",
    "|<b>ROC AUC Score:   </b>| measure of separability, the performance in distingishing the + and - classes\t |     |   |\n",
    "|<b>Cross Validation Accuracy: </b> | k fold cross validation of the entire data set\t |     |   |\n"
   ]
  },
  {
   "cell_type": "markdown",
   "id": "dca79b6a-8d9f-4386-8f05-0772a57fe140",
   "metadata": {
    "id": "dca79b6a-8d9f-4386-8f05-0772a57fe140"
   },
   "source": [
    "## 4) Bagging ##"
   ]
  },
  {
   "cell_type": "code",
   "execution_count": null,
   "id": "bed17fe7-ba2a-4dff-9c43-459c894b24e5",
   "metadata": {
    "id": "bed17fe7-ba2a-4dff-9c43-459c894b24e5"
   },
   "outputs": [],
   "source": [
    "from sklearn.ensemble import BaggingClassifier\n",
    "\n",
    "bag_clf=BaggingClassifier(estimator=RF_clf, n_estimators=500, bootstrap=True,\n",
    "                          oob_score=False, n_jobs=-1, random_state=42)\n",
    "bag_clf.fit(X_train, Y_train.ravel())\n"
   ]
  },
  {
   "cell_type": "code",
   "execution_count": null,
   "id": "3208631c-ab42-4542-bdcd-92b85349cfbb",
   "metadata": {
    "id": "3208631c-ab42-4542-bdcd-92b85349cfbb",
    "tags": []
   },
   "outputs": [],
   "source": [
    "print_score(xgb_clf, X_train, X_test, Y_train, Y_test, train=True)\n",
    "print('\\n--------------------------------------------------->\\n')\n",
    "print_score(xgb_clf, X_train, X_test, Y_train, Y_test, train=False)\n"
   ]
  },
  {
   "cell_type": "markdown",
   "id": "7e59f476-1ae4-4378-940b-a334fa3111f9",
   "metadata": {
    "id": "7e59f476-1ae4-4378-940b-a334fa3111f9",
    "tags": []
   },
   "source": [
    "## 5) AdaBoost with RF ##"
   ]
  },
  {
   "cell_type": "code",
   "execution_count": null,
   "id": "c503e2f2-5a95-41eb-8108-c2e31a9dfe53",
   "metadata": {
    "colab": {
     "base_uri": "https://localhost:8080/",
     "height": 117
    },
    "executionInfo": {
     "elapsed": 709,
     "status": "ok",
     "timestamp": 1695139386624,
     "user": {
      "displayName": "Amine Hamouda",
      "userId": "06406683403374065678"
     },
     "user_tz": -60
    },
    "id": "c503e2f2-5a95-41eb-8108-c2e31a9dfe53",
    "outputId": "fdb502e6-df4b-4569-8ac1-efae6efd1659",
    "tags": []
   },
   "outputs": [],
   "source": [
    "from sklearn.ensemble import AdaBoostClassifier\n",
    "\n",
    "ada_clf=AdaBoostClassifier(RandomForestClassifier(n_estimators=100), n_estimators=100)\n",
    "ada_clf.fit(X_train, Y_train.ravel())\n"
   ]
  },
  {
   "cell_type": "code",
   "execution_count": null,
   "id": "67bd4576-b2cc-43cb-9913-140d1fd2d92f",
   "metadata": {
    "colab": {
     "base_uri": "https://localhost:8080/"
    },
    "executionInfo": {
     "elapsed": 41642,
     "status": "ok",
     "timestamp": 1695139431842,
     "user": {
      "displayName": "Amine Hamouda",
      "userId": "06406683403374065678"
     },
     "user_tz": -60
    },
    "id": "67bd4576-b2cc-43cb-9913-140d1fd2d92f",
    "outputId": "95f547e7-cdf6-491c-d03f-e99a85c4f849"
   },
   "outputs": [],
   "source": [
    "print_score(ada_clf, X_train, X_test, Y_train, Y_test, train=True)\n",
    "print('\\n--------------------------------------------------->\\n')\n",
    "print_score(ada_clf, X_train, X_test, Y_train, Y_test, train=False)\n"
   ]
  },
  {
   "cell_type": "markdown",
   "id": "EsXloM66LwHe",
   "metadata": {
    "id": "EsXloM66LwHe"
   },
   "source": [
    "### Interpretation : ###\n",
    "\n",
    "| Parameter\t| Role\t| Value|  Interpretation |\n",
    "|:- |:- |:- |:- |\n",
    "|<b>Accuracy Score: </b>  | \taccuracy of model   | 85%   |    |  \n",
    "|<b>Precision: </b>| error in predictions  |   |  |  \n",
    "|<b>Recall:  </b>| True positive rate, fraction of True cases </b>  |  |   |  \n",
    "|<b>f1 Score:  </b>|model's accuracy, fraction of True predictions  |  19%\t |  very low positive predictions |\n",
    "|<b>Confusion Matrix:  </b>| a table of all actual values versus the predicted ones of a classifier |   |  |\n",
    "|<b>ROC AUC Score:   </b>| measure of separability, the performance in distingishing the + and - classes\t |     |   |\n",
    "|<b>Cross Validation Accuracy: </b> | k fold cross validation of the entire data set\t |     |   |\n"
   ]
  },
  {
   "cell_type": "markdown",
   "id": "040f6122-a499-4be6-b478-7a79ef5b7e0b",
   "metadata": {
    "id": "040f6122-a499-4be6-b478-7a79ef5b7e0b",
    "tags": []
   },
   "source": [
    "## 6) XG boost ##"
   ]
  },
  {
   "cell_type": "code",
   "execution_count": null,
   "id": "98d834af-374c-467b-8ee6-8c04cf4b66ae",
   "metadata": {
    "colab": {
     "base_uri": "https://localhost:8080/",
     "height": 248
    },
    "executionInfo": {
     "elapsed": 1702,
     "status": "ok",
     "timestamp": 1695141072448,
     "user": {
      "displayName": "Amine Hamouda",
      "userId": "06406683403374065678"
     },
     "user_tz": -60
    },
    "id": "98d834af-374c-467b-8ee6-8c04cf4b66ae",
    "outputId": "13abc32a-f121-40e5-ece1-0774fa99f5c9"
   },
   "outputs": [],
   "source": [
    "import xgboost as xgb\n",
    "\n",
    "xgb_clf=xgb.XGBClassifier(max_depth=5, n_estimators=500, learning_rate=0.3, n_jobs=-1)\n",
    "xgb_clf.fit(X_train, Y_train.ravel())\n"
   ]
  },
  {
   "cell_type": "code",
   "execution_count": null,
   "id": "457bef4e-5f7c-490b-bd05-c0d0edd36f6c",
   "metadata": {
    "colab": {
     "base_uri": "https://localhost:8080/"
    },
    "executionInfo": {
     "elapsed": 150949,
     "status": "ok",
     "timestamp": 1695141223376,
     "user": {
      "displayName": "Amine Hamouda",
      "userId": "06406683403374065678"
     },
     "user_tz": -60
    },
    "id": "457bef4e-5f7c-490b-bd05-c0d0edd36f6c",
    "outputId": "66a53544-0f85-47b2-f918-e32b1e10293c"
   },
   "outputs": [],
   "source": [
    "print_score(xgb_clf, X_train, X_test, Y_train, Y_test, train=True)\n",
    "print('\\n--------------------------------------------------->\\n')\n",
    "print_score(xgb_clf, X_train, X_test, Y_train, Y_test, train=False)\n"
   ]
  },
  {
   "cell_type": "markdown",
   "id": "b5157a02-ae5c-47b1-87c1-fafe54d8b48d",
   "metadata": {
    "id": "b5157a02-ae5c-47b1-87c1-fafe54d8b48d"
   },
   "source": [
    "### Interpretation : ###\n",
    "\n",
    "| Parameter\t| Role\t| Value|  Interpretation |\n",
    "|:- |:- |:- |:- |\n",
    "|<b>Accuracy Score: </b>  | \taccuracy of model   | 86%   |    |  \n",
    "|<b>Precision: </b>| error in predictions  |   |  |  \n",
    "|<b>Recall:  </b>| True positive rate, fraction of True cases </b>  |  |   |  \n",
    "|<b>f1 Score:  </b>|model's accuracy, fraction of True predictions  |  43% for +\t | quite low but the best so far  |\n",
    "|<b>Confusion Matrix:  </b>| a table of all actual values versus the predicted ones of a classifier |   |  |\n",
    "|<b>ROC AUC Score:   </b>| measure of separability, the performance in distingishing the + and - classes\t |     |   |\n",
    "|<b>Cross Validation Accuracy: </b> | k fold cross validation of the entire data set\t |     |   |\n"
   ]
  },
  {
   "cell_type": "markdown",
   "id": "b8132769-c5b1-4a45-8b58-a457e15ed500",
   "metadata": {
    "id": "b8132769-c5b1-4a45-8b58-a457e15ed500"
   },
   "source": [
    "# II. Clustering: ##"
   ]
  },
  {
   "cell_type": "markdown",
   "id": "6c91466a-627e-46bf-ad30-4459c17351b9",
   "metadata": {
    "id": "6c91466a-627e-46bf-ad30-4459c17351b9"
   },
   "source": [
    "## KNN ##"
   ]
  },
  {
   "cell_type": "markdown",
   "id": "74ca3972-2d38-4cc8-a8c7-4c8bfd035a26",
   "metadata": {
    "id": "74ca3972-2d38-4cc8-a8c7-4c8bfd035a26"
   },
   "source": [
    "## DistanceMetric class documentation\n",
    "[scikit-learn]()\n",
    "\n",
    "Metrics intended for real-valued vector spaces:\n",
    "\n",
    "| identifier\t| class name\t| args\t| distance function |\n",
    "|:- |:- |:- |:- |\n",
    "|“euclidean” | \tEuclideanDistance  |   | $\\sqrt{\\sum(x - y)^2)}$  |  \n",
    "|“manhattan” | ManhattanDistance |  | $\\sum\\big|x - y\\big|$|  \n",
    "|“chebyshev” | ChebyshevDistance |  | max${\\big|x - y\\big|}$ |  \n",
    "|“minkowski” | MinkowskiDistance\t | p\t | $\\sum(\\big|x - y\\big|^p)^{\\frac{1}{p}}$     |\n",
    "|“wminkowski” | WMinkowskiDistance\t | p, w\t | $\\sum(w\\big|x - y\\big|^p)^{\\frac{1}{p}}$     |\n",
    "|“seuclidean” | SEuclideanDistance\t | V\t | $\\sqrt{\\sum\\frac{(x - y)^2}{V})}$     |\n",
    "\n",
    "Refer to documentation for more on\n",
    "* Metrics intended for two-dimensional vector spaces\n",
    "* Metrics intended for integer-valued vector spaces\n",
    "* Metrics intended for boolean-valued vector spaces\n",
    "\n",
    "* User-defined distance"
   ]
  },
  {
   "cell_type": "code",
   "execution_count": null,
   "id": "8ad7c8d6-7dfe-4dcd-8ccd-a7af95009893",
   "metadata": {
    "colab": {
     "base_uri": "https://localhost:8080/",
     "height": 74
    },
    "executionInfo": {
     "elapsed": 391,
     "status": "ok",
     "timestamp": 1695139518973,
     "user": {
      "displayName": "Amine Hamouda",
      "userId": "06406683403374065678"
     },
     "user_tz": -60
    },
    "id": "8ad7c8d6-7dfe-4dcd-8ccd-a7af95009893",
    "outputId": "5be7912f-7d2d-48c4-bbe5-98863b8d595d"
   },
   "outputs": [],
   "source": [
    "from sklearn.neighbors import KNeighborsClassifier\n",
    "\n",
    "knn = KNeighborsClassifier(n_neighbors=6,p=2, metric='euclidean')\n",
    "knn.fit(X_train, Y_train)\n"
   ]
  },
  {
   "cell_type": "code",
   "execution_count": null,
   "id": "5abb7f34-4ef7-455f-bb27-ae1c9eed07b8",
   "metadata": {
    "colab": {
     "base_uri": "https://localhost:8080/"
    },
    "executionInfo": {
     "elapsed": 1586,
     "status": "ok",
     "timestamp": 1695139524790,
     "user": {
      "displayName": "Amine Hamouda",
      "userId": "06406683403374065678"
     },
     "user_tz": -60
    },
    "id": "5abb7f34-4ef7-455f-bb27-ae1c9eed07b8",
    "outputId": "e3d74f67-e822-486a-8a48-e8ba67a25eb0"
   },
   "outputs": [],
   "source": [
    "print_score(knn, X_train, X_test, Y_train, Y_test, train=True)\n",
    "print('\\n--------------------------------------------------->\\n')\n",
    "print_score(knn, X_train, X_test, Y_train, Y_test, train=False)\n"
   ]
  },
  {
   "cell_type": "markdown",
   "id": "AIs_XMgWMIoQ",
   "metadata": {
    "id": "AIs_XMgWMIoQ"
   },
   "source": [
    "### Interpretation : ###\n",
    "\n",
    "| Parameter\t| Role\t| Value|  Interpretation |\n",
    "|:- |:- |:- |:- |\n",
    "|<b>Accuracy Score: </b>  | \taccuracy of model   |    |    |  \n",
    "|<b>Precision: </b>| error in predictions  |   |  |  \n",
    "|<b>Recall:  </b>| True positive rate, fraction of True cases </b>  |  |   |  \n",
    "|<b>f1 Score:  </b>|model's accuracy, fraction of True predictions  |  10%\t | low True positive   |\n",
    "|<b>Confusion Matrix:  </b>| a table of all actual values versus the predicted ones of a classifier |   |  |\n",
    "|<b>ROC AUC Score:   </b>| measure of separability, the performance in distingishing the + and - classes\t |     |   |\n",
    "|<b>Cross Validation Accuracy: </b> | k fold cross validation of the entire data set\t |     |   |\n"
   ]
  },
  {
   "cell_type": "code",
   "execution_count": null,
   "id": "a85a170c-324b-4944-815e-3186a318d88d",
   "metadata": {
    "id": "a85a170c-324b-4944-815e-3186a318d88d"
   },
   "outputs": [],
   "source": []
  },
  {
   "cell_type": "markdown",
   "id": "98e3aa40-d41f-499c-8bae-dc17bd176192",
   "metadata": {
    "id": "98e3aa40-d41f-499c-8bae-dc17bd176192"
   },
   "source": [
    "# III. Dimensionality Reduction #"
   ]
  },
  {
   "cell_type": "markdown",
   "id": "568e5e15-ee85-4c6a-b5f4-5866a69e70a0",
   "metadata": {
    "id": "568e5e15-ee85-4c6a-b5f4-5866a69e70a0"
   },
   "source": [
    "## PCA ##"
   ]
  },
  {
   "cell_type": "code",
   "execution_count": null,
   "id": "8be6e1cb-08ab-4027-bee3-e9bd2c7dcdf8",
   "metadata": {
    "colab": {
     "base_uri": "https://localhost:8080/",
     "height": 74
    },
    "executionInfo": {
     "elapsed": 348,
     "status": "ok",
     "timestamp": 1695140131225,
     "user": {
      "displayName": "Amine Hamouda",
      "userId": "06406683403374065678"
     },
     "user_tz": -60
    },
    "id": "8be6e1cb-08ab-4027-bee3-e9bd2c7dcdf8",
    "outputId": "ac4bbef2-d35d-46e3-a9bb-e6b314e6d592"
   },
   "outputs": [],
   "source": [
    "from sklearn.decomposition import PCA\n",
    "\n",
    "pca=PCA(n_components=3)\n",
    "pca.fit(X_train)\n"
   ]
  },
  {
   "cell_type": "code",
   "execution_count": null,
   "id": "a1aef879-5c40-483e-af79-b5818815f048",
   "metadata": {
    "colab": {
     "base_uri": "https://localhost:8080/"
    },
    "executionInfo": {
     "elapsed": 338,
     "status": "ok",
     "timestamp": 1695139670658,
     "user": {
      "displayName": "Amine Hamouda",
      "userId": "06406683403374065678"
     },
     "user_tz": -60
    },
    "id": "a1aef879-5c40-483e-af79-b5818815f048",
    "outputId": "b995dc58-82e7-4f95-c5e0-d745c542eec4"
   },
   "outputs": [],
   "source": [
    "pca.components_, pca.explained_variance_, pca.explained_variance_ratio_\n"
   ]
  },
  {
   "cell_type": "code",
   "execution_count": null,
   "id": "b-cgC-6ZOEOq",
   "metadata": {
    "colab": {
     "base_uri": "https://localhost:8080/",
     "height": 1000
    },
    "executionInfo": {
     "elapsed": 2529,
     "status": "ok",
     "timestamp": 1695140676919,
     "user": {
      "displayName": "Amine Hamouda",
      "userId": "06406683403374065678"
     },
     "user_tz": -60
    },
    "id": "b-cgC-6ZOEOq",
    "outputId": "8e2bb6e3-34ac-48e1-843a-2779465c9549"
   },
   "outputs": [],
   "source": [
    "X_pca=pca.fit_transform(X_train)\n",
    "c=Y_train\n",
    "\n",
    "plt.figure(figsize=(8,15))\n",
    "plt.scatter(X_pca[:, 0], X_pca[:, 1], c=c, cmap='viridis')  # 'y' is the target variable for coloring points\n",
    "\n",
    "plt.xlabel('First Principal Component')\n",
    "plt.ylabel('Second Principal Component')\n",
    "plt.title('PCA Scatter Plot')\n",
    "plt.legend(loc='best')\n",
    "plt.colorbar()  # Add a colorbar if you're using class labels for coloring\n",
    "plt.show()\n"
   ]
  },
  {
   "cell_type": "markdown",
   "id": "suT5E1GvQgH3",
   "metadata": {
    "id": "suT5E1GvQgH3"
   },
   "source": [
    "### Conclusion: ###\n",
    "- In conclusion, seems like our models were able to predict the negative Attrition  with precision, although, all models fail to predict the positive Attrition (the best model which is built with XG boost gave f1 score for + prediction of 43% )\n",
    "- The PCA helped us see a distribution of positive Attrition influenced by Incomes."
   ]
  },
  {
   "cell_type": "code",
   "execution_count": null,
   "id": "F1T6mBIOQlYR",
   "metadata": {
    "id": "F1T6mBIOQlYR"
   },
   "outputs": [],
   "source": []
  }
 ],
 "metadata": {
  "colab": {
   "provenance": []
  },
  "kernelspec": {
   "display_name": "Python 3 (ipykernel)",
   "language": "python",
   "name": "python3"
  },
  "language_info": {
   "codemirror_mode": {
    "name": "ipython",
    "version": 3
   },
   "file_extension": ".py",
   "mimetype": "text/x-python",
   "name": "python",
   "nbconvert_exporter": "python",
   "pygments_lexer": "ipython3",
   "version": "3.9.17"
  }
 },
 "nbformat": 4,
 "nbformat_minor": 5
}
