{
 "cells": [
  {
   "cell_type": "markdown",
   "id": "dccf0ca6-0aed-4acd-aae0-f6dac8e178da",
   "metadata": {
    "id": "dccf0ca6-0aed-4acd-aae0-f6dac8e178da"
   },
   "source": [
    "# Global Sustainable Energy #"
   ]
  },
  {
   "cell_type": "markdown",
   "id": "faKhmPKp_Zh-",
   "metadata": {
    "id": "faKhmPKp_Zh-"
   },
   "source": [
    "### finding information about the Energy in Germany and the conection of the type of Energy to the Co2 Emissions ###"
   ]
  },
  {
   "cell_type": "code",
   "execution_count": null,
   "id": "c7346ac7-6e2d-4c41-99db-4bcae582cb9a",
   "metadata": {
    "colab": {
     "base_uri": "https://localhost:8080/"
    },
    "executionInfo": {
     "elapsed": 690,
     "status": "ok",
     "timestamp": 1695220062399,
     "user": {
      "displayName": "Amine Hamouda",
      "userId": "06406683403374065678"
     },
     "user_tz": -60
    },
    "id": "c7346ac7-6e2d-4c41-99db-4bcae582cb9a",
    "outputId": "b9c28a83-9906-4791-f331-d511b0e2f993",
    "tags": []
   },
   "outputs": [],
   "source": [
    "import numpy as np\n",
    "import pandas as pd\n",
    "import sklearn\n",
    "import seaborn as sns\n",
    "import matplotlib.pyplot as plt\n",
    "sns.set_style('whitegrid')\n",
    "%matplotlib inline\n",
    "import sys\n",
    "import matplotlib\n",
    "\n",
    "print('python:',sys.version)\n",
    "print('Numpy:',np.__version__)\n",
    "print('Pandas:',pd.__version__)\n",
    "print('Scikitlearn:',sklearn.__version__)\n",
    "print('Seaborn: ',sns.__version__)\n",
    "print('matplotlib:',matplotlib.__version__)\n"
   ]
  },
  {
   "cell_type": "markdown",
   "id": "963de3a7-5365-4794-9a58-bb4f3467b0cb",
   "metadata": {
    "id": "963de3a7-5365-4794-9a58-bb4f3467b0cb"
   },
   "source": [
    "# I. EDA #"
   ]
  },
  {
   "cell_type": "code",
   "execution_count": null,
   "id": "d2dd3319-528a-4597-9520-d4d54e7eead2",
   "metadata": {
    "id": "d2dd3319-528a-4597-9520-d4d54e7eead2",
    "tags": []
   },
   "outputs": [],
   "source": [
    "SE=pd.read_csv(r'Data-sustainable-energy2.csv')\n",
    "SE\n"
   ]
  },
  {
   "cell_type": "code",
   "execution_count": null,
   "id": "511dbe10-57a3-4f01-8664-902e948f98ef",
   "metadata": {
    "colab": {
     "base_uri": "https://localhost:8080/",
     "height": 583
    },
    "executionInfo": {
     "elapsed": 2660,
     "status": "ok",
     "timestamp": 1695218846598,
     "user": {
      "displayName": "Amine Hamouda",
      "userId": "06406683403374065678"
     },
     "user_tz": -60
    },
    "id": "511dbe10-57a3-4f01-8664-902e948f98ef",
    "outputId": "7b77a89e-6621-4859-afd7-27cfe6084978",
    "tags": []
   },
   "outputs": [],
   "source": [
    "#For Google Collab ONLY :\n",
    "\n",
    "from google.colab import drive\n",
    "drive.mount('/content/drive')\n",
    "file_path = '/content/drive/My Drive/ML/Data-sustainable-energy2.csv'\n",
    "SE=pd.read_csv(file_path )\n",
    "SE\n"
   ]
  },
  {
   "cell_type": "code",
   "execution_count": null,
   "id": "11a5ed6c-d394-4e6e-bc7c-bda4be925abb",
   "metadata": {
    "colab": {
     "base_uri": "https://localhost:8080/"
    },
    "executionInfo": {
     "elapsed": 627,
     "status": "ok",
     "timestamp": 1695218852660,
     "user": {
      "displayName": "Amine Hamouda",
      "userId": "06406683403374065678"
     },
     "user_tz": -60
    },
    "id": "11a5ed6c-d394-4e6e-bc7c-bda4be925abb",
    "outputId": "ee7a1b9b-239a-4444-f780-2b435a14e477",
    "tags": []
   },
   "outputs": [],
   "source": [
    "SE.shape\n",
    "SE.info()\n"
   ]
  },
  {
   "cell_type": "code",
   "execution_count": null,
   "id": "QbSmPVZjLki0",
   "metadata": {
    "colab": {
     "base_uri": "https://localhost:8080/"
    },
    "executionInfo": {
     "elapsed": 305,
     "status": "ok",
     "timestamp": 1695219033722,
     "user": {
      "displayName": "Amine Hamouda",
      "userId": "06406683403374065678"
     },
     "user_tz": -60
    },
    "id": "QbSmPVZjLki0",
    "outputId": "1b293275-fb8e-4340-c0a1-093001d951a3"
   },
   "outputs": [],
   "source": [
    "SE.describe()\n",
    "numeric_col=list(SE.describe().columns)\n",
    "categorical_col=list(set(SE.columns).difference(numeric_col))\n",
    "numeric_col\n"
   ]
  },
  {
   "cell_type": "code",
   "execution_count": null,
   "id": "lS85voAYBh4v",
   "metadata": {
    "colab": {
     "base_uri": "https://localhost:8080/"
    },
    "executionInfo": {
     "elapsed": 309,
     "status": "ok",
     "timestamp": 1695220215423,
     "user": {
      "displayName": "Amine Hamouda",
      "userId": "06406683403374065678"
     },
     "user_tz": -60
    },
    "id": "lS85voAYBh4v",
    "outputId": "af6f1e93-17fd-4eac-a2ef-b17ee01e814d"
   },
   "outputs": [],
   "source": [
    "SE.iloc[:,17]\n",
    "Target=np.array(SE['Value_co2_emissions_kt_by_country'])\n",
    "Target\n"
   ]
  },
  {
   "cell_type": "code",
   "execution_count": null,
   "id": "bb0714ed-d299-4f9d-a9ba-e64ddc00bd58",
   "metadata": {
    "colab": {
     "base_uri": "https://localhost:8080/"
    },
    "executionInfo": {
     "elapsed": 509,
     "status": "ok",
     "timestamp": 1695218927669,
     "user": {
      "displayName": "Amine Hamouda",
      "userId": "06406683403374065678"
     },
     "user_tz": -60
    },
    "id": "bb0714ed-d299-4f9d-a9ba-e64ddc00bd58",
    "outputId": "4d42157f-bfd2-43be-a41c-209ec6a63030",
    "tags": []
   },
   "outputs": [],
   "source": [
    "SE.isnull().any()\n"
   ]
  },
  {
   "cell_type": "markdown",
   "id": "r-HHuiGVIw4t",
   "metadata": {
    "id": "r-HHuiGVIw4t"
   },
   "source": [
    "## 1) Imputation ##"
   ]
  },
  {
   "cell_type": "code",
   "execution_count": null,
   "id": "HBn51ITRDKMW",
   "metadata": {
    "colab": {
     "base_uri": "https://localhost:8080/"
    },
    "executionInfo": {
     "elapsed": 372,
     "status": "ok",
     "timestamp": 1695220401706,
     "user": {
      "displayName": "Amine Hamouda",
      "userId": "06406683403374065678"
     },
     "user_tz": -60
    },
    "id": "HBn51ITRDKMW",
    "outputId": "76c812e7-c540-431c-ade5-55c6745877de"
   },
   "outputs": [],
   "source": [
    "for a in SE.columns:\n",
    "    print(SE[a].value_counts(normalize=False, sort=True, ascending=False, bins=None, dropna=False))\n"
   ]
  },
  {
   "cell_type": "code",
   "execution_count": null,
   "id": "ee064b59-61cc-4f87-9333-87e74c40fa03",
   "metadata": {
    "colab": {
     "base_uri": "https://localhost:8080/",
     "height": 565
    },
    "executionInfo": {
     "elapsed": 677,
     "status": "ok",
     "timestamp": 1695219796988,
     "user": {
      "displayName": "Amine Hamouda",
      "userId": "06406683403374065678"
     },
     "user_tz": -60
    },
    "id": "ee064b59-61cc-4f87-9333-87e74c40fa03",
    "outputId": "f1f1311d-91d3-4918-8c21-67cdee301058"
   },
   "outputs": [],
   "source": [
    "from sklearn.impute import SimpleImputer\n",
    "\n",
    "# define imputer\n",
    "imputer = SimpleImputer(strategy='most_frequent')\n",
    "# fit on the dataset\n",
    "DF=pd.DataFrame(SE[numeric_col], columns=numeric_col)\n",
    "imputer.fit(DF)\n",
    "# transform the dataset\n",
    "Xtran = imputer.transform(DF)\n",
    "# print total missing\n",
    "SE2=pd.DataFrame(Xtran, columns=numeric_col)\n",
    "SE2\n"
   ]
  },
  {
   "cell_type": "code",
   "execution_count": null,
   "id": "610735b0-5805-44ae-8626-15288c8ff020",
   "metadata": {
    "colab": {
     "base_uri": "https://localhost:8080/",
     "height": 442
    },
    "executionInfo": {
     "elapsed": 478,
     "status": "ok",
     "timestamp": 1695220278094,
     "user": {
      "displayName": "Amine Hamouda",
      "userId": "06406683403374065678"
     },
     "user_tz": -60
    },
    "id": "610735b0-5805-44ae-8626-15288c8ff020",
    "outputId": "e1c8097c-cbad-45c9-ef18-450895c4dd66",
    "tags": []
   },
   "outputs": [],
   "source": [
    "SE2.describe()\n"
   ]
  },
  {
   "cell_type": "markdown",
   "id": "dED8X0wJAODd",
   "metadata": {
    "id": "dED8X0wJAODd"
   },
   "source": [
    "### 2nd Method Imputation ###"
   ]
  },
  {
   "cell_type": "code",
   "execution_count": null,
   "id": "f5b15a00-7d9f-4183-9cda-f087c2788d8f",
   "metadata": {
    "tags": []
   },
   "outputs": [],
   "source": [
    "from sklearn.impute import KNNImputer\n",
    "from numpy import isnan\n",
    "\n",
    "\n",
    "# split into input and output elements\n",
    "data = SE[numeric_col].values\n",
    "ix = [i for i in range(data.shape[1]) if i <=20]#!= 20]\n",
    "x, y = data[:, ix], Target\n",
    "\n",
    "# define imputer\n",
    "imputer = KNNImputer()\n",
    "# fit on the dataset\n",
    "imputer.fit(x)\n",
    "# transform the dataset\n",
    "Xtran = imputer.transform(x)\n",
    "# print total missing\n",
    "print('Missing: %d' % sum(isnan(x).flatten()))\n",
    "print('Missing after imputing: %d' % sum(isnan(Xtran).flatten()))\n",
    "SE3=pd.DataFrame(Xtran, columns=numeric_col)\n",
    "SE3\n"
   ]
  },
  {
   "cell_type": "code",
   "execution_count": null,
   "id": "a7400fe2-8e23-4dd0-95ad-535b53fcf6ca",
   "metadata": {
    "tags": []
   },
   "outputs": [],
   "source": [
    "SE3.describe()\n"
   ]
  },
  {
   "cell_type": "markdown",
   "id": "ecb6f83c-5f30-4c78-af3b-02e250535059",
   "metadata": {
    "id": "r-HHuiGVIw4t"
   },
   "source": [
    "## 2) Plotting ##"
   ]
  },
  {
   "cell_type": "code",
   "execution_count": null,
   "id": "74efbfdc-36c6-4f79-a12c-e05268a4874e",
   "metadata": {
    "tags": []
   },
   "outputs": [],
   "source": [
    "plt.figure(figsize=(12,20))\n",
    "#mask for upper triangle\n",
    "mask=np.zeros_like(SE3[numeric_col].corr(), dtype=bool)\n",
    "mask[np.triu_indices_from(mask)]=True\n",
    "#Generate custom diverging colormap\n",
    "#cmap=sns.color_palette(\"flare\")\n",
    "cmap=sns.diverging_palette(h_neg=12, h_pos=12, s=100, l=40, sep=2, n=10, center='light', as_cmap=False)\n",
    "#Heatmap with mask with correct aspect ratio\n",
    "sns.heatmap(SE3[numeric_col].corr(), mask=mask, cmap=cmap, vmin=-1,vmax=1,\n",
    "            center=0, square=True, linewidths=0.5,annot=True, fmt='.2f', cbar_kws={'shrink':0.5})\n",
    "plt.show()\n"
   ]
  },
  {
   "cell_type": "code",
   "execution_count": null,
   "id": "f812d4d1-dcf7-4a77-85e8-5ec35c9258d0",
   "metadata": {
    "tags": []
   },
   "outputs": [],
   "source": [
    "\n",
    "SE3['Country']=SE['Entity']\n",
    "SE3\n"
   ]
  },
  {
   "cell_type": "code",
   "execution_count": null,
   "id": "87cb05a1-bb90-44d6-9c59-c9562d2d6b43",
   "metadata": {
    "tags": []
   },
   "outputs": [],
   "source": [
    "numeric_col\n"
   ]
  },
  {
   "cell_type": "markdown",
   "id": "1e04b3cb-61ff-43de-89d3-cf175c880aa4",
   "metadata": {},
   "source": [
    "## 3) Plotting per Country ##"
   ]
  },
  {
   "cell_type": "code",
   "execution_count": null,
   "id": "5dc47c35-29d7-4466-a318-c1aa2e73355b",
   "metadata": {},
   "outputs": [],
   "source": [
    "# DataFrame per country\n",
    "\n",
    "MR=['Year','Access to electricity (% of population)','Renewable energy share in the total final energy consumption (%)','Electricity from fossil fuels (TWh)',\n",
    "    'Electricity from nuclear (TWh)', 'Electricity from renewables (TWh)','Low-carbon electricity (% electricity)',\n",
    "    'Primary energy consumption per capita (kWh/person)','Value_co2_emissions_kt_by_country','gdp_per_capita']\n",
    "\n",
    "indx=[]\n",
    "Pays=input('insert country name plz: ')\n",
    "for i in SE3.index:\n",
    "    if SE3['Country'][i]==Pays:\n",
    "        indx.append(i)\n",
    "    \n",
    "indx\n"
   ]
  },
  {
   "cell_type": "code",
   "execution_count": null,
   "id": "7c913575-63eb-4795-8ee7-4d7bc8607b90",
   "metadata": {
    "tags": []
   },
   "outputs": [],
   "source": [
    "ia=indx[0]\n",
    "ib=indx[-1]\n",
    "\n",
    "SE_c=SE3[MR].iloc[ia:ib+1,:]\n",
    "SE_c\n"
   ]
  },
  {
   "cell_type": "code",
   "execution_count": null,
   "id": "3cb5ec36-be8d-4395-a720-69e21ca16625",
   "metadata": {
    "tags": []
   },
   "outputs": [],
   "source": [
    "# plot\n",
    "Years=np.arange(2000,2021, 1, dtype=np.int32)\n",
    "fig, ax = plt.subplots(figsize=(10, 6))\n",
    "sns.set_style('whitegrid') \n",
    "ax = sns.scatterplot(x=Years , y=SE_c['Access to electricity (% of population)'], palette='Set2', label='Access to electricity (% of population)')\n",
    "ax = sns.scatterplot(x=Years , y=SE_c['Renewable energy share in the total final energy consumption (%)'], palette='Set2', \n",
    "                     label='Renewable energy share in the total final energy consumption (%)')\n",
    "ax = sns.scatterplot(x=Years , y=SE_c['Low-carbon electricity (% electricity)'],label='Low-carbon electricity (% electricity)')\n",
    "ax.set_title('Evolution through Time', fontsize=10)\n",
    "ax.set(xlabel='Years', ylabel='Percentage')\n",
    "\n",
    "ax.legend(loc='best')\n",
    "plt.show()\n"
   ]
  },
  {
   "cell_type": "code",
   "execution_count": null,
   "id": "3129c49c-8b0c-439f-9c91-da252b525878",
   "metadata": {
    "tags": []
   },
   "outputs": [],
   "source": [
    "#pairplot\n",
    "\n",
    "plt.figure(figsize=(100, 120))\n",
    "sns.pairplot(SE_c, hue='Year' ,palette='bright', kind='scatter', markers=None,dropna=False, height=3)\n",
    "plt.show()\n"
   ]
  },
  {
   "cell_type": "markdown",
   "id": "b196e775-d54a-4c78-83d3-5d59225ed9ad",
   "metadata": {},
   "source": [
    "# II. Data Plotting #"
   ]
  },
  {
   "cell_type": "markdown",
   "id": "aac76947-3eb9-415c-b050-d1c0c32f6f67",
   "metadata": {},
   "source": [
    "## 1) Renewable Energy Share Vs  ##"
   ]
  },
  {
   "cell_type": "code",
   "execution_count": null,
   "id": "7629a685-79c8-4142-8d17-0a4268515348",
   "metadata": {
    "tags": []
   },
   "outputs": [],
   "source": [
    "MR=['Year','Access to electricity (% of population)','Renewable energy share in the total final energy consumption (%)','Electricity from fossil fuels (TWh)',\n",
    "    'Electricity from nuclear (TWh)', 'Electricity from renewables (TWh)','Low-carbon electricity (% electricity)',\n",
    "    'Primary energy consumption per capita (kWh/person)','Value_co2_emissions_kt_by_country','gdp_per_capita']\n",
    "SE3"
   ]
  },
  {
   "cell_type": "code",
   "execution_count": null,
   "id": "4e89fe5d-df4a-41bd-a0af-ba2bebe2617d",
   "metadata": {
    "tags": []
   },
   "outputs": [],
   "source": [
    "fig, ax = plt.subplots(figsize=(10, 6))\n",
    "sns.set_style('whitegrid') \n",
    "ax = sns.scatterplot(x=SE3['Primary energy consumption per capita (kWh/person)'] , y=SE3['Renewable energy share in the total final energy consumption (%)'], \n",
    "                     palette='Set2',label='Primary energy consumption per capita (kWh/person)')\n",
    "ax = sns.scatterplot(x=SE3['gdp_per_capita'] , y=SE3['Renewable energy share in the total final energy consumption (%)'], palette='Set2', label='gdp_per_capita')\n",
    "#ax = sns.scatterplot(x=SE3['Value_co2_emissions_kt_by_country'] , y=SE3['Renewable energy share in the total final energy consumption (%)'],label='Value_co2_emissions')\n",
    "ax.set_title('Renewable Energy Share Regression', fontsize=10)\n",
    "ax.set(ylabel='Renewable energy share in consumption')\n",
    "ax.legend(loc='best')\n",
    "plt.show()\n"
   ]
  },
  {
   "cell_type": "markdown",
   "id": "a1528d52-5254-45cc-8f94-ddc13c4cce93",
   "metadata": {},
   "source": [
    "## 2) Carbon Emissions Vs  ##"
   ]
  },
  {
   "cell_type": "code",
   "execution_count": null,
   "id": "bedef359-3c61-4ee9-8f5c-0e79b6ed504b",
   "metadata": {
    "tags": []
   },
   "outputs": [],
   "source": [
    "# Subplots for 1 country\n",
    "fig, (ax1, ax2, ax3) = plt.subplots(1, 3, figsize=(15, 8))\n",
    "ax1.plot(SE_c['Electricity from fossil fuels (TWh)'])\n",
    "ax1.set_title('Fossil Fuels')\n",
    "ax2.plot(SE_c['Electricity from nuclear (TWh)'])\n",
    "ax2.set_title('Nuclear')\n",
    "ax3.plot(SE_c['Electricity from renewables (TWh)'])\n",
    "ax3.set_title('Renewables')\n",
    "plt.tight_layout()\n",
    "plt.show()\n"
   ]
  },
  {
   "cell_type": "code",
   "execution_count": null,
   "id": "770b06ce-34ea-423b-af02-1abc83fab62a",
   "metadata": {
    "tags": []
   },
   "outputs": [],
   "source": [
    "h=SE3['Country']\n",
    "fig, ax = plt.subplots(figsize=(15, 8))\n",
    "ax = sns.scatterplot(x=SE3['Electricity from fossil fuels (TWh)'], y=SE3['Value_co2_emissions_kt_by_country'],\n",
    "                     palette='Set2',label='fossil fuels (TWh)')\n",
    "ax = sns.scatterplot(x=SE3['Electricity from nuclear (TWh)'] , y=SE3['Value_co2_emissions_kt_by_country'],\n",
    "                     palette='Set2', label='nuclear (TWh)')\n",
    "ax = sns.scatterplot(x=SE3['Electricity from renewables (TWh)'] , y=SE3['Value_co2_emissions_kt_by_country'],\n",
    "                     label='Renewables (TWh)')\n",
    "ax.set_title('Carbon Emissions Data', fontsize=16)\n",
    "ax.set(xlabel='Energy Production TWH', ylabel='Value_co2_emissions')\n",
    "ax.legend(loc='best')\n",
    "plt.show()\n"
   ]
  },
  {
   "cell_type": "markdown",
   "id": "eb05be75-ac4d-476c-965e-b4f23ffaff4f",
   "metadata": {},
   "source": [
    "## 3) Colormap Renewable Energy Share Vs :"
   ]
  },
  {
   "cell_type": "code",
   "execution_count": null,
   "id": "0f8a9063-1bf0-4efe-9bd5-5a76f1dd599e",
   "metadata": {
    "tags": []
   },
   "outputs": [],
   "source": [
    "SE3"
   ]
  },
  {
   "cell_type": "code",
   "execution_count": null,
   "id": "c9c7a9c7-41a6-4984-9325-727b59008f82",
   "metadata": {
    "tags": []
   },
   "outputs": [],
   "source": [
    "\n",
    "df_subset = SE3[['Country', 'Year', 'Renewable energy share in the total final energy consumption (%)', \n",
    "                'Value_co2_emissions_kt_by_country', 'gdp_per_capita']]\n",
    "df_subset\n"
   ]
  },
  {
   "cell_type": "code",
   "execution_count": null,
   "id": "3e794eb8-7a2c-4605-8f7a-4a744520d56c",
   "metadata": {
    "tags": []
   },
   "outputs": [],
   "source": [
    "import plotly.express as px\n",
    "import plotly.graph_objects as go\n",
    "sns.set_theme(style='darkgrid', palette='bright') #'colorblind')\n",
    "sns.set()\n",
    "\n",
    "def plot_map(df, column, title):\n",
    "    \n",
    "    # Create a choropleth map using Plotly Express\n",
    "    fig = px.choropleth(\n",
    "        df,\n",
    "        locations = 'Country',\n",
    "        locationmode = 'country names',\n",
    "        color = column,\n",
    "        hover_name = 'Country',\n",
    "        color_continuous_scale = 'RdYlGn',\n",
    "        animation_frame = 'Year',\n",
    "        range_color = [0, 100])\n",
    "\n",
    "    # Update geographic features\n",
    "    fig.update_geos(\n",
    "        showcoastlines = True,\n",
    "        coastlinecolor = \"Black\",\n",
    "        showland = True,\n",
    "        landcolor = \"white\",\n",
    "        showcountries = True,\n",
    "        showocean = True,\n",
    "        oceancolor = \"LightBlue\")\n",
    "    \n",
    "    # Update the layout of the figure\n",
    "    fig.update_layout(\n",
    "        title_text = title,\n",
    "        geo = dict(\n",
    "            showframe = False,\n",
    "            showcoastlines = False,\n",
    "            projection_type = 'equirectangular',\n",
    "            showland = True,\n",
    "            landcolor = \"white\",\n",
    "            showcountries = True,\n",
    "            showocean = True,\n",
    "            oceancolor = \"LightBlue\"),\n",
    "        width = 1000,\n",
    "        height = 850,\n",
    "        dragmode = 'pan',\n",
    "        hovermode = 'closest',\n",
    "        coloraxis_colorbar = dict(\n",
    "            title = column,\n",
    "            title_font_size = 14,\n",
    "            title_side = 'right',\n",
    "            lenmode = 'pixels',\n",
    "            len = 300,\n",
    "            thicknessmode = 'pixels',\n",
    "            thickness = 15),\n",
    "        updatemenus = [\n",
    "            {\"type\": \"buttons\", \"showactive\": False, \"x\": 0.1, \"y\": 0.9, \"buttons\": [{\"label\": \"Play\", \"method\": \"animate\"}]},\n",
    "            {\"type\": \"buttons\", \"showactive\": False, \"x\": 0.18, \"y\": 0.9, \"buttons\": [{\"label\": \"Pause\", \"method\": \"animate\"}]},\n",
    "            {\"type\": \"buttons\", \"showactive\": False, \"x\": 0.26, \"y\": 0.9, \"buttons\": [{\"label\": \"Stop\", \"method\": \"animate\"}]}],\n",
    "        sliders = [{\"yanchor\": \"top\", \"xanchor\": \"left\", \"currentvalue\": {\"font\": {\"size\": 20}}, \"steps\": []}])\n",
    "\n",
    "    # Create slider steps for animation\n",
    "    slider_steps = []\n",
    "\n",
    "    for year in df['Year'].unique():\n",
    "        step = {\n",
    "            \"args\": [\n",
    "                [year],\n",
    "                {\"frame\": {\"duration\": 300, \"redraw\": False}, \"mode\": \"immediate\", \"transition\": {\"duration\": 0}}],\n",
    "            \"label\": str(year),\n",
    "            \"method\": \"animate\"}\n",
    "        slider_steps.append(step)\n",
    "\n",
    "    # Assign slider steps to the figure layout\n",
    "    fig.layout.updatemenus[0].buttons[0].args[1]['steps'] = slider_steps\n",
    "\n",
    "    return fig"
   ]
  },
  {
   "cell_type": "code",
   "execution_count": null,
   "id": "55138ed1-3132-4354-b197-ed6506946f5b",
   "metadata": {
    "tags": []
   },
   "outputs": [],
   "source": [
    "plot_map(df_subset,'Renewable energy share in the total final energy consumption (%)', 'Renewable Energy Share Evolution')\n"
   ]
  },
  {
   "cell_type": "markdown",
   "id": "11ba94c6-f900-41bb-a5bf-edb0f991d1f7",
   "metadata": {},
   "source": [
    "## 4) Renewable Energy Share / Country :"
   ]
  },
  {
   "cell_type": "code",
   "execution_count": null,
   "id": "6f44b866-18b6-40ad-9ba7-39462ba5efb5",
   "metadata": {},
   "outputs": [],
   "source": [
    "\n",
    "average_Renewable_Energy = SE3.groupby('Country')['Renewable energy share in the total final energy consumption (%)'].mean()\n",
    "top_5_countries = average_Renewable_Energy.nlargest(10)\n",
    "top_5_countries\n"
   ]
  },
  {
   "cell_type": "code",
   "execution_count": null,
   "id": "94435191-691e-4289-8e8a-dc2d2606db00",
   "metadata": {
    "tags": []
   },
   "outputs": [],
   "source": [
    "plt.figure(figsize = (15, 7))\n",
    "sns.barplot(x = top_5_countries.index, y = top_5_countries.values)\n",
    "plt.xlabel('Country')\n",
    "plt.ylabel('Renewable energy share in the total final energy consumption (%)')\n",
    "plt.title('Top 5 Countries with Highest Renewable energy share in the total energy')\n",
    "plt.xticks(rotation = 45, ha = 'center')\n",
    "plt.tight_layout()\n",
    "plt.show()\n"
   ]
  },
  {
   "cell_type": "markdown",
   "id": "6653b92d-fe58-4cc1-b74b-c77b1de0c235",
   "metadata": {
    "tags": []
   },
   "source": [
    "## <b><span style=\"color: #FF0000\"> Interpretation:</span> </b>\n",
    "The highest Renewable energy share are for the poorest countries of the planet(~90% in total energy production)"
   ]
  },
  {
   "cell_type": "code",
   "execution_count": null,
   "id": "149c58a5-0530-4d10-8dbe-f1bf854f17e3",
   "metadata": {
    "tags": []
   },
   "outputs": [],
   "source": [
    "average_Renewable_Energy = SE3.groupby('Country')['gdp_per_capita'].mean()\n",
    "top_5_countries = average_Renewable_Energy.nsmallest(10)\n",
    "top_5_countries\n"
   ]
  },
  {
   "cell_type": "code",
   "execution_count": null,
   "id": "e956775c-7aad-4e57-a4ba-1c22ec1e6ce1",
   "metadata": {
    "tags": []
   },
   "outputs": [],
   "source": [
    "plt.figure(figsize = (15, 7))\n",
    "sns.barplot(x = top_5_countries.index, y = top_5_countries.values)\n",
    "plt.xlabel('Country')\n",
    "plt.ylabel('gdp_per_capita')\n",
    "plt.title('Top 5 Countries with lowest GDP')\n",
    "plt.xticks(rotation = 60, ha = 'center')\n",
    "plt.tight_layout()\n",
    "plt.show()\n"
   ]
  },
  {
   "cell_type": "markdown",
   "id": "3fdd5e30-e9ee-49dc-b01d-93a00f7940cc",
   "metadata": {},
   "source": [
    "## <b><span style=\"color: #FF0000\"> Interpretation:</span> </b>\n",
    "Highest renewable energy share : Somalia, Uganda, Ethiopia, Burundi, Central African Republic,Bhutan, \n",
    "Guinea-Bissau,Liberia,Rwanda,Zambia.\n",
    "All of these countries are 3rd world countries, 4 of them have the lowest GDP on the planet, which is very contraversial, knowing that renewable energies usually have higher cost of production than fossil fuel energy.\n"
   ]
  },
  {
   "cell_type": "markdown",
   "id": "42bcf65e-e0b7-4b77-b527-dac9c5804cba",
   "metadata": {},
   "source": [
    "## 5) Carbon Emissions / Country :"
   ]
  },
  {
   "cell_type": "code",
   "execution_count": null,
   "id": "f443a8ec-1b04-4a77-89e5-e4f22ac45cbf",
   "metadata": {
    "tags": []
   },
   "outputs": [],
   "source": [
    "SE3[MR]"
   ]
  },
  {
   "cell_type": "code",
   "execution_count": null,
   "id": "c2b5b8e8-c972-45ee-8003-ad0721c82d09",
   "metadata": {},
   "outputs": [],
   "source": [
    "\n",
    "average_Renewable_Energy = SE3.groupby('Country')['Value_co2_emissions_kt_by_country'].mean()\n",
    "top_5_countries = average_Renewable_Energy.nlargest(10)\n",
    "top_5_countries\n"
   ]
  },
  {
   "cell_type": "code",
   "execution_count": null,
   "id": "896685eb-db2f-42bc-b5dd-6581114f1ece",
   "metadata": {
    "tags": []
   },
   "outputs": [],
   "source": [
    "plt.figure(figsize = (15, 7))\n",
    "sns.barplot(x = top_5_countries.index, y = top_5_countries.values)\n",
    "plt.xlabel('Country')\n",
    "plt.ylabel('Co2 emissions KT')\n",
    "plt.title('Top 5 Countries with Co2 emissions KT')\n",
    "plt.xticks(rotation = 45, ha = 'center')\n",
    "plt.tight_layout()\n",
    "plt.show()\n"
   ]
  },
  {
   "cell_type": "code",
   "execution_count": null,
   "id": "f000a30f-86f4-4e76-9161-b2eef3cf3e6f",
   "metadata": {},
   "outputs": [],
   "source": [
    "\n",
    "average_Renewable_Energy = SE3.groupby('Country')['gdp_per_capita'].mean()\n",
    "top_5_countries = average_Renewable_Energy.nlargest(10)\n",
    "top_5_countries\n"
   ]
  },
  {
   "cell_type": "code",
   "execution_count": null,
   "id": "7a895b7f-6e71-4d7a-aee1-eebed54afafb",
   "metadata": {
    "tags": []
   },
   "outputs": [],
   "source": [
    "plt.figure(figsize = (15, 7))\n",
    "sns.barplot(x = top_5_countries.index, y = top_5_countries.values)\n",
    "plt.xlabel('Country')\n",
    "plt.ylabel('GDP per_capita')\n",
    "plt.title('Top 5 Countries with Highest GDP per capita')\n",
    "plt.xticks(rotation = 45, ha = 'center')\n",
    "plt.tight_layout()\n",
    "plt.show()\n"
   ]
  },
  {
   "cell_type": "markdown",
   "id": "bbec1976-6161-49e0-b180-8fe16cf37686",
   "metadata": {},
   "source": [
    "\n",
    "## 6) Biggest polluters - Evolution Co2 Emissions and Renwable Energy Share :"
   ]
  },
  {
   "cell_type": "code",
   "execution_count": null,
   "id": "9ec05f77-b724-4c08-bf2b-112e8287104e",
   "metadata": {
    "tags": []
   },
   "outputs": [],
   "source": [
    "polluters=['China','United States','India','Japan','Germany','Canada',\n",
    "           'United Kingdom','Mexico','Indonesia','Saudi Arabia']\n",
    "BP=[]\n",
    "for b in polluters:\n",
    "    for j in SE3[SE3['Country']==b].index:\n",
    "        BP.append(j)\n",
    "        \n",
    "len(BP)\n",
    "SE3"
   ]
  },
  {
   "cell_type": "code",
   "execution_count": null,
   "id": "58f8a10b-410f-480b-bac8-a5ab1b31fb02",
   "metadata": {
    "tags": []
   },
   "outputs": [],
   "source": [
    "BP_DF=SE3.iloc[BP,:]\n",
    "BP_DF\n"
   ]
  },
  {
   "cell_type": "code",
   "execution_count": null,
   "id": "067222af-c76e-4f34-a38b-8cf3f2c964ae",
   "metadata": {
    "tags": []
   },
   "outputs": [],
   "source": [
    "\n",
    "fig, ax = plt.subplots(figsize=(15, 7))\n",
    "sns.set_style('whitegrid') \n",
    "ax = sns.scatterplot(x=BP_DF['Year'] , y=BP_DF['Value_co2_emissions_kt_by_country'], palette='bright',hue=BP_DF['Country'], label='Co2')\n",
    "#ax = sns.scatterplot(x=BP_DF['Year']  , y=BP_DF['Renewable energy share in the total final energy consumption (%)'], \n",
    "#                     hue=BP_DF['Country'],palette='colorblind',label='Renewables share in total energy')\n",
    "\n",
    "ax.set_title('Evolution of the biggest polluters', fontsize=10)\n",
    "ax.set(xlabel='Years')\n",
    "ax.legend(loc='best')\n",
    "plt.show()"
   ]
  },
  {
   "cell_type": "code",
   "execution_count": null,
   "id": "255b0049-8bf8-4f60-9544-a9432b526c32",
   "metadata": {
    "tags": []
   },
   "outputs": [],
   "source": []
  },
  {
   "cell_type": "markdown",
   "id": "305da8d7-9f14-4adb-83d0-e00590d3a7b1",
   "metadata": {},
   "source": [
    "## <b><span style=\"color: #FF0000\"> Interpretation:</span> </b>\n",
    "\n"
   ]
  },
  {
   "cell_type": "markdown",
   "id": "bfb036bb-37a2-471f-a5f2-37bee61d2bbb",
   "metadata": {},
   "source": [
    "# III. Data Preprocessing #"
   ]
  },
  {
   "cell_type": "markdown",
   "id": "ce16e1f7-aa5f-43a1-b35b-d1f4f36b43f1",
   "metadata": {
    "id": "r-HHuiGVIw4t"
   },
   "source": [
    "## 1) Scaling ##"
   ]
  },
  {
   "cell_type": "code",
   "execution_count": null,
   "id": "725b594f-7d7c-47f3-b1f8-1ce49baca376",
   "metadata": {
    "tags": []
   },
   "outputs": [],
   "source": [
    "MR=['Year','Access to electricity (% of population)','Renewable energy share in the total final energy consumption (%)','Electricity from fossil fuels (TWh)',\n",
    "    'Electricity from nuclear (TWh)', 'Electricity from renewables (TWh)','Low-carbon electricity (% electricity)',\n",
    "    'Primary energy consumption per capita (kWh/person)','Value_co2_emissions_kt_by_country','gdp_per_capita']\n",
    "SE3"
   ]
  },
  {
   "cell_type": "code",
   "execution_count": null,
   "id": "5506cdf8-6a9e-4644-a9ff-e2fd2e375bc0",
   "metadata": {
    "tags": []
   },
   "outputs": [],
   "source": [
    "SE3.describe()\n"
   ]
  },
  {
   "cell_type": "code",
   "execution_count": null,
   "id": "6cc98f77-24c9-4e6c-a6d9-34f58d61febe",
   "metadata": {
    "tags": []
   },
   "outputs": [],
   "source": [
    "from sklearn.preprocessing import MinMaxScaler\n",
    "\n",
    "scaler = MinMaxScaler()\n",
    "SE4=pd.DataFrame(scaler.fit_transform(SE3[MR]), columns= MR)\n",
    "SE4.describe()\n"
   ]
  },
  {
   "cell_type": "code",
   "execution_count": null,
   "id": "f97b8ada-f981-4eb2-8f04-b2d31e827ab0",
   "metadata": {
    "tags": []
   },
   "outputs": [],
   "source": [
    "#Optional\n",
    "from sklearn.preprocessing import StandardScaler\n",
    "\n",
    "scaler = StandardScaler()\n",
    "SE4=pd.DataFrame(scaler.fit_transform(SE3[MR]), columns= MR)\n",
    "SE4.describe()\n"
   ]
  },
  {
   "cell_type": "markdown",
   "id": "e62cb3b9-bd8e-48eb-af61-c7a2f9e26a51",
   "metadata": {},
   "source": [
    "## 2) Label Encoding ##"
   ]
  },
  {
   "cell_type": "code",
   "execution_count": null,
   "id": "58cf92a2-c262-448f-ad67-24f056cc99cf",
   "metadata": {
    "tags": []
   },
   "outputs": [],
   "source": [
    "SE3['Country']\n"
   ]
  },
  {
   "cell_type": "code",
   "execution_count": null,
   "id": "34d4f202-a612-44a4-b40b-f998c5e05577",
   "metadata": {
    "tags": []
   },
   "outputs": [],
   "source": [
    "from sklearn.preprocessing import LabelEncoder\n",
    "SE5=SE4\n",
    "le = LabelEncoder()\n",
    "SE5['Country'] = le.fit_transform(SE3['Country'])\n",
    "SE5\n"
   ]
  },
  {
   "cell_type": "markdown",
   "id": "8081288d-9433-4c21-b22a-0393bdf1c4e2",
   "metadata": {},
   "source": [
    "## 3) PCA ##"
   ]
  },
  {
   "cell_type": "code",
   "execution_count": null,
   "id": "ce838e59-6653-4a7d-8d73-4bfdc5436b57",
   "metadata": {},
   "outputs": [],
   "source": [
    "from sklearn.decomposition import PCA\n",
    "\n",
    "pca=PCA(n_components=3)\n",
    "pca.fit(X_train)\n"
   ]
  },
  {
   "cell_type": "code",
   "execution_count": null,
   "id": "da8745a4-2a40-4871-a52d-945c412d6a32",
   "metadata": {},
   "outputs": [],
   "source": [
    "pca.components_, pca.explained_variance_, pca.explained_variance_ratio_\n"
   ]
  },
  {
   "cell_type": "code",
   "execution_count": null,
   "id": "536b808e-576e-4f36-afef-fe1f7035c025",
   "metadata": {
    "tags": []
   },
   "outputs": [],
   "source": [
    "X_pca=pca.fit_transform(X_train)\n",
    "c=Y_train\n",
    "\n",
    "plt.figure(figsize=(8,15))\n",
    "plt.scatter(X_pca[:, 0], X_pca[:, 1], c=c, cmap='viridis')  # 'y' is the target variable for\n",
    "#coloring points\n",
    "\n",
    "plt.xlabel('First Principal Component')\n",
    "plt.ylabel('Second Principal Component')\n",
    "plt.title('PCA Scatter Plot')\n",
    "plt.colorbar()  # Add a colorbar if you're using class labels for coloring\n",
    "plt.show()\n"
   ]
  },
  {
   "cell_type": "markdown",
   "id": "91159c39-435f-43c6-b142-104c8c4431b5",
   "metadata": {},
   "source": [
    "## 4) Data Spliting ##"
   ]
  },
  {
   "cell_type": "code",
   "execution_count": null,
   "id": "8fa68f66-520e-4b18-a402-919a4e84385a",
   "metadata": {
    "tags": []
   },
   "outputs": [],
   "source": [
    "from sklearn.model_selection import train_test_split\n",
    "\n",
    "x1=SE5.iloc[:,0:8]\n",
    "x2=SE5.iloc[:,10:11]\n",
    "X=pd.concat([x1,x2], axis=1, join='outer',ignore_index=False,verify_integrity=False, sort=False)\n",
    "Y=SE5['Value_co2_emissions_kt_by_country']\n",
    "\n",
    "X_train,X_test, Y_train,Y_test=train_test_split(X, Y, test_size=0.3, random_state=353 )\n",
    "X_train.shape, Y_test.shape\n",
    "X_train.describe()\n"
   ]
  },
  {
   "cell_type": "markdown",
   "id": "1d5d7fcf-89ca-417b-afb1-c8f0bed64ca5",
   "metadata": {},
   "source": [
    "# IV. Model training and evaluation #"
   ]
  },
  {
   "cell_type": "code",
   "execution_count": null,
   "id": "cef90b5f-e284-452c-b46e-708574e1921e",
   "metadata": {},
   "outputs": [],
   "source": [
    "from sklearn.metrics import mean_squared_error,r2_score\n",
    "\n",
    "def print_score(clf, X_train, X_test, Y_train, Y_test, train=True):\n",
    "    \"Print the accuracy score, Classification report and confusion matrix\"\n",
    "    if train:\n",
    "        \"Train performance\"\n",
    "        Y_train_pred=clf.predict(X_train.reshape(-1,1))\n",
    "        print(f'Train Results:\\n')\n",
    "        print(f'MSE Train={mean_squared_error(Y_train,Y_train_pred):.4f}')\n",
    "        print(f'R² Train={r2_score(Y_train,Y_train_pred):.4f}')\n",
    "        \n",
    "   \n",
    "    elif train==False:\n",
    "        \"Test performance\"\n",
    "        Y_test_pred=clf.predict(X_test.reshape(-1,1))\n",
    "        print(f'Test Results:\\n')\n",
    "        print(f'MSE Test ={mean_squared_error(Y_test,Y_test_pred):.4f}')\n",
    "        print(f'R² Test ={r2_score(Y_test,Y_test_pred):.4f}')\n"
   ]
  },
  {
   "cell_type": "markdown",
   "id": "92401ba2-e065-4d69-b8f2-5a2929cb60f5",
   "metadata": {},
   "source": [
    "## A) Renewable Energy Share Vs Primary energy consumption per capita (kWh/person) ##"
   ]
  },
  {
   "cell_type": "code",
   "execution_count": null,
   "id": "5068c1a4-dc55-44bf-8cad-a0428d128163",
   "metadata": {
    "tags": []
   },
   "outputs": [],
   "source": [
    "x1=X_train['Primary energy consumption per capita (kWh/person)'].values\n",
    "y1=pd.DataFrame(X_train['Renewable energy share in the total final energy consumption (%)'])\n",
    "x1_test=X_test['Primary energy consumption per capita (kWh/person)'].values\n",
    "y1_test=pd.DataFrame(X_test['Renewable energy share in the total final energy consumption (%)'])\n",
    "x1"
   ]
  },
  {
   "cell_type": "markdown",
   "id": "ef78fffc-c8d9-41d6-9227-785615e07af1",
   "metadata": {},
   "source": [
    "## 1) Random Forest ##"
   ]
  },
  {
   "cell_type": "code",
   "execution_count": null,
   "id": "0e257856-b25f-4b9e-82c7-ae34b6d07d10",
   "metadata": {
    "tags": []
   },
   "outputs": [],
   "source": [
    "from sklearn.ensemble import RandomForestRegressor\n",
    "\n",
    "#Criterion: 'poisson', 'squared_error', 'friedman_mse', 'absolute_error'\n",
    "forest=RandomForestRegressor(n_estimators=500, criterion='squared_error', random_state=42, n_jobs=-1)\n",
    "forest.fit(x1.reshape(-1,1),y1)\n",
    "forest\n"
   ]
  },
  {
   "cell_type": "code",
   "execution_count": null,
   "id": "2ec4ca6e-f82c-4e26-ab1f-4441107c256c",
   "metadata": {
    "tags": []
   },
   "outputs": [],
   "source": [
    "#sort_idx problem !!!!\n",
    "sort_idx=x1.reshape(-1,1).flatten().argsort()\n",
    "plt.figure(figsize=(10,6))\n",
    "plt.scatter(x1,y1, c='b')\n",
    "plt.plot(x1[sort_idx],forest.predict(x1[sort_idx].reshape(-1,1)), color='r', linewidth=2)\n",
    "plt.xlabel('Primary energy consumption')\n",
    "plt.ylabel('Renewable energy share')\n"
   ]
  },
  {
   "cell_type": "code",
   "execution_count": null,
   "id": "0e01961a-2555-4c4f-886c-c7bbcce9f6f7",
   "metadata": {
    "tags": []
   },
   "outputs": [],
   "source": [
    "print_score(forest, x1, x1_test, y1, y1_test, train=True)\n",
    "print('------------------------------------------>>')\n",
    "print_score(forest, x1, x1_test, y1, y1_test, train=False)\n"
   ]
  },
  {
   "cell_type": "markdown",
   "id": "4988d8cc-a86e-4fdf-b83d-529433c3eea0",
   "metadata": {},
   "source": [
    "## 2) Decision Tree ##"
   ]
  },
  {
   "cell_type": "code",
   "execution_count": null,
   "id": "19095821-0e5b-42c3-a15f-a4cfd0a0e045",
   "metadata": {
    "tags": []
   },
   "outputs": [],
   "source": [
    "from sklearn.tree import DecisionTreeRegressor\n",
    "\n",
    "tree=DecisionTreeRegressor(max_depth=2, min_samples_leaf=10) \n",
    "T=tree.fit(x1.reshape(-1,1),y1)\n"
   ]
  },
  {
   "cell_type": "code",
   "execution_count": null,
   "id": "494c290e-c2d8-4778-b1ff-224b2d42c10d",
   "metadata": {
    "tags": []
   },
   "outputs": [],
   "source": [
    "sort_idx=x1_test.reshape(-1,1).flatten().argsort()\n",
    "plt.figure(figsize=(10,6))\n",
    "plt.scatter(x1 ,y1 , s=20,edgecolor='k', c='blue', label='data')\n",
    "plt.plot(x1_test[sort_idx],tree.predict(x1_test.reshape(-1,1))[sort_idx], \n",
    "         color='red', label='max_depth=3',\n",
    "         linewidth=2 )\n",
    "plt.xlabel('Primary energy consumption')\n",
    "plt.ylabel('Renewable energy share')\n",
    "plt.legend()\n",
    "plt.show()\n"
   ]
  },
  {
   "cell_type": "code",
   "execution_count": null,
   "id": "bbbed35e-038b-4052-a9b9-4fbc9482bf34",
   "metadata": {
    "tags": []
   },
   "outputs": [],
   "source": [
    "print_score(tree, x1, x1_test, y1, y1_test, train=True)\n",
    "print('------------------------------------------>>')\n",
    "print_score(tree, x1, x1_test, y1, y1_test, train=False)\n"
   ]
  },
  {
   "cell_type": "markdown",
   "id": "781dd939-b581-4fd2-9de1-009e045d7abd",
   "metadata": {},
   "source": [
    "## <b><span style=\"color: #FF0000\"> Interpretation:</span> </b>\n",
    "R² test is highest with Decison tree, sems like the best regressor for this case."
   ]
  },
  {
   "cell_type": "markdown",
   "id": "86172600-67e5-4775-ae95-2706e0c1df33",
   "metadata": {},
   "source": [
    "## 3) Polynomial ##"
   ]
  },
  {
   "cell_type": "code",
   "execution_count": null,
   "id": "08dac0eb-aa8c-460e-8f39-38de87981054",
   "metadata": {
    "tags": []
   },
   "outputs": [],
   "source": [
    "from sklearn.linear_model import LinearRegression\n",
    "from sklearn.preprocessing import PolynomialFeatures\n",
    "\n",
    "poly=PolynomialFeatures(degree=5)\n",
    "X_poly=poly.fit_transform(np.array(x1).reshape(-1,1))\n",
    "poly2=LinearRegression()\n",
    "poly2.fit(X_poly,np.array(y1).reshape(-1,1))\n",
    "X_fit=np.arange(x1.min(), x1.max(),0.1)[:,np.newaxis]\n",
    "Y_pred=poly2.predict(poly.fit_transform(X_fit.reshape(-1,1)))\n",
    "X_fit\n"
   ]
  },
  {
   "cell_type": "code",
   "execution_count": null,
   "id": "0f36d4d8-3224-47a2-b237-22f447f5cd38",
   "metadata": {
    "tags": []
   },
   "outputs": [],
   "source": [
    "\n",
    "plt.figure(figsize=(12,6))\n",
    "plt.scatter(x1,y1, c='green')\n",
    "plt.plot(X_fit,Y_pred,c='yellow', linewidth=3)\n",
    "plt.show()\n"
   ]
  },
  {
   "cell_type": "code",
   "execution_count": null,
   "id": "74862ca1-a6cd-4c77-b6d7-ad35d7d8038d",
   "metadata": {
    "tags": []
   },
   "outputs": [],
   "source": [
    "print(f'model Coef={poly2.coef_}, R² ={r2_score(y1,poly2.predict(X_poly)):.3f}')\n"
   ]
  },
  {
   "cell_type": "markdown",
   "id": "fd073493-becb-4827-ac56-a8944f0d5f99",
   "metadata": {},
   "source": [
    "## 4) Ridge ##"
   ]
  },
  {
   "cell_type": "code",
   "execution_count": null,
   "id": "fc35b32f-b10f-40ca-9a99-138531d75ad1",
   "metadata": {},
   "outputs": [],
   "source": [
    "from sklearn.linear_model import Ridge\n",
    "\n",
    "#rng_N=preprocessing.normalize(rng.reshape(-1,1))\n",
    "ridge=Ridge(alpha=0.5, fit_intercept=True)#, normalize=True)\n",
    "ridge.fit(x1.reshape(-1,1), y1)\n",
    "ridge_pred=ridge.predict(x1.reshape(-1,1))\n",
    "\n",
    "plt.figure(figsize=(10,8))\n",
    "plt.scatter(x1, y1, color='blue')\n",
    "plt.plot(x1,ridge_pred, color='red' )\n",
    "ridge.coef_\n"
   ]
  },
  {
   "cell_type": "code",
   "execution_count": null,
   "id": "15a5ed4e-362c-4ff5-928b-82d6d3d5fab6",
   "metadata": {
    "tags": []
   },
   "outputs": [],
   "source": [
    "print_score(ridge, x1, x1_test, y1, y1_test, train=True)\n",
    "print('------------------------------------------>>')\n",
    "print_score(ridge, x1, x1_test, y1, y1_test, train=False)\n"
   ]
  },
  {
   "cell_type": "markdown",
   "id": "88cedd74-889d-4658-8c6d-77bc427101f6",
   "metadata": {},
   "source": [
    "## B) Renewable Energy Share Vs Access to electricity (% of population) ##"
   ]
  },
  {
   "cell_type": "code",
   "execution_count": null,
   "id": "2d1e393a-5694-4a66-8c3a-0b78d2c3f0c1",
   "metadata": {
    "tags": []
   },
   "outputs": [],
   "source": [
    "X=X_train['Access to electricity (% of population)'].values\n",
    "Y=pd.DataFrame(X_train['Renewable energy share in the total final energy consumption (%)'])\n",
    "x1_test=X_test['Access to electricity (% of population)'].values\n",
    "y1_test=pd.DataFrame(X_test['Renewable energy share in the total final energy consumption (%)'])\n",
    "X\n"
   ]
  },
  {
   "cell_type": "markdown",
   "id": "748faee2-b295-4375-a970-7c0eb341ef62",
   "metadata": {
    "tags": []
   },
   "source": [
    "### 1) Decision Tree \n"
   ]
  },
  {
   "cell_type": "code",
   "execution_count": null,
   "id": "a08a17ff-291d-44dc-86cd-dee8d9378fb2",
   "metadata": {},
   "outputs": [],
   "source": [
    "from sklearn.tree import DecisionTreeRegressor\n",
    "\n",
    "tree=DecisionTreeRegressor(max_depth=2, min_samples_leaf=10)\n",
    "tree.fit(X.reshape(-1,1),Y)\n"
   ]
  },
  {
   "cell_type": "code",
   "execution_count": null,
   "id": "1ab093c6-e8cf-4728-b82c-8c4c3c462f7b",
   "metadata": {
    "tags": []
   },
   "outputs": [],
   "source": [
    "sort_idx=x1_test.reshape(-1,1).flatten().argsort()\n",
    "plt.figure(figsize=(10,6))\n",
    "plt.scatter(X,Y, s=20,edgecolor='k', c='blue', label='data')\n",
    "plt.plot(x1_test[sort_idx],tree.predict(x1_test.reshape(-1,1))[sort_idx], \n",
    "         color='red', label='max_depth=3',linewidth=2 )\n",
    "plt.xlabel('Primary energy consumption')\n",
    "plt.ylabel('Renewable energy share')\n",
    "plt.legend()\n",
    "plt.show()\n"
   ]
  },
  {
   "cell_type": "code",
   "execution_count": null,
   "id": "5956c14e-ff4d-4f88-9ce4-c7dd2d1c0cc0",
   "metadata": {
    "tags": []
   },
   "outputs": [],
   "source": [
    "print_score(tree, X, x1_test, Y, y1_test, train=True)\n",
    "print('------------------------------------------>>')\n",
    "print_score(tree, X, x1_test, Y, y1_test, train=False)\n"
   ]
  },
  {
   "cell_type": "markdown",
   "id": "d59c9712-27ea-4ee3-bdb9-8cb6a8d3a72b",
   "metadata": {},
   "source": [
    "### 2) Ridge:"
   ]
  },
  {
   "cell_type": "code",
   "execution_count": null,
   "id": "7eda2926-16e8-4395-84d4-6b73bd1a51a3",
   "metadata": {},
   "outputs": [],
   "source": [
    "from sklearn.linear_model import Ridge\n",
    "\n",
    "ridge=Ridge(alpha=0.5, fit_intercept=True)\n",
    "ridge.fit(X.reshape(-1,1), Y)\n",
    "ridge_pred=ridge.predict(X.reshape(-1,1))\n",
    "\n",
    "plt.figure(figsize=(10,8))\n",
    "plt.scatter(X,Y, color='blue',edgecolor='k')\n",
    "plt.plot(X,ridge_pred, color='red', linewidth=3 )\n",
    "ridge.coef_\n"
   ]
  },
  {
   "cell_type": "code",
   "execution_count": null,
   "id": "56ab1520-e410-4ed9-a9bb-a7b1ef14321f",
   "metadata": {
    "tags": []
   },
   "outputs": [],
   "source": [
    "print_score(ridge, X, x1_test, Y, y1_test, train=True)\n",
    "print('------------------------------------------>>')\n",
    "print_score(ridge, X, x1_test, Y, y1_test, train=False)\n"
   ]
  },
  {
   "cell_type": "markdown",
   "id": "bfeeca2a-7790-4bbd-b9a0-fbc46bbdc2a5",
   "metadata": {},
   "source": [
    "## <b><span style=\"color: #FF0000\"> Interpretation:</span> </b>\n",
    "\n",
    "R² test is highest (with an MSE=3%) with Ridge model, sems like the best regressor for this case."
   ]
  },
  {
   "cell_type": "markdown",
   "id": "8bf7b48b-185a-44f6-858e-602a62d858c0",
   "metadata": {},
   "source": [
    "### 3) AdaBoost:"
   ]
  },
  {
   "cell_type": "code",
   "execution_count": null,
   "id": "ba4f5deb-fe69-49f0-8e22-4927a5643256",
   "metadata": {
    "tags": []
   },
   "outputs": [],
   "source": [
    "from sklearn.tree import DecisionTreeRegressor\n",
    "from sklearn.ensemble import AdaBoostRegressor\n",
    "\n",
    "ada=AdaBoostRegressor(DecisionTreeRegressor(max_depth=3), n_estimators=500, random_state=42)\n",
    "ada.fit(X.reshape(-1,1) ,np.array(Y))\n",
    "Y_train_predict=ada.predict(X.reshape(-1,1))\n",
    "Y_test_predict=ada.predict(np.array(x1_test).reshape(-1,1))\n"
   ]
  },
  {
   "cell_type": "code",
   "execution_count": null,
   "id": "ad23db14-fe26-4c8c-a923-9ca3d80ad3ae",
   "metadata": {
    "tags": []
   },
   "outputs": [],
   "source": [
    "plt.figure(figsize=(12,6))\n",
    "plt.scatter(X,Y, color='blue',edgecolor='k')\n",
    "plt.plot(X,Y_train_predict, color='red', linewidth=3 )\n",
    "plt.show()\n"
   ]
  },
  {
   "cell_type": "code",
   "execution_count": null,
   "id": "47116177-3942-4fd5-9ec3-6bfc677cd1e0",
   "metadata": {
    "tags": []
   },
   "outputs": [],
   "source": [
    "print_score(ada, X, x1_test, Y, y1_test, train=True)\n",
    "print('------------------------------------------>>')\n",
    "print_score(ada, X, x1_test, Y, y1_test, train=False)\n"
   ]
  },
  {
   "cell_type": "markdown",
   "id": "3a1bff8b-741b-4f9d-a066-b36ab1ff36af",
   "metadata": {},
   "source": [
    "## C) Renewable Energy Share Vs Value_co2_emissions_kt_by_country ##"
   ]
  },
  {
   "cell_type": "code",
   "execution_count": null,
   "id": "3f9d3618-fec2-4ba8-8065-96c4c479d4d2",
   "metadata": {
    "tags": []
   },
   "outputs": [],
   "source": [
    "#SE4\n",
    "X_train\n"
   ]
  },
  {
   "cell_type": "code",
   "execution_count": null,
   "id": "bb5b3651-dad4-42b9-b440-82f39b661025",
   "metadata": {
    "tags": []
   },
   "outputs": [],
   "source": [
    "X=np.array(Y_train)\n",
    "Y=X_train['Renewable energy share in the total final energy consumption (%)']\n",
    "x1_test=np.array(Y_test)\n",
    "y1_test=X_test['Renewable energy share in the total final energy consumption (%)']\n",
    "Y_train\n"
   ]
  },
  {
   "cell_type": "markdown",
   "id": "7e06049e-96c5-4b11-b16b-fd6336abef4f",
   "metadata": {
    "tags": []
   },
   "source": [
    "### 1) Decision Tree \n"
   ]
  },
  {
   "cell_type": "code",
   "execution_count": null,
   "id": "36504a24-fae4-4a60-9400-fc015264ec64",
   "metadata": {},
   "outputs": [],
   "source": [
    "from sklearn.tree import DecisionTreeRegressor\n",
    "\n",
    "tree=DecisionTreeRegressor(max_depth=3, min_samples_leaf=10)\n",
    "tree.fit(X.reshape(-1,1),Y)\n"
   ]
  },
  {
   "cell_type": "code",
   "execution_count": null,
   "id": "4bce09fa-9508-4832-9e68-e4705fbb253d",
   "metadata": {
    "tags": []
   },
   "outputs": [],
   "source": [
    "sort_idx=x1_test.reshape(-1,1).flatten().argsort()\n",
    "plt.figure(figsize=(10,6))\n",
    "plt.scatter(X,Y, s=20,edgecolor='k', c='blue', label='data')\n",
    "plt.plot(x1_test[sort_idx],tree.predict(x1_test.reshape(-1,1))[sort_idx], \n",
    "         color='red', label='max_depth=3',linewidth=2 )\n",
    "plt.xlabel('Co2 Emissions')\n",
    "plt.ylabel('Renewable energy share')\n",
    "plt.legend()\n",
    "plt.show()\n"
   ]
  },
  {
   "cell_type": "code",
   "execution_count": null,
   "id": "8786c7a6-7325-4e09-9dde-3a59f90e8f82",
   "metadata": {
    "tags": []
   },
   "outputs": [],
   "source": [
    "print_score(tree, X, x1_test, Y, y1_test, train=True)\n",
    "print('------------------------------------------>>')\n",
    "print_score(tree, X, x1_test, Y, y1_test, train=False)\n"
   ]
  },
  {
   "cell_type": "markdown",
   "id": "23b3bb8f-ac29-4e23-b3ed-305757cd13ed",
   "metadata": {},
   "source": [
    "### 2) Ridge:"
   ]
  },
  {
   "cell_type": "code",
   "execution_count": null,
   "id": "e80f1e19-b307-4d5c-af63-483a3bf79182",
   "metadata": {},
   "outputs": [],
   "source": [
    "from sklearn.linear_model import Ridge\n",
    "\n",
    "ridge=Ridge(alpha=0.5, fit_intercept=True)\n",
    "ridge.fit(X.reshape(-1,1), Y)\n",
    "ridge_pred=ridge.predict(X.reshape(-1,1))\n",
    "\n",
    "plt.figure(figsize=(10,8))\n",
    "plt.scatter(X,Y, color='blue',edgecolor='k')\n",
    "plt.plot(X,ridge_pred, color='red', linewidth=3 )\n",
    "ridge.coef_\n"
   ]
  },
  {
   "cell_type": "code",
   "execution_count": null,
   "id": "c56ce24c-ba60-480e-8088-b7abe1e2b510",
   "metadata": {
    "tags": []
   },
   "outputs": [],
   "source": [
    "print_score(ridge, X, x1_test, Y, y1_test, train=True)\n",
    "print('------------------------------------------>>')\n",
    "print_score(ridge, X, x1_test, Y, y1_test, train=False)\n"
   ]
  },
  {
   "cell_type": "markdown",
   "id": "f067aa2f-f0e4-47c3-acac-4b0bb588df56",
   "metadata": {},
   "source": [
    "## 3) Polynomial ##"
   ]
  },
  {
   "cell_type": "code",
   "execution_count": null,
   "id": "97fda376-3b71-4259-aafc-525920d9d8e1",
   "metadata": {
    "tags": []
   },
   "outputs": [],
   "source": [
    "from sklearn.linear_model import LinearRegression\n",
    "from sklearn.preprocessing import PolynomialFeatures\n",
    "\n",
    "poly=PolynomialFeatures(degree=2)\n",
    "X_poly=poly.fit_transform(np.array(X).reshape(-1,1))\n",
    "poly2=LinearRegression()\n",
    "poly2.fit(X_poly,np.array(Y).reshape(-1,1))\n",
    "X_fit=np.arange(X.min(), X.max(),0.1)[:,np.newaxis]\n",
    "Y_pred=poly2.predict(poly.fit_transform(X_fit.reshape(-1,1)))\n",
    "X_fit\n"
   ]
  },
  {
   "cell_type": "code",
   "execution_count": null,
   "id": "ad789a28-e782-45c8-aeb5-bdae3cdfaff8",
   "metadata": {
    "tags": []
   },
   "outputs": [],
   "source": [
    "\n",
    "plt.figure(figsize=(12,6))\n",
    "plt.scatter(x1,y1, c='green', edgecolor='k')\n",
    "plt.plot(X_fit,Y_pred,c='yellow', linewidth=3)\n",
    "plt.show()\n"
   ]
  },
  {
   "cell_type": "code",
   "execution_count": null,
   "id": "bda18809-bf6b-4630-8a33-e5426bc2e18d",
   "metadata": {
    "tags": []
   },
   "outputs": [],
   "source": [
    "print(f'model Coef={poly2.coef_}, R² ={r2_score(y1,poly2.predict(X_poly)):.3f}')\n"
   ]
  },
  {
   "cell_type": "markdown",
   "id": "5a3f4888-5e71-48a9-9375-4007ef56c164",
   "metadata": {},
   "source": [
    "### 4) AdaBoost:"
   ]
  },
  {
   "cell_type": "code",
   "execution_count": null,
   "id": "dbfa16dd-a4aa-40d2-bd26-18aa124e1a68",
   "metadata": {
    "tags": []
   },
   "outputs": [],
   "source": [
    "from sklearn.tree import DecisionTreeRegressor\n",
    "from sklearn.ensemble import AdaBoostRegressor\n",
    "\n",
    "ada=AdaBoostRegressor(DecisionTreeRegressor(max_depth=3), n_estimators=500, random_state=42)\n",
    "ada.fit(X.reshape(-1,1) ,np.array(Y))\n",
    "Y_train_predict=ada.predict(X.reshape(-1,1))\n",
    "Y_test_predict=ada.predict(np.array(x1_test).reshape(-1,1))\n"
   ]
  },
  {
   "cell_type": "code",
   "execution_count": null,
   "id": "be4673d4-735a-415d-818d-bd65d4ce9c44",
   "metadata": {
    "tags": []
   },
   "outputs": [],
   "source": [
    "plt.figure(figsize=(12,6))\n",
    "plt.scatter(X,Y, color='blue',edgecolor='k')\n",
    "plt.plot(x1_test,Y_test_predict, color='red', linewidth=3 )\n",
    "plt.show()\n"
   ]
  },
  {
   "cell_type": "code",
   "execution_count": null,
   "id": "3e7bbeb0-02f0-4019-a9ec-2259fe68d950",
   "metadata": {
    "tags": []
   },
   "outputs": [],
   "source": [
    "print_score(ada, X, x1_test, Y, y1_test, train=True)\n",
    "print('------------------------------------------>>')\n",
    "print_score(ada, X, x1_test, Y, y1_test, train=False)\n"
   ]
  },
  {
   "cell_type": "markdown",
   "id": "84574f20-add3-449b-a6f5-2b50c7634e57",
   "metadata": {},
   "source": [
    "### 5) Log:"
   ]
  },
  {
   "cell_type": "code",
   "execution_count": null,
   "id": "0ea06f13-8c1e-469a-9607-c5a8f421fc5d",
   "metadata": {
    "tags": []
   },
   "outputs": [],
   "source": [
    "for a in X:\n",
    "    if a==0:\n",
    "        a==0.00000001\n",
    "for b in x1_test:\n",
    "    if b==0:\n",
    "        b==0.00000001\n",
    "x1_test\n"
   ]
  },
  {
   "cell_type": "code",
   "execution_count": null,
   "id": "57fc0726-e5e6-4838-9c4d-b3de88b35c65",
   "metadata": {
    "tags": []
   },
   "outputs": [],
   "source": [
    "X_log=np.log(X.reshape(-1,1))\n",
    "Y_log=Y.values.reshape(-1,1)\n",
    "xtest_log=np.log(x1_test)\n",
    "ytest_log=y1_test.values.reshape(-1,1)\n",
    "xtest_log\n"
   ]
  },
  {
   "cell_type": "code",
   "execution_count": null,
   "id": "c2740938-0318-4870-93b3-038c34596df4",
   "metadata": {
    "tags": []
   },
   "outputs": [],
   "source": [
    "import statsmodels.api as sm\n",
    "import statsmodels.formula.api as smf\n",
    "\n",
    "# Add a constant to the independent variable\n",
    "x_data = sm.add_constant(X)\n",
    "# Fit the model\n",
    "log = sm.OLS(np.log(Y), x_data)\n",
    "results = log.fit()\n",
    "# Extract the coefficients\n",
    "a, b = results.params\n",
    "# Predict the values\n",
    "y_pred = np.exp(a + b * x_data[:, 1])\n",
    "# Plot the data and the fitted curve\n",
    "plt.scatter(x_data[:, 1], Y, label=\"Data\")\n",
    "plt.plot(x_data[:, 1], y_pred, 'r', label=\"Fitted Curve\")\n",
    "plt.legend()\n",
    "plt.ylabel(\"co2_emissions_kt_by_country\")\n",
    "plt.xlabel(\"Renewable Energy Share\")\n",
    "plt.show()\n",
    "\n",
    "print(f\"Estimated coefficients: a = {a}, b = {b}\")\n"
   ]
  },
  {
   "cell_type": "markdown",
   "id": "bbf24005-9eea-4e3c-a3e3-663d286b7157",
   "metadata": {
    "tags": []
   },
   "source": [
    "## D\\ Carbon Emissions Vs Primary energy consumption per capita (kWh/person) :"
   ]
  },
  {
   "cell_type": "code",
   "execution_count": null,
   "id": "4724a8b6-297b-4cc5-8d78-73beafc49325",
   "metadata": {
    "tags": []
   },
   "outputs": [],
   "source": [
    "\n",
    "X=np.array(X_train['Primary energy consumption per capita (kWh/person)']).reshape(-1,1)\n",
    "Y=Y_train\n",
    "x1_test=np.array(X_test['Primary energy consumption per capita (kWh/person)'])\n",
    "y1_test=Y_test\n",
    "X\n"
   ]
  },
  {
   "cell_type": "markdown",
   "id": "482f631a-4c43-4c25-abf1-80ca0c41c49d",
   "metadata": {},
   "source": [
    "### 1) Ridge:"
   ]
  },
  {
   "cell_type": "code",
   "execution_count": null,
   "id": "4ad9af86-3a96-47c4-b061-b93cdb4f3d36",
   "metadata": {},
   "outputs": [],
   "source": [
    "from sklearn.linear_model import Ridge\n",
    "\n",
    "ridge=Ridge(alpha=0.5, fit_intercept=True)\n",
    "ridge.fit(X,Y)\n",
    "ridge_pred=ridge.predict(X)\n",
    "\n",
    "plt.figure(figsize=(10,8))\n",
    "plt.scatter(X,Y, color='blue',edgecolor='k',label='data')\n",
    "plt.plot(X,ridge_pred, color='red', linewidth=3,label='regression curve' )\n",
    "plt.legend(loc='best')\n",
    "plt.xlabel('Primary energy consumption per capita (kWh/person)')\n",
    "plt.ylabel(\"co2_emissions_kt_by_country\")\n",
    "ridge.coef_\n"
   ]
  },
  {
   "cell_type": "code",
   "execution_count": null,
   "id": "4686a5e7-2947-4d4d-ba4f-587df32e0526",
   "metadata": {
    "tags": []
   },
   "outputs": [],
   "source": [
    "print_score(ridge, X, x1_test, Y, y1_test, train=True)\n",
    "print('------------------------------------------>>')\n",
    "print_score(ridge, X, x1_test, Y, y1_test, train=False)\n"
   ]
  },
  {
   "cell_type": "markdown",
   "id": "b365e8da-7e5a-480a-a415-b29036e57940",
   "metadata": {
    "tags": []
   },
   "source": [
    "### 2) Decision Tree \n"
   ]
  },
  {
   "cell_type": "code",
   "execution_count": null,
   "id": "0341d82a-ab9b-401a-87b7-ba88ce11e04c",
   "metadata": {},
   "outputs": [],
   "source": [
    "from sklearn.tree import DecisionTreeRegressor\n",
    "\n",
    "tree=DecisionTreeRegressor(max_depth=3, min_samples_leaf=10)\n",
    "tree.fit(X,Y)\n"
   ]
  },
  {
   "cell_type": "code",
   "execution_count": null,
   "id": "51ce290a-1a95-4e2c-bd8b-ff724e06cc2b",
   "metadata": {
    "tags": []
   },
   "outputs": [],
   "source": [
    "sort_idx=x1_test.reshape(-1,1).flatten().argsort()\n",
    "plt.figure(figsize=(10,6))\n",
    "plt.scatter(X,Y, s=20,edgecolor='k', c='blue', label='data')\n",
    "plt.plot(x1_test[sort_idx],tree.predict(x1_test.reshape(-1,1))[sort_idx], \n",
    "         color='red', label='Regression max_depth=3',linewidth=2 )\n",
    "plt.xlabel('Primary energy consumption per capita (kWh/person)')\n",
    "plt.ylabel('Co2 Emissions')\n",
    "plt.legend()\n",
    "plt.show()\n"
   ]
  },
  {
   "cell_type": "code",
   "execution_count": null,
   "id": "f558d7e6-cc21-4ce3-a06d-5ea0122737d7",
   "metadata": {
    "tags": []
   },
   "outputs": [],
   "source": [
    "print_score(tree, X, x1_test, Y, y1_test, train=True)\n",
    "print('------------------------------------------>>')\n",
    "print_score(tree, X, x1_test, Y, y1_test, train=False)\n"
   ]
  },
  {
   "cell_type": "markdown",
   "id": "74207b5f-9cd1-4fe8-96b2-ab73a351a297",
   "metadata": {},
   "source": [
    "## <b><span style=\"color: #FF0000\"> Interpretation:</span> </b>\n",
    "\n",
    "R² test is -0.8% (with an MSE=0.4%) with Decision Tree  model."
   ]
  },
  {
   "cell_type": "markdown",
   "id": "210765e6-324e-4adc-a42f-c58401459467",
   "metadata": {},
   "source": [
    "## Plottig learning curve"
   ]
  },
  {
   "cell_type": "code",
   "execution_count": null,
   "id": "d0311333-e622-4cc7-9303-e8e55803acc6",
   "metadata": {
    "tags": []
   },
   "outputs": [],
   "source": [
    "from sklearn.model_selection import learning_curve\n",
    "\n",
    "train_sizes, train_scores, validation_scores = learning_curve(tree,X,Y\n",
    "                                                              ,train_sizes=[500,700, 1200, 1500, 2000, 2200],cv = 6,\n",
    "                                                              scoring = 'r2')\n",
    "print('Training scores:\\n\\n',train_scores)\n",
    "print('\\nValidation scores:\\n\\n', validation_scores)\n"
   ]
  },
  {
   "cell_type": "code",
   "execution_count": null,
   "id": "9324e9db-0067-4e77-891c-ba60ef33b145",
   "metadata": {
    "tags": []
   },
   "outputs": [],
   "source": [
    "train_scores_mean = -train_scores.mean(axis = 1)\n",
    "validation_scores_mean = -validation_scores.mean(axis = 1) #np.abs(\n",
    "y_pred=tree.predict(X)\n",
    "MSE_p=r2_score(Y,y_pred)\n",
    "\n",
    "plt.plot(train_sizes, train_scores_mean, label = 'Training error')\n",
    "plt.plot(train_sizes, validation_scores_mean, label = 'Validation error')\n",
    "plt.plot([500,700, 1200, 1500, 2000, 2200],[MSE_p,MSE_p,MSE_p,MSE_p,MSE_p,MSE_p], label='Desired', color='r')\n",
    "plt.ylabel('R²', fontsize = 14)\n",
    "plt.xlabel('Training set size', fontsize = 14)\n",
    "plt.title('Learning curves for Decision Tree model', fontsize = 14, y = 1.03)\n",
    "plt.legend()\n",
    "plt.ylim(-0.2,0.4)\n",
    "plt.show()\n"
   ]
  },
  {
   "cell_type": "markdown",
   "id": "dc6f4063-d540-43a4-8177-d9de416979d4",
   "metadata": {},
   "source": [
    "## <b><span style=\"color: #FF0000\"> Interpretation:</span> </b>\n",
    "\n",
    "Underfitting?"
   ]
  },
  {
   "cell_type": "markdown",
   "id": "18d165f0-177d-46a5-ab7a-2cd6897606b7",
   "metadata": {},
   "source": [
    "### 3) AdaBoost:"
   ]
  },
  {
   "cell_type": "code",
   "execution_count": null,
   "id": "48012a79-b9c2-4e60-814a-1ccf7d9d37d1",
   "metadata": {
    "tags": []
   },
   "outputs": [],
   "source": [
    "from sklearn.tree import DecisionTreeRegressor\n",
    "from sklearn.ensemble import AdaBoostRegressor\n",
    "\n",
    "ada=AdaBoostRegressor(DecisionTreeRegressor(max_depth=3), n_estimators=500, random_state=42)\n",
    "ada.fit(X ,np.array(Y))\n",
    "Y_train_predict=ada.predict(X)\n",
    "Y_test_predict=ada.predict(np.array(x1_test).reshape(-1,1))\n"
   ]
  },
  {
   "cell_type": "code",
   "execution_count": null,
   "id": "4b43e347-382a-4b67-95c6-7a70a5d814ed",
   "metadata": {
    "tags": []
   },
   "outputs": [],
   "source": [
    "plt.figure(figsize=(12,6))\n",
    "plt.scatter(X,Y, color='blue',edgecolor='k', label='Data')\n",
    "plt.scatter(x1_test,Y_test_predict, color='red', linewidth=3, label='Adaboost Regression' )\n",
    "plt.xlabel('Primary energy consumption per capita (kWh/person)')\n",
    "plt.ylabel('Co2 Emissions')\n",
    "plt.ylim(-0.05,0.6)\n",
    "plt.legend()\n",
    "plt.show()\n"
   ]
  },
  {
   "cell_type": "code",
   "execution_count": null,
   "id": "839605c3-4aa7-439b-bb27-f02434ee7736",
   "metadata": {
    "tags": []
   },
   "outputs": [],
   "source": [
    "print_score(ada, X, x1_test, Y, y1_test, train=True)\n",
    "print('------------------------------------------>>')\n",
    "print_score(ada, X, x1_test, Y, y1_test, train=False)\n"
   ]
  },
  {
   "cell_type": "markdown",
   "id": "6d0b5851-a182-402a-9f01-9e02d6e9d092",
   "metadata": {},
   "source": [
    "## <b><span style=\"color: #FF0000\"> Interpretation:</span> </b>\n",
    "\n",
    "R² test is -18% (with an MSE=1%) with Ada Boost  model. low fitting"
   ]
  },
  {
   "cell_type": "markdown",
   "id": "09ac2c33-faf8-4113-885c-7806946bc3dc",
   "metadata": {},
   "source": [
    "## Plottig learning curve"
   ]
  },
  {
   "cell_type": "code",
   "execution_count": null,
   "id": "191ca6cb-7aa6-4e23-b04e-15a4b3dcaa70",
   "metadata": {
    "tags": []
   },
   "outputs": [],
   "source": [
    "from sklearn.model_selection import learning_curve\n",
    "\n",
    "train_sizes, train_scores, validation_scores = learning_curve(ada,X,Y\n",
    "                                                              ,train_sizes=[500,700, 1200, 1500, 2000, 2200],cv = 6,\n",
    "                                                              scoring = 'neg_mean_squared_error')\n",
    "print('Training scores:\\n\\n',train_scores)\n",
    "print('\\nValidation scores:\\n\\n', validation_scores)\n"
   ]
  },
  {
   "cell_type": "code",
   "execution_count": null,
   "id": "e5a8fb0a-1cdb-4177-a991-9f67d74ac18d",
   "metadata": {
    "tags": []
   },
   "outputs": [],
   "source": [
    "train_scores_mean = -train_scores.mean(axis = 1)\n",
    "validation_scores_mean = -validation_scores.mean(axis = 1) #np.abs(\n",
    "y_pred=ada.predict(X)\n",
    "MSE_p=mean_squared_error(Y,y_pred)\n",
    "\n",
    "plt.plot(train_sizes, train_scores_mean, label = 'Training error')\n",
    "plt.plot(train_sizes, validation_scores_mean, label = 'Validation error')\n",
    "plt.plot([500,700, 1200, 1500, 2000, 2200],[MSE_p,MSE_p,MSE_p,MSE_p,MSE_p,MSE_p], label='Desired', color='r')\n",
    "plt.ylabel('MSE', fontsize = 14)\n",
    "plt.xlabel('Training set size', fontsize = 14)\n",
    "plt.title('Learning curves for Ada Boost model', fontsize = 14, y = 1.03)\n",
    "plt.legend()\n",
    "plt.ylim(0.005,0.013)\n",
    "plt.show()\n"
   ]
  },
  {
   "cell_type": "markdown",
   "id": "2ddb7435-cb7f-4f0c-ac75-10229b31bfb5",
   "metadata": {},
   "source": [
    "## <b><span style=\"color: #FF0000\"> Interpretation:</span> </b>\n",
    "\n",
    "Underfitting"
   ]
  },
  {
   "cell_type": "markdown",
   "id": "7e302115-8072-41f2-a5aa-270e7b87466f",
   "metadata": {},
   "source": [
    "## 3) Polynomial ##"
   ]
  },
  {
   "cell_type": "code",
   "execution_count": null,
   "id": "d653e53c-5931-4d14-b9ff-8434b7e4e574",
   "metadata": {
    "tags": []
   },
   "outputs": [],
   "source": [
    "from sklearn.linear_model import LinearRegression\n",
    "from sklearn.preprocessing import PolynomialFeatures\n",
    "\n",
    "poly=PolynomialFeatures(degree=2)\n",
    "X_poly=poly.fit_transform(X)\n",
    "poly2=LinearRegression()\n",
    "poly2.fit(X_poly,np.array(Y).reshape(-1,1))\n",
    "X_fit=np.arange(X.min(), X.max(),0.1)[:,np.newaxis]\n",
    "Y_pred=poly2.predict(poly.fit_transform(X_fit.reshape(-1,1)))\n",
    "X_fit\n"
   ]
  },
  {
   "cell_type": "code",
   "execution_count": null,
   "id": "b81dbeeb-974f-4573-bca0-d8d6ebf0c22a",
   "metadata": {
    "tags": []
   },
   "outputs": [],
   "source": [
    "\n",
    "plt.figure(figsize=(12,6))\n",
    "plt.scatter(X,Y, c='lightblue', edgecolor='k', label='Data')\n",
    "plt.plot(X_fit,Y_pred,c='orange', linewidth=3, label='Poly Regression')\n",
    "plt.xlabel('Primary energy consumption per capita (kWh/person)')\n",
    "plt.ylabel('Co2 Emissions')\n",
    "plt.legend()\n",
    "plt.show()\n"
   ]
  },
  {
   "cell_type": "code",
   "execution_count": null,
   "id": "fb11c3ed-7c6d-4123-b54c-78c4d99d4b58",
   "metadata": {
    "tags": []
   },
   "outputs": [],
   "source": [
    "\n",
    "print(f'model Coef={poly2.coef_}, R² ={r2_score(Y,poly2.predict(X_poly)):.3f}')\n",
    "print(f'R² test ={r2_score(np.array(y1_test).reshape(-1,1),poly2.predict(poly.fit_transform(x1_test.reshape(-1,1)))):.3f}')\n"
   ]
  },
  {
   "cell_type": "markdown",
   "id": "3de29145-ae7a-4314-9d4d-5ae07e4f27ac",
   "metadata": {},
   "source": [
    "## <b><span style=\"color: #FF0000\"> Interpretation:</span> </b>\n",
    "\n",
    "R² test is 2.1% with Polynomial model."
   ]
  },
  {
   "cell_type": "markdown",
   "id": "99014131-fde2-4316-bd99-4f5450759648",
   "metadata": {},
   "source": [
    "## E\\ Carbon Emissions Vs Electricity from fossil fuels :"
   ]
  },
  {
   "cell_type": "code",
   "execution_count": null,
   "id": "92df8360-7a89-4c7e-ae90-91b5495ee4c3",
   "metadata": {
    "tags": []
   },
   "outputs": [],
   "source": [
    "\n",
    "X=np.array(X_train['Electricity from fossil fuels (TWh)']).reshape(-1,1)\n",
    "Y=Y_train\n",
    "X1_test=np.array(X_test['Electricity from fossil fuels (TWh)']).reshape(-1,1)\n",
    "y1_test=Y_test\n",
    "len(X1_test)\n"
   ]
  },
  {
   "cell_type": "markdown",
   "id": "6d90ad85-f189-4802-9a5d-68f60cdb483c",
   "metadata": {},
   "source": [
    "### 1) Ridge:"
   ]
  },
  {
   "cell_type": "code",
   "execution_count": null,
   "id": "6c4a54db-c92f-4daf-af98-0200b8f36c0d",
   "metadata": {},
   "outputs": [],
   "source": [
    "from sklearn.linear_model import Ridge\n",
    "\n",
    "ridge=Ridge(alpha=0.5, fit_intercept=True)\n",
    "ridge.fit(X,Y)\n",
    "ridge_pred=ridge.predict(X)\n",
    "\n",
    "plt.figure(figsize=(10,8))\n",
    "plt.scatter(X,Y, color='blue',edgecolor='k', label='Data')\n",
    "plt.plot(X,ridge_pred, color='red', linewidth=3, label='Regression Curve' )\n",
    "plt.legend(loc='best')\n",
    "plt.xlabel('Fossil Fuels(TWh)')\n",
    "plt.ylabel(\"co2_emissions_kt_by_country\")\n",
    "ridge.coef_\n"
   ]
  },
  {
   "cell_type": "code",
   "execution_count": null,
   "id": "3a9a54b2-90aa-45d2-b601-d21d00032363",
   "metadata": {
    "tags": []
   },
   "outputs": [],
   "source": [
    "print_score(ridge, X, x1_test, Y, y1_test, train=True)\n",
    "print('------------------------------------------>>')\n",
    "print_score(ridge, X, x1_test, Y, y1_test, train=False)\n"
   ]
  },
  {
   "cell_type": "markdown",
   "id": "19984203-8513-4850-a5d2-d70d623d4677",
   "metadata": {},
   "source": [
    "## <b><span style=\"color: #FF0000\"> Interpretation:</span> </b>\n",
    "\n",
    "R² test is 75% (with an MSE=10^-3 %) with Ridge  model. High fitting"
   ]
  },
  {
   "cell_type": "markdown",
   "id": "a39d3c9c-b8d5-4087-89e2-8e44b9cc0910",
   "metadata": {},
   "source": [
    "## Plottig learning curve"
   ]
  },
  {
   "cell_type": "code",
   "execution_count": null,
   "id": "b41e8354-0310-46f9-a918-40c3ba8ae70e",
   "metadata": {
    "tags": []
   },
   "outputs": [],
   "source": [
    "from sklearn.model_selection import learning_curve\n",
    "\n",
    "train_sizes, train_scores, validation_scores = learning_curve(ridge,X,Y\n",
    "                                                              ,train_sizes=[100,500, 900, 1500, 2000, 2100],cv = 6,\n",
    "                                                              scoring = 'neg_mean_squared_error')\n",
    "print('Training scores:\\n\\n',train_scores)\n",
    "print('\\nValidation scores:\\n\\n', validation_scores)\n"
   ]
  },
  {
   "cell_type": "code",
   "execution_count": null,
   "id": "f9f63331-2b43-46b7-b725-970069c9ea68",
   "metadata": {
    "tags": []
   },
   "outputs": [],
   "source": [
    "train_scores_mean = -train_scores.mean(axis = 1)\n",
    "validation_scores_mean = -validation_scores.mean(axis = 1) #np.abs(\n",
    "y_pred=ridge.predict(X)\n",
    "MSE_p=mean_squared_error(Y,y_pred)\n",
    "\n",
    "plt.plot(train_sizes, train_scores_mean, label = 'Training error')\n",
    "plt.plot(train_sizes, validation_scores_mean, label = 'Validation error')\n",
    "plt.plot([500,700, 1200, 1500, 1900, 2100],[MSE_p,MSE_p,MSE_p,MSE_p,MSE_p,MSE_p], label='Desired', color='r')\n",
    "plt.ylabel('MSE', fontsize = 14)\n",
    "plt.xlabel('Training set size', fontsize = 14)\n",
    "plt.title('Learning curves for Ridge model', fontsize = 14, y = 1.03)\n",
    "plt.legend()\n",
    "plt.ylim(0,0.0002)\n",
    "plt.xlim(750,2100)\n",
    "plt.show()\n"
   ]
  },
  {
   "cell_type": "markdown",
   "id": "0fcd4fad-c097-49ad-b4ec-2914171d3df8",
   "metadata": {},
   "source": [
    "## <b><span style=\"color: #FF0000\"> Interpretation:</span> </b>\n",
    "\n",
    "Overfitting"
   ]
  },
  {
   "cell_type": "markdown",
   "id": "13a71bf9-a369-4b08-a1b6-17a00a678933",
   "metadata": {
    "tags": []
   },
   "source": [
    "### 2) Decision Tree \n"
   ]
  },
  {
   "cell_type": "code",
   "execution_count": null,
   "id": "677db502-a473-4f6e-b96c-d467bcecb096",
   "metadata": {},
   "outputs": [],
   "source": [
    "from sklearn.tree import DecisionTreeRegressor\n",
    "\n",
    "tree=DecisionTreeRegressor(max_depth=3, min_samples_leaf=50)\n",
    "tree.fit(X,Y)\n"
   ]
  },
  {
   "cell_type": "code",
   "execution_count": null,
   "id": "7d21b7c9-1ed1-4694-8b4e-51d2d7158646",
   "metadata": {
    "tags": []
   },
   "outputs": [],
   "source": [
    "sort_idx=x1_test.reshape(-1,1).flatten().argsort()\n",
    "plt.figure(figsize=(10,6))\n",
    "plt.scatter(X,Y, s=20,edgecolor='k', c='blue', label='data')\n",
    "plt.plot(x1_test[sort_idx],tree.predict(x1_test.reshape(-1,1))[sort_idx], \n",
    "         color='red', label='Regression max_depth=3',linewidth=2 )\n",
    "plt.xlabel('Fossil Fuels(TWh)')\n",
    "plt.ylabel('Co2 Emissions')\n",
    "plt.legend()\n",
    "plt.show()\n"
   ]
  },
  {
   "cell_type": "code",
   "execution_count": null,
   "id": "ab28d2b0-d9be-44a4-b567-4ea57ec29b62",
   "metadata": {
    "tags": []
   },
   "outputs": [],
   "source": [
    "print_score(tree, X, x1_test, Y, y1_test, train=True)\n",
    "print('------------------------------------------>>')\n",
    "print_score(tree, X, x1_test, Y, y1_test, train=False)\n"
   ]
  },
  {
   "cell_type": "markdown",
   "id": "f55387ff-d516-465c-8886-9b641e0f61e3",
   "metadata": {},
   "source": [
    "## Plottig learning curve"
   ]
  },
  {
   "cell_type": "code",
   "execution_count": null,
   "id": "156ee354-5792-4235-b0ad-a414bc8a6b9b",
   "metadata": {
    "tags": []
   },
   "outputs": [],
   "source": [
    "from sklearn.model_selection import learning_curve\n",
    "\n",
    "train_sizes, train_scores, validation_scores = learning_curve(tree,X,Y\n",
    "                                                              ,train_sizes=[500,700, 1200, 1500, 2000, 2100],cv = 6,\n",
    "                                                              scoring = 'r2')\n",
    "print('Training scores:\\n\\n',train_scores)\n",
    "print('\\nValidation scores:\\n\\n', validation_scores)\n"
   ]
  },
  {
   "cell_type": "code",
   "execution_count": null,
   "id": "b2b21007-d59f-4ab1-b62b-b6f410227286",
   "metadata": {
    "tags": []
   },
   "outputs": [],
   "source": [
    "train_scores_mean = -train_scores.mean(axis = 1)\n",
    "validation_scores_mean = -validation_scores.mean(axis = 1) #np.abs(\n",
    "y_pred=tree.predict(X)\n",
    "MSE_p=r2_score(Y,y_pred)\n",
    "\n",
    "plt.plot(train_sizes, train_scores_mean, label = 'Training error')\n",
    "plt.plot(train_sizes, validation_scores_mean, label = 'Validation error')\n",
    "plt.plot([500,700, 1200, 1500, 2000, 2100],[MSE_p,MSE_p,MSE_p,MSE_p,MSE_p,MSE_p], label='Desired', color='r')\n",
    "plt.ylabel('R²', fontsize = 14)\n",
    "plt.xlabel('Training set size', fontsize = 14)\n",
    "plt.title('Learning curves for Decision Tree model', fontsize = 14, y = 1.03)\n",
    "plt.legend()\n",
    "plt.ylim()\n",
    "plt.show()\n"
   ]
  },
  {
   "cell_type": "markdown",
   "id": "3ed99458-8b29-434f-a660-45420e6bde59",
   "metadata": {},
   "source": [
    "## <b><span style=\"color: #FF0000\"> Interpretation:</span> </b>\n",
    "\n",
    "Underfitting. model needing more samples"
   ]
  },
  {
   "cell_type": "markdown",
   "id": "ac08107f-38cd-421f-a449-bf443158d08f",
   "metadata": {},
   "source": [
    "### 3) AdaBoost:"
   ]
  },
  {
   "cell_type": "code",
   "execution_count": null,
   "id": "6fa13d37-08e8-4605-82a7-7e0642a3c0d1",
   "metadata": {
    "tags": []
   },
   "outputs": [],
   "source": [
    "from sklearn.tree import DecisionTreeRegressor\n",
    "from sklearn.ensemble import AdaBoostRegressor\n",
    "\n",
    "ada=AdaBoostRegressor(DecisionTreeRegressor(max_depth=3), n_estimators=500, random_state=42)\n",
    "ada.fit(X ,np.array(Y))\n",
    "Y_train_predict=ada.predict(X)\n",
    "Y_test_predict=ada.predict(np.array(x1_test).reshape(-1,1))\n"
   ]
  },
  {
   "cell_type": "code",
   "execution_count": null,
   "id": "8220fa20-974b-4c24-a72e-353ce221695b",
   "metadata": {
    "tags": []
   },
   "outputs": [],
   "source": [
    "plt.figure(figsize=(12,6))\n",
    "plt.scatter(X,Y, color='blue',edgecolor='k', label='Data')\n",
    "plt.scatter(x1_test,Y_test_predict, color='red', linewidth=3, label='Adaboost Regression' )\n",
    "plt.xlabel('Fossil Fuel TW/h')\n",
    "plt.ylabel('Co2 Emissions')\n",
    "plt.ylim()\n",
    "plt.legend()\n",
    "plt.show()\n"
   ]
  },
  {
   "cell_type": "code",
   "execution_count": null,
   "id": "fedadea7-9208-411e-8999-85c3cfdd1412",
   "metadata": {
    "tags": []
   },
   "outputs": [],
   "source": [
    "print_score(ada, X, x1_test, Y, y1_test, train=True)\n",
    "print('------------------------------------------>>')\n",
    "print_score(ada, X, x1_test, Y, y1_test, train=False)\n"
   ]
  },
  {
   "cell_type": "markdown",
   "id": "1a1dc889-a6fd-4751-a969-7bdbc5344f99",
   "metadata": {},
   "source": [
    "## <b><span style=\"color: #FF0000\"> Interpretation:</span> </b>\n",
    "\n",
    "R² test is 76% (with an MSE=9^-4%) with Ada Boost  model. high fitting"
   ]
  },
  {
   "cell_type": "markdown",
   "id": "0f17344f-8122-46a8-91a6-cb5623c5b055",
   "metadata": {},
   "source": [
    "## Plottig learning curve"
   ]
  },
  {
   "cell_type": "code",
   "execution_count": null,
   "id": "f7d9d4aa-c863-41e3-948a-acce62bf2c5f",
   "metadata": {
    "tags": []
   },
   "outputs": [],
   "source": [
    "from sklearn.model_selection import learning_curve\n",
    "\n",
    "train_sizes, train_scores, validation_scores = learning_curve(ada,X,Y\n",
    "                                                              ,train_sizes=[500,700, 1200, 1500, 2000, 2100],cv = 6,\n",
    "                                                              scoring = 'neg_mean_squared_error')\n",
    "print('Training scores:\\n\\n',train_scores)\n",
    "print('\\nValidation scores:\\n\\n', validation_scores)\n"
   ]
  },
  {
   "cell_type": "code",
   "execution_count": null,
   "id": "8a73616e-d875-4f50-9d13-be35ba17be62",
   "metadata": {
    "tags": []
   },
   "outputs": [],
   "source": [
    "train_scores_mean = -train_scores.mean(axis = 1)\n",
    "validation_scores_mean = -validation_scores.mean(axis = 1) #np.abs(\n",
    "y_pred=ada.predict(X)\n",
    "MSE_p=mean_squared_error(Y,y_pred)\n",
    "\n",
    "plt.plot(train_sizes, train_scores_mean, label = 'Training error')\n",
    "plt.plot(train_sizes, validation_scores_mean, label = 'Validation error')\n",
    "plt.plot([500,700, 1200, 1500, 2000, 2200],[MSE_p,MSE_p,MSE_p,MSE_p,MSE_p,MSE_p], label='Desired', color='r')\n",
    "plt.ylabel('MSE', fontsize = 14)\n",
    "plt.xlabel('Training set size', fontsize = 14)\n",
    "plt.title('Learning curves for Ada Boost model', fontsize = 14, y = 1.03)\n",
    "plt.legend()\n",
    "plt.ylim()\n",
    "plt.show()\n"
   ]
  },
  {
   "cell_type": "markdown",
   "id": "4ff00943-fd12-4281-9cca-10269c312bba",
   "metadata": {},
   "source": [
    "## <b><span style=\"color: #FF0000\"> Interpretation:</span> </b>\n",
    "\n",
    "Good Vaiance/Bias trade off"
   ]
  },
  {
   "cell_type": "markdown",
   "id": "0da2cbcf-591e-4473-9be3-87bcfde8d47c",
   "metadata": {},
   "source": [
    "## F\\ Carbon Emissions Vs Electricity from Renewables :"
   ]
  },
  {
   "cell_type": "code",
   "execution_count": null,
   "id": "69b89504-9d9a-4c3a-8954-5f86dfb854af",
   "metadata": {
    "tags": []
   },
   "outputs": [],
   "source": [
    "\n",
    "X=np.array(X_train['Electricity from renewables (TWh)']).reshape(-1,1)\n",
    "Y=Y_train\n",
    "x1_test=np.array(X_test['Electricity from renewables (TWh)'])\n",
    "y1_test=Y_test\n",
    "len(x1_test)\n"
   ]
  },
  {
   "cell_type": "markdown",
   "id": "e29b20ef-9881-4443-b84d-36aff8d17902",
   "metadata": {},
   "source": [
    "### 1) Ridge:"
   ]
  },
  {
   "cell_type": "code",
   "execution_count": null,
   "id": "f31827cf-0ff7-4c0c-b2db-b542122fa693",
   "metadata": {},
   "outputs": [],
   "source": [
    "from sklearn.linear_model import Ridge\n",
    "\n",
    "ridge=Ridge(alpha=0.5, fit_intercept=True)\n",
    "ridge.fit(X,Y)\n",
    "ridge_pred=ridge.predict(X)\n",
    "\n",
    "plt.figure(figsize=(10,8))\n",
    "plt.scatter(X,Y, color='blue',edgecolor='k', label='Data')\n",
    "plt.plot(X,ridge_pred, color='red', linewidth=3, label='Regression Curve' )\n",
    "plt.legend(loc='best')\n",
    "plt.xlabel('Electricity from renewables (TWh)')\n",
    "plt.ylabel(\"co2_emissions_kt_by_country\")\n",
    "ridge.coef_\n"
   ]
  },
  {
   "cell_type": "code",
   "execution_count": null,
   "id": "6742ca0b-d497-484b-9c07-dea4efe6efb5",
   "metadata": {
    "tags": []
   },
   "outputs": [],
   "source": [
    "print_score(ridge, X, x1_test, Y, y1_test, train=True)\n",
    "print('------------------------------------------>>')\n",
    "print_score(ridge, X, x1_test, Y, y1_test, train=False)\n"
   ]
  },
  {
   "cell_type": "markdown",
   "id": "4147e51a-eafc-4a66-9e7c-1b70207bb549",
   "metadata": {},
   "source": [
    "## Plottig learning curve"
   ]
  },
  {
   "cell_type": "code",
   "execution_count": null,
   "id": "8ce6fe98-cbdd-45f6-a258-539c8f0c6a52",
   "metadata": {
    "tags": []
   },
   "outputs": [],
   "source": [
    "from sklearn.model_selection import learning_curve\n",
    "\n",
    "train_sizes, train_scores, validation_scores = learning_curve(ridge,X,Y\n",
    "                                                              ,train_sizes=[100,500, 900, 1500, 2000, 2100],cv = 6,\n",
    "                                                              scoring = 'neg_mean_squared_error')\n",
    "print('Training scores:\\n\\n',train_scores)\n",
    "print('\\nValidation scores:\\n\\n', validation_scores)\n"
   ]
  },
  {
   "cell_type": "code",
   "execution_count": null,
   "id": "9782f7a6-0ca8-4e6f-bf8c-ecac5e8c47a1",
   "metadata": {
    "tags": []
   },
   "outputs": [],
   "source": [
    "train_scores_mean = -train_scores.mean(axis = 1)\n",
    "validation_scores_mean = -validation_scores.mean(axis = 1) #np.abs(\n",
    "y_pred=ridge.predict(X)\n",
    "MSE_p=mean_squared_error(Y,y_pred)\n",
    "\n",
    "plt.plot(train_sizes, train_scores_mean, label = 'Training error')\n",
    "plt.plot(train_sizes, validation_scores_mean, label = 'Validation error')\n",
    "plt.plot([500,700, 1200, 1500, 1900, 2100],[MSE_p,MSE_p,MSE_p,MSE_p,MSE_p,MSE_p], label='Desired', color='r')\n",
    "plt.ylabel('MSE', fontsize = 14)\n",
    "plt.xlabel('Training set size', fontsize = 14)\n",
    "plt.title('Learning curves for Ridge model', fontsize = 14, y = 1.03)\n",
    "plt.legend()\n",
    "plt.ylim(0.0013, 0.0018)\n",
    "plt.show()\n"
   ]
  },
  {
   "cell_type": "markdown",
   "id": "c7a8525d-145f-4cd5-9210-12d4b24fda16",
   "metadata": {},
   "source": [
    "## <b><span style=\"color: #FF0000\"> Interpretation:</span> </b>\n",
    "\n",
    "Overfitting"
   ]
  },
  {
   "cell_type": "markdown",
   "id": "6a2acbd3-08d0-4439-837f-5c875b62db69",
   "metadata": {
    "tags": []
   },
   "source": [
    "### 2) Decision Tree \n"
   ]
  },
  {
   "cell_type": "code",
   "execution_count": null,
   "id": "208b9667-ea17-4e1e-a7b8-6c91e6df8fac",
   "metadata": {},
   "outputs": [],
   "source": [
    "from sklearn.tree import DecisionTreeRegressor\n",
    "\n",
    "tree=DecisionTreeRegressor(max_depth=3, min_samples_leaf=50)\n",
    "tree.fit(X,Y)\n"
   ]
  },
  {
   "cell_type": "code",
   "execution_count": null,
   "id": "a9aecec5-7269-4680-824e-2db552b028b0",
   "metadata": {
    "tags": []
   },
   "outputs": [],
   "source": [
    "sort_idx=x1_test.reshape(-1,1).flatten().argsort()\n",
    "plt.figure(figsize=(10,6))\n",
    "plt.scatter(X,Y, s=20,edgecolor='k', c='blue', label='data')\n",
    "plt.plot(x1_test[sort_idx],tree.predict(x1_test.reshape(-1,1))[sort_idx], \n",
    "         color='red', label='Regression max_depth=3',linewidth=2 )\n",
    "plt.xlabel('Electricity from renewables (TWh)')\n",
    "plt.ylabel('Co2 Emissions')\n",
    "plt.legend()\n",
    "plt.show()\n"
   ]
  },
  {
   "cell_type": "code",
   "execution_count": null,
   "id": "3a43c5dc-62ee-4f27-a743-6edf35b3b702",
   "metadata": {
    "tags": []
   },
   "outputs": [],
   "source": [
    "print_score(tree, X, x1_test, Y, y1_test, train=True)\n",
    "print('------------------------------------------>>')\n",
    "print_score(tree, X, x1_test, Y, y1_test, train=False)\n"
   ]
  },
  {
   "cell_type": "markdown",
   "id": "330943bc-be01-4962-8701-11d87da97863",
   "metadata": {},
   "source": [
    "## Plottig learning curve"
   ]
  },
  {
   "cell_type": "code",
   "execution_count": null,
   "id": "6bb563e8-7d11-4f50-823a-0b3c6c9c7801",
   "metadata": {
    "tags": []
   },
   "outputs": [],
   "source": [
    "from sklearn.model_selection import learning_curve\n",
    "\n",
    "train_sizes, train_scores, validation_scores = learning_curve(tree,X,Y\n",
    "                                                              ,train_sizes=[500,700, 1200, 1500, 2000, 2100],cv = 6,\n",
    "                                                              scoring = 'r2')\n",
    "print('Training scores:\\n\\n',train_scores)\n",
    "print('\\nValidation scores:\\n\\n', validation_scores)\n"
   ]
  },
  {
   "cell_type": "code",
   "execution_count": null,
   "id": "dfcf6011-c7e3-4ec6-a015-d44b6af20313",
   "metadata": {
    "tags": []
   },
   "outputs": [],
   "source": [
    "train_scores_mean = -train_scores.mean(axis = 1)\n",
    "validation_scores_mean = -validation_scores.mean(axis = 1) #np.abs(\n",
    "y_pred=tree.predict(X)\n",
    "MSE_p=r2_score(Y,y_pred)\n",
    "\n",
    "plt.plot(train_sizes, train_scores_mean, label = 'Training error')\n",
    "plt.plot(train_sizes, validation_scores_mean, label = 'Validation error')\n",
    "plt.plot([500,700, 1200, 1500, 2000, 2100],[MSE_p,MSE_p,MSE_p,MSE_p,MSE_p,MSE_p], label='Desired', color='r')\n",
    "plt.ylabel('R²', fontsize = 14)\n",
    "plt.xlabel('Training set size', fontsize = 14)\n",
    "plt.title('Learning curves for Decision Tree model', fontsize = 14, y = 1.03)\n",
    "plt.legend()\n",
    "plt.ylim()\n",
    "plt.show()\n"
   ]
  },
  {
   "cell_type": "markdown",
   "id": "7dd88fe6-f2a9-4165-97eb-6dec18944263",
   "metadata": {},
   "source": [
    "## <b><span style=\"color: #FF0000\"> Interpretation:</span> </b>\n",
    "\n",
    "Underfitting. model needing more samples"
   ]
  },
  {
   "cell_type": "markdown",
   "id": "9d2e4526-7cc2-402f-9a8a-b8644cc2a5b9",
   "metadata": {},
   "source": [
    "### 3) AdaBoost:"
   ]
  },
  {
   "cell_type": "code",
   "execution_count": null,
   "id": "fc86dd54-5758-4e70-8631-e5bba6229cda",
   "metadata": {
    "tags": []
   },
   "outputs": [],
   "source": [
    "from sklearn.tree import DecisionTreeRegressor\n",
    "from sklearn.ensemble import AdaBoostRegressor\n",
    "\n",
    "ada=AdaBoostRegressor(DecisionTreeRegressor(max_depth=3), n_estimators=500, random_state=42)\n",
    "ada.fit(X ,np.array(Y))\n",
    "Y_train_predict=ada.predict(X)\n",
    "Y_test_predict=ada.predict(np.array(x1_test).reshape(-1,1))\n"
   ]
  },
  {
   "cell_type": "code",
   "execution_count": null,
   "id": "15ec5de3-1d25-4e24-bcab-db10e8806b36",
   "metadata": {
    "tags": []
   },
   "outputs": [],
   "source": [
    "plt.figure(figsize=(12,6))\n",
    "plt.scatter(X,Y, color='blue',edgecolor='k', label='Data')\n",
    "plt.scatter(x1_test,Y_test_predict, color='red', linewidth=3, label='Adaboost Regression' )\n",
    "plt.xlabel('Fossil Fuel TW/h')\n",
    "plt.ylabel('Co2 Emissions')\n",
    "plt.ylim()\n",
    "plt.legend()\n",
    "plt.show()\n"
   ]
  },
  {
   "cell_type": "code",
   "execution_count": null,
   "id": "1494602f-9298-4577-a312-9bef5b9feee4",
   "metadata": {
    "tags": []
   },
   "outputs": [],
   "source": [
    "print_score(ada, X, x1_test, Y, y1_test, train=True)\n",
    "print('------------------------------------------>>')\n",
    "print_score(ada, X, x1_test, Y, y1_test, train=False)\n"
   ]
  },
  {
   "cell_type": "markdown",
   "id": "23d1b24e-2b6d-4b89-84c4-c69dea3ef2f1",
   "metadata": {},
   "source": [
    "## <b><span style=\"color: #FF0000\"> Interpretation:</span> </b>\n",
    "\n",
    "R² test is 76% (with an MSE=9*10^-4%)  with Ada Boost  model. high fitting"
   ]
  },
  {
   "cell_type": "markdown",
   "id": "7b2d4df8-1596-4b53-a865-b89dd105929a",
   "metadata": {},
   "source": [
    "## Plottig learning curve"
   ]
  },
  {
   "cell_type": "code",
   "execution_count": null,
   "id": "54828283-bee6-40f4-b12a-13da1b63fa4c",
   "metadata": {
    "tags": []
   },
   "outputs": [],
   "source": [
    "from sklearn.model_selection import learning_curve\n",
    "\n",
    "train_sizes, train_scores, validation_scores = learning_curve(ada,X,Y\n",
    "                                                              ,train_sizes=[500,700, 1200, 1500, 2000, 2100],cv = 6,\n",
    "                                                              scoring = 'neg_mean_squared_error')\n",
    "print('Training scores:\\n\\n',train_scores)\n",
    "print('\\nValidation scores:\\n\\n', validation_scores)\n"
   ]
  },
  {
   "cell_type": "code",
   "execution_count": null,
   "id": "c9464586-9f17-48ee-91c2-845f64e598a7",
   "metadata": {
    "tags": []
   },
   "outputs": [],
   "source": [
    "train_scores_mean = -train_scores.mean(axis = 1)\n",
    "validation_scores_mean = -validation_scores.mean(axis = 1) #np.abs(\n",
    "y_pred=ada.predict(X)\n",
    "MSE_p=mean_squared_error(Y,y_pred)\n",
    "\n",
    "plt.plot(train_sizes, train_scores_mean, label = 'Training error')\n",
    "plt.plot(train_sizes, validation_scores_mean, label = 'Validation error')\n",
    "plt.plot([500,700, 1200, 1500, 2000, 2200],[MSE_p,MSE_p,MSE_p,MSE_p,MSE_p,MSE_p], label='Desired', color='r')\n",
    "plt.ylabel('MSE', fontsize = 14)\n",
    "plt.xlabel('Training set size', fontsize = 14)\n",
    "plt.title('Learning curves for Ada Boost model', fontsize = 14, y = 1.03)\n",
    "plt.legend()\n",
    "plt.ylim()\n",
    "plt.show()\n"
   ]
  },
  {
   "cell_type": "markdown",
   "id": "8b8af77f-ca78-418b-9cc5-ecde44b2638d",
   "metadata": {},
   "source": [
    "## <b><span style=\"color: #FF0000\"> Interpretation:</span> </b>\n",
    "\n",
    "Good Vaiance/Bias trade off"
   ]
  },
  {
   "cell_type": "markdown",
   "id": "091e1c45-87cc-43c3-9df2-ac2d4b4fecc0",
   "metadata": {},
   "source": [
    "## 4) Polynomial ##"
   ]
  },
  {
   "cell_type": "code",
   "execution_count": null,
   "id": "59b19a1f-3d32-4069-8df6-aab3886d3a41",
   "metadata": {
    "tags": []
   },
   "outputs": [],
   "source": [
    "from sklearn.linear_model import LinearRegression\n",
    "from sklearn.preprocessing import PolynomialFeatures\n",
    "from sklearn.pipeline import make_pipeline\n",
    "\n",
    "\n",
    "poly=PolynomialFeatures(degree=3)\n",
    "X_poly=poly.fit_transform(X)\n",
    "poly2=LinearRegression()\n",
    "model = make_pipeline(PolynomialFeatures(3), LinearRegression())\n",
    "poly2.fit(X_poly,np.array(Y).reshape(-1,1))\n",
    "X_fit=np.arange(X.min(), X.max(),0.1)[:,np.newaxis]\n",
    "Y_pred=poly2.predict(poly.fit_transform(X_fit.reshape(-1,1)))\n",
    "X_fit\n"
   ]
  },
  {
   "cell_type": "code",
   "execution_count": null,
   "id": "8970397e-8898-48d4-8504-b5ef66d9a28a",
   "metadata": {
    "tags": []
   },
   "outputs": [],
   "source": [
    "\n",
    "plt.figure(figsize=(12,6))\n",
    "plt.scatter(X,Y, c='lightblue', edgecolor='k', label='Data')\n",
    "plt.plot(X_fit,Y_pred,c='orange', linewidth=3, label='Poly Regression')\n",
    "plt.xlabel('Energy from Renewables TW/h')\n",
    "plt.ylabel('Co2 Emissions')\n",
    "plt.legend()\n",
    "plt.show()\n"
   ]
  },
  {
   "cell_type": "code",
   "execution_count": null,
   "id": "ae0933db-d858-4e4f-bb9d-21ef468b0dae",
   "metadata": {
    "tags": []
   },
   "outputs": [],
   "source": [
    "\n",
    "print(f'model Coef={poly2.coef_}, R² ={r2_score(Y,poly2.predict(X_poly)):.3f}')\n",
    "print(f'R² test ={r2_score(np.array(y1_test).reshape(-1,1),poly2.predict(poly.fit_transform(x1_test.reshape(-1,1)))):.3f}')\n"
   ]
  },
  {
   "cell_type": "markdown",
   "id": "ffaaadb7-e1e4-4bec-a4c3-364355893a79",
   "metadata": {},
   "source": [
    "## <b><span style=\"color: #FF0000\"> Interpretation:</span> </b>\n",
    "\n",
    "R² test is 76% with Polynomial model. best fitting result."
   ]
  },
  {
   "cell_type": "markdown",
   "id": "a6f57f65-ef16-465c-b1d9-a56fd91d51fa",
   "metadata": {},
   "source": [
    "## Plottig learning curve"
   ]
  },
  {
   "cell_type": "code",
   "execution_count": null,
   "id": "dc7838e8-9c32-4881-a01b-b9c95bad2387",
   "metadata": {
    "tags": []
   },
   "outputs": [],
   "source": [
    "from sklearn.model_selection import learning_curve\n",
    "\n",
    "train_sizes, train_scores, test_scores = learning_curve(model,X,Y\n",
    "                                                              ,train_sizes=[500,700, 1200, 1500, 1800, 2000],cv = 5,\n",
    "                                                              scoring = 'neg_mean_squared_error')\n",
    "train_scores_mean = -np.mean(train_scores, axis=1)\n",
    "train_scores_std = np.std(train_scores, axis=1)\n",
    "test_scores_mean = -np.mean(test_scores, axis=1)\n",
    "test_scores_std = np.std(test_scores, axis=1)\n",
    "print('Training scores:\\n\\n',train_scores_mean)\n",
    "print('\\nTest scores:\\n\\n', test_scores_mean)\n"
   ]
  },
  {
   "cell_type": "code",
   "execution_count": null,
   "id": "f5064c89-39fe-4162-9d28-506aee91fea7",
   "metadata": {
    "tags": []
   },
   "outputs": [],
   "source": [
    "train_scores_mean = -train_scores.mean(axis = 1)\n",
    "validation_scores_mean = -validation_scores.mean(axis = 1) \n",
    "y_pred=ada.predict(X)\n",
    "MSE_p=mean_squared_error(Y,y_pred)\n",
    "\n",
    "plt.fill_between(train_sizes, train_scores_mean - train_scores_std, train_scores_mean + train_scores_std, alpha=0.1, color=\"r\")\n",
    "plt.fill_between(train_sizes, test_scores_mean - test_scores_std, test_scores_mean + test_scores_std, alpha=0.1, color=\"g\")\n",
    "plt.plot(train_sizes, train_scores_mean, '-.', color=\"b\", label=\"Training error\")\n",
    "plt.plot(train_sizes, test_scores_mean, 'o-', color=\"g\", label=\"Cross-validation score\")\n",
    "plt.plot([500,700, 1200, 1500, 2000, 2200],[MSE_p,MSE_p,MSE_p,MSE_p,MSE_p,MSE_p], label='Desired', color='r')\n",
    "\n",
    "plt.ylabel('MSE', fontsize = 14)\n",
    "plt.xlabel('Training set size', fontsize = 14)\n",
    "plt.title('Learning curves for Polynomial 3', fontsize = 14, y = 1.03)\n",
    "plt.legend()\n",
    "plt.ylim(0.0010,0.0021)\n",
    "plt.show()\n"
   ]
  },
  {
   "cell_type": "markdown",
   "id": "600abfdc-be37-4531-ba33-629e366ed65e",
   "metadata": {},
   "source": [
    "## <b><span style=\"color: #FF0000\"> Interpretation:</span> </b>\n",
    "\n",
    "Overfitting"
   ]
  },
  {
   "cell_type": "code",
   "execution_count": null,
   "id": "835ff07a-6a27-459b-97b4-c13a41cf5df0",
   "metadata": {},
   "outputs": [],
   "source": []
  },
  {
   "cell_type": "code",
   "execution_count": null,
   "id": "3a4b2404-a40d-4605-853a-74466e4bf82d",
   "metadata": {},
   "outputs": [],
   "source": []
  }
 ],
 "metadata": {
  "colab": {
   "provenance": []
  },
  "kernelspec": {
   "display_name": "Python 3 (ipykernel)",
   "language": "python",
   "name": "python3"
  },
  "language_info": {
   "codemirror_mode": {
    "name": "ipython",
    "version": 3
   },
   "file_extension": ".py",
   "mimetype": "text/x-python",
   "name": "python",
   "nbconvert_exporter": "python",
   "pygments_lexer": "ipython3",
   "version": "3.9.17"
  },
  "toc-autonumbering": false,
  "toc-showmarkdowntxt": true
 },
 "nbformat": 4,
 "nbformat_minor": 5
}
