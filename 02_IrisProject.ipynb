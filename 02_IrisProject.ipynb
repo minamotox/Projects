{
 "cells": [
  {
   "cell_type": "code",
   "execution_count": null,
   "id": "c2fb0809-3fff-48fb-8df9-2fca2eadc538",
   "metadata": {},
   "outputs": [],
   "source": [
    "import numpy as np\n",
    "import pandas as pd\n",
    "import seaborn as sns\n",
    "import matplotlib.pyplot as plt\n",
    "sns.set(color_codes=True)\n",
    "%matplotlib inline\n"
   ]
  },
  {
   "cell_type": "markdown",
   "id": "b5448880-cf54-4e2f-ab51-40771e2b1df6",
   "metadata": {},
   "source": [
    "> # __Iris dataset__ #"
   ]
  },
  {
   "cell_type": "code",
   "execution_count": null,
   "id": "04d51e6b-ff79-455b-b3bc-d09fb134a42d",
   "metadata": {},
   "outputs": [],
   "source": [
    "Iris=pd.read_csv('Iris.csv')\n",
    "Iris.head()\n",
    "Iris.columns=['id', 'Sepal Length', 'Sepal Width', 'Petal Length', 'Petal Width', 'Species']\n",
    "Iris\n"
   ]
  },
  {
   "cell_type": "code",
   "execution_count": null,
   "id": "f71bedce-af6f-4f0b-a3c4-eaa1df39ea8b",
   "metadata": {},
   "outputs": [],
   "source": [
    "sns.pairplot(Iris,hue='Species', height=3, aspect=1)\n",
    "plt.show()"
   ]
  },
  {
   "cell_type": "code",
   "execution_count": null,
   "id": "e28e4ba8-2cde-4856-b131-4118f4b07c41",
   "metadata": {},
   "outputs": [],
   "source": [
    "#Separate histo\n",
    "ig,ax=plt.subplots()\n",
    "ax.hist(Iris['Sepal Length'],bins=20, edgecolor='Black',linewidth=1.2,\n",
    "        label ='Sepal Length', color=['r'])\n",
    "ax.legend(loc='upper right')\n",
    "ig,ax=plt.subplots()\n",
    "ax.hist(Iris['Sepal Width'],bins=20, edgecolor='Black',linewidth=1.2,\n",
    "        label ='Sepal Width', color=['orange'])\n",
    "ax.legend(loc='upper right')\n",
    "ig,ax=plt.subplots()\n",
    "ax.hist(Iris['Petal Length'],bins=20, edgecolor='Black',linewidth=1.2,\n",
    "        label ='Petal Length', color=['Blue'])\n",
    "ax.legend(loc='upper right')\n",
    "ig,ax=plt.subplots()\n",
    "ax.hist(Iris['Petal Width'],bins=20, edgecolor='Black',linewidth=1.2,\n",
    "        label ='Petal Width', color=['Green'])\n",
    "ax.legend(loc='upper right')\n",
    "ig,ax=plt.subplots()\n",
    "ax.hist(Iris['Species'],bins=20, edgecolor='Black',linewidth=1.2,\n",
    "        label ='Species', color=['Yellow'])\n",
    "ax.legend(loc='upper right')\n",
    "plt.show()\n"
   ]
  },
  {
   "cell_type": "code",
   "execution_count": null,
   "id": "fad0aaf9-913d-42e1-bd7b-323fa5192128",
   "metadata": {},
   "outputs": [],
   "source": [
    "#cumulate histo\n",
    "sns.color_palette('muted')\n",
    "Iris.hist(edgecolor='black',linewidth=1.2,figsize=(12,8)) #,color='b'\n",
    "plt.show()\n"
   ]
  },
  {
   "cell_type": "code",
   "execution_count": null,
   "id": "d3517a5d-451a-4bf9-8310-d2bd9d3dd55f",
   "metadata": {},
   "outputs": [],
   "source": [
    "#Violin plot\n",
    "sns.color_palette('pastel')\n",
    "plt.figure(figsize=(12,8))\n",
    "plt.subplot(2,2,1)\n",
    "sns.violinplot(x='Species', y='Sepal Length',data=Iris)\n",
    "plt.subplot(2,2,2)\n",
    "sns.violinplot(x='Species', y='Sepal Width',data=Iris)\n",
    "plt.subplot(2,2,3)\n",
    "sns.violinplot(x='Species', y='Petal Length',data=Iris)\n",
    "plt.subplot(2,2,4)\n",
    "sns.violinplot(x='Species', y='Petal Width',data=Iris)\n",
    "\n",
    "plt.show()\n"
   ]
  },
  {
   "cell_type": "code",
   "execution_count": null,
   "id": "c36e31ce-8650-40c5-a312-d0997c26d112",
   "metadata": {},
   "outputs": [],
   "source": [
    "#box plot\n",
    "plt.subplot(2,2,1)\n",
    "sns.boxplot(data=Iris, x='Species',y='Sepal Length')\n",
    "plt.subplot(2,2,2)\n",
    "sns.boxplot(data=Iris, x='Species',y='Sepal Width')\n",
    "plt.subplot(2,2,3)\n",
    "sns.boxplot(data=Iris, x='Species',y='Petal Length')\n",
    "plt.subplot(2,2,4)\n",
    "sns.boxplot(data=Iris, x='Species',y='Petal Width')\n",
    "plt.show()\n"
   ]
  },
  {
   "cell_type": "code",
   "execution_count": null,
   "id": "9d643e1a-009a-4b81-b480-314ae8f60ab0",
   "metadata": {},
   "outputs": [],
   "source": [
    "#Scatter matrix\n",
    "sns.color_palette('bright')\n",
    "pd.plotting.scatter_matrix(Iris, figsize=(12,8))\n",
    "plt.show()\n"
   ]
  },
  {
   "cell_type": "code",
   "execution_count": null,
   "id": "be0afff7-a7a8-42d3-a79d-59683e4cae38",
   "metadata": {},
   "outputs": [],
   "source": [
    "sns.pairplot(Iris, hue='Species',diag_kind='kde')"
   ]
  }
 ],
 "metadata": {
  "kernelspec": {
   "display_name": "Python 3 (ipykernel)",
   "language": "python",
   "name": "python3"
  },
  "language_info": {
   "codemirror_mode": {
    "name": "ipython",
    "version": 3
   },
   "file_extension": ".py",
   "mimetype": "text/x-python",
   "name": "python",
   "nbconvert_exporter": "python",
   "pygments_lexer": "ipython3",
   "version": "3.11.0"
  }
 },
 "nbformat": 4,
 "nbformat_minor": 5
}
